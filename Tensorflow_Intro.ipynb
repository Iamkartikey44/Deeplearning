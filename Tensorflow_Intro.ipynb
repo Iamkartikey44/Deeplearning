{
  "nbformat": 4,
  "nbformat_minor": 0,
  "metadata": {
    "colab": {
      "provenance": []
    },
    "kernelspec": {
      "name": "python3",
      "display_name": "Python 3"
    },
    "language_info": {
      "name": "python"
    }
  },
  "cells": [
    {
      "cell_type": "code",
      "execution_count": 1,
      "metadata": {
        "id": "2M0u1yYslsqk"
      },
      "outputs": [],
      "source": [
        "import tensorflow as tf\n",
        "import numpy as np"
      ]
    },
    {
      "cell_type": "markdown",
      "source": [
        "# <font color='blue'>Making Tensor</font>"
      ],
      "metadata": {
        "id": "qfiGoNREmOFP"
      }
    },
    {
      "cell_type": "code",
      "source": [
        "tensor_zero_d = tf.constant(4)\n",
        "print(tensor_zero_d)\n",
        "tensor_one_d = tf.constant([2,0,-3,9.0],dtype=tf.float32)\n",
        "print(tensor_one_d)\n",
        "\n",
        "casted_tensor_one_d = tf.cast(tensor_one_d,dtype=tf.int16)\n",
        "print(casted_tensor_one_d)\n",
        "casted_tensor_one_d = tf.cast(tensor_one_d,dtype=tf.bool)\n",
        "print(casted_tensor_one_d)"
      ],
      "metadata": {
        "colab": {
          "base_uri": "https://localhost:8080/"
        },
        "id": "0zNL0dIqmIuE",
        "outputId": "bc003a24-8816-4932-8c14-c48f0b258f07"
      },
      "execution_count": null,
      "outputs": [
        {
          "output_type": "stream",
          "name": "stdout",
          "text": [
            "tf.Tensor(4, shape=(), dtype=int32)\n",
            "tf.Tensor([ 2.  0. -3.  9.], shape=(4,), dtype=float32)\n",
            "tf.Tensor([ 2  0 -3  9], shape=(4,), dtype=int16)\n",
            "tf.Tensor([ True False  True  True], shape=(4,), dtype=bool)\n"
          ]
        }
      ]
    },
    {
      "cell_type": "code",
      "source": [
        "tensor_two_d = tf.constant([\n",
        "    [1,2,0],\n",
        "    [3,5,-1],\n",
        "    [1,5,6],\n",
        "    [2,3,8]\n",
        "])\n",
        "print(tensor_two_d)"
      ],
      "metadata": {
        "colab": {
          "base_uri": "https://localhost:8080/"
        },
        "id": "iZ23Z_1Cl2Ha",
        "outputId": "e7c7e848-2dc1-41e7-d02b-c236c785e595"
      },
      "execution_count": null,
      "outputs": [
        {
          "output_type": "stream",
          "name": "stdout",
          "text": [
            "tf.Tensor(\n",
            "[[ 1  2  0]\n",
            " [ 3  5 -1]\n",
            " [ 1  5  6]\n",
            " [ 2  3  8]], shape=(4, 3), dtype=int32)\n"
          ]
        }
      ]
    },
    {
      "cell_type": "code",
      "source": [
        "tensor_three_d = tf.constant([\n",
        "    [[1,2,0],\n",
        "     [3,5,-1]],\n",
        "\n",
        "    [[10,2,0],\n",
        "     [1,0,2]],\n",
        "\n",
        "    [[5,8,9],\n",
        "     [2,7,0]],\n",
        "\n",
        "    [[2,1,9],\n",
        "     [4,-3,32]]\n",
        "])\n",
        "print(tensor_three_d)"
      ],
      "metadata": {
        "colab": {
          "base_uri": "https://localhost:8080/"
        },
        "id": "JtQN9RLdnRc0",
        "outputId": "1d6af383-fc49-447c-c671-de84ac8ebdcd"
      },
      "execution_count": null,
      "outputs": [
        {
          "output_type": "stream",
          "name": "stdout",
          "text": [
            "tf.Tensor(\n",
            "[[[ 1  2  0]\n",
            "  [ 3  5 -1]]\n",
            "\n",
            " [[10  2  0]\n",
            "  [ 1  0  2]]\n",
            "\n",
            " [[ 5  8  9]\n",
            "  [ 2  7  0]]\n",
            "\n",
            " [[ 2  1  9]\n",
            "  [ 4 -3 32]]], shape=(4, 2, 3), dtype=int32)\n"
          ]
        }
      ]
    },
    {
      "cell_type": "code",
      "source": [
        "tensor_four_d = tf.constant([\n",
        "    [\n",
        "        [[1,2,0],\n",
        "         [3,5,-1]],\n",
        "\n",
        "        [[10,2,0],\n",
        "         [1,0,2]],\n",
        "\n",
        "        [[5,8,0],\n",
        "         [2,73,0]]\n",
        "    ],\n",
        "    [\n",
        "        [[103,26,0],\n",
        "         [3,50,-12]],\n",
        "\n",
        "        [[100,2,0],\n",
        "         [1,0,23]],\n",
        "\n",
        "        [[5,28,0],\n",
        "         [2,4,0]]\n",
        "    ]\n",
        "])\n",
        "print(tensor_four_d)"
      ],
      "metadata": {
        "colab": {
          "base_uri": "https://localhost:8080/"
        },
        "id": "ySlZRNlaoUxx",
        "outputId": "a0cd09cd-f8dd-4775-b837-49a658b764e4"
      },
      "execution_count": null,
      "outputs": [
        {
          "output_type": "stream",
          "name": "stdout",
          "text": [
            "tf.Tensor(\n",
            "[[[[  1   2   0]\n",
            "   [  3   5  -1]]\n",
            "\n",
            "  [[ 10   2   0]\n",
            "   [  1   0   2]]\n",
            "\n",
            "  [[  5   8   0]\n",
            "   [  2  73   0]]]\n",
            "\n",
            "\n",
            " [[[103  26   0]\n",
            "   [  3  50 -12]]\n",
            "\n",
            "  [[100   2   0]\n",
            "   [  1   0  23]]\n",
            "\n",
            "  [[  5  28   0]\n",
            "   [  2   4   0]]]], shape=(2, 3, 2, 3), dtype=int32)\n"
          ]
        }
      ]
    },
    {
      "cell_type": "code",
      "source": [
        "eye_tensor = tf.eye(\n",
        "    num_rows=5,\n",
        "    num_columns=5,\n",
        "    batch_shape=[3],\n",
        "    dtype=tf.dtypes.float32,\n",
        "    name=None\n",
        ")\n",
        "print(eye_tensor)"
      ],
      "metadata": {
        "colab": {
          "base_uri": "https://localhost:8080/"
        },
        "id": "tjHCWmxNpTfk",
        "outputId": "430dd7b7-0c62-49ff-c655-a29f574edc9e"
      },
      "execution_count": null,
      "outputs": [
        {
          "output_type": "stream",
          "name": "stdout",
          "text": [
            "tf.Tensor(\n",
            "[[[1. 0. 0. 0. 0.]\n",
            "  [0. 1. 0. 0. 0.]\n",
            "  [0. 0. 1. 0. 0.]\n",
            "  [0. 0. 0. 1. 0.]\n",
            "  [0. 0. 0. 0. 1.]]\n",
            "\n",
            " [[1. 0. 0. 0. 0.]\n",
            "  [0. 1. 0. 0. 0.]\n",
            "  [0. 0. 1. 0. 0.]\n",
            "  [0. 0. 0. 1. 0.]\n",
            "  [0. 0. 0. 0. 1.]]\n",
            "\n",
            " [[1. 0. 0. 0. 0.]\n",
            "  [0. 1. 0. 0. 0.]\n",
            "  [0. 0. 1. 0. 0.]\n",
            "  [0. 0. 0. 1. 0.]\n",
            "  [0. 0. 0. 0. 1.]]], shape=(3, 5, 5), dtype=float32)\n"
          ]
        }
      ]
    },
    {
      "cell_type": "code",
      "source": [
        "eye_tensor = tf.eye(\n",
        "    num_rows=5,\n",
        "    num_columns=5,\n",
        "    batch_shape=[2,5],\n",
        "    dtype=tf.dtypes.float32,\n",
        "    name=None\n",
        ")\n",
        "print(eye_tensor)"
      ],
      "metadata": {
        "colab": {
          "base_uri": "https://localhost:8080/"
        },
        "id": "Dp1rTdOGtgoN",
        "outputId": "a18d774f-f3d1-4a91-bd5c-432db3d2ad3b"
      },
      "execution_count": null,
      "outputs": [
        {
          "output_type": "stream",
          "name": "stdout",
          "text": [
            "tf.Tensor(\n",
            "[[[[1. 0. 0. 0. 0.]\n",
            "   [0. 1. 0. 0. 0.]\n",
            "   [0. 0. 1. 0. 0.]\n",
            "   [0. 0. 0. 1. 0.]\n",
            "   [0. 0. 0. 0. 1.]]\n",
            "\n",
            "  [[1. 0. 0. 0. 0.]\n",
            "   [0. 1. 0. 0. 0.]\n",
            "   [0. 0. 1. 0. 0.]\n",
            "   [0. 0. 0. 1. 0.]\n",
            "   [0. 0. 0. 0. 1.]]\n",
            "\n",
            "  [[1. 0. 0. 0. 0.]\n",
            "   [0. 1. 0. 0. 0.]\n",
            "   [0. 0. 1. 0. 0.]\n",
            "   [0. 0. 0. 1. 0.]\n",
            "   [0. 0. 0. 0. 1.]]\n",
            "\n",
            "  [[1. 0. 0. 0. 0.]\n",
            "   [0. 1. 0. 0. 0.]\n",
            "   [0. 0. 1. 0. 0.]\n",
            "   [0. 0. 0. 1. 0.]\n",
            "   [0. 0. 0. 0. 1.]]\n",
            "\n",
            "  [[1. 0. 0. 0. 0.]\n",
            "   [0. 1. 0. 0. 0.]\n",
            "   [0. 0. 1. 0. 0.]\n",
            "   [0. 0. 0. 1. 0.]\n",
            "   [0. 0. 0. 0. 1.]]]\n",
            "\n",
            "\n",
            " [[[1. 0. 0. 0. 0.]\n",
            "   [0. 1. 0. 0. 0.]\n",
            "   [0. 0. 1. 0. 0.]\n",
            "   [0. 0. 0. 1. 0.]\n",
            "   [0. 0. 0. 0. 1.]]\n",
            "\n",
            "  [[1. 0. 0. 0. 0.]\n",
            "   [0. 1. 0. 0. 0.]\n",
            "   [0. 0. 1. 0. 0.]\n",
            "   [0. 0. 0. 1. 0.]\n",
            "   [0. 0. 0. 0. 1.]]\n",
            "\n",
            "  [[1. 0. 0. 0. 0.]\n",
            "   [0. 1. 0. 0. 0.]\n",
            "   [0. 0. 1. 0. 0.]\n",
            "   [0. 0. 0. 1. 0.]\n",
            "   [0. 0. 0. 0. 1.]]\n",
            "\n",
            "  [[1. 0. 0. 0. 0.]\n",
            "   [0. 1. 0. 0. 0.]\n",
            "   [0. 0. 1. 0. 0.]\n",
            "   [0. 0. 0. 1. 0.]\n",
            "   [0. 0. 0. 0. 1.]]\n",
            "\n",
            "  [[1. 0. 0. 0. 0.]\n",
            "   [0. 1. 0. 0. 0.]\n",
            "   [0. 0. 1. 0. 0.]\n",
            "   [0. 0. 0. 1. 0.]\n",
            "   [0. 0. 0. 0. 1.]]]], shape=(2, 5, 5, 5), dtype=float32)\n"
          ]
        }
      ]
    },
    {
      "cell_type": "code",
      "source": [
        "fill_tensor = tf.fill(\n",
        "    [2,3,4],5,name=None\n",
        ")\n",
        "print(fill_tensor)"
      ],
      "metadata": {
        "colab": {
          "base_uri": "https://localhost:8080/"
        },
        "id": "1IUhDCTe0vkC",
        "outputId": "820f5932-efcf-4597-a46b-4658fe227be4"
      },
      "execution_count": null,
      "outputs": [
        {
          "output_type": "stream",
          "name": "stdout",
          "text": [
            "tf.Tensor(\n",
            "[[[5 5 5 5]\n",
            "  [5 5 5 5]\n",
            "  [5 5 5 5]]\n",
            "\n",
            " [[5 5 5 5]\n",
            "  [5 5 5 5]\n",
            "  [5 5 5 5]]], shape=(2, 3, 4), dtype=int32)\n"
          ]
        }
      ]
    },
    {
      "cell_type": "code",
      "source": [
        "ones_tensor = tf.ones(\n",
        "    [5,3],\n",
        "    dtype=tf.dtypes.float32,\n",
        "    name=None\n",
        ")\n",
        "print(ones_tensor)"
      ],
      "metadata": {
        "colab": {
          "base_uri": "https://localhost:8080/"
        },
        "id": "39vQqknN1Hvq",
        "outputId": "436e0ba3-72c4-4ba0-e9f4-1fc70ec99562"
      },
      "execution_count": null,
      "outputs": [
        {
          "output_type": "stream",
          "name": "stdout",
          "text": [
            "tf.Tensor(\n",
            "[[1. 1. 1.]\n",
            " [1. 1. 1.]\n",
            " [1. 1. 1.]\n",
            " [1. 1. 1.]\n",
            " [1. 1. 1.]], shape=(5, 3), dtype=float32)\n"
          ]
        }
      ]
    },
    {
      "cell_type": "code",
      "source": [
        "one_like_tensor = tf.ones_like(\n",
        "    fill_tensor\n",
        ")\n",
        "print(one_like_tensor)"
      ],
      "metadata": {
        "colab": {
          "base_uri": "https://localhost:8080/"
        },
        "id": "tBIuiBfv1aBt",
        "outputId": "195ca214-37bd-4f99-c057-3529b2ab3950"
      },
      "execution_count": null,
      "outputs": [
        {
          "output_type": "stream",
          "name": "stdout",
          "text": [
            "tf.Tensor(\n",
            "[[[1 1 1 1]\n",
            "  [1 1 1 1]\n",
            "  [1 1 1 1]]\n",
            "\n",
            " [[1 1 1 1]\n",
            "  [1 1 1 1]\n",
            "  [1 1 1 1]]], shape=(2, 3, 4), dtype=int32)\n"
          ]
        }
      ]
    },
    {
      "cell_type": "code",
      "source": [
        "zeros_tensor = tf.zeros(\n",
        "    [3,2],\n",
        "    dtype=tf.dtypes.float32,\n",
        "    name='tensor'\n",
        ")\n",
        "print(zeros_tensor)"
      ],
      "metadata": {
        "colab": {
          "base_uri": "https://localhost:8080/"
        },
        "id": "2_L41jgn1wEo",
        "outputId": "3c1e6ae6-6f3d-4a4f-9f0f-3e2f7dd2a28f"
      },
      "execution_count": null,
      "outputs": [
        {
          "output_type": "stream",
          "name": "stdout",
          "text": [
            "tf.Tensor(\n",
            "[[0. 0.]\n",
            " [0. 0.]\n",
            " [0. 0.]], shape=(3, 2), dtype=float32)\n"
          ]
        }
      ]
    },
    {
      "cell_type": "code",
      "source": [
        "tf.rank(zeros_tensor)"
      ],
      "metadata": {
        "colab": {
          "base_uri": "https://localhost:8080/"
        },
        "id": "hJPbJkcL4tTz",
        "outputId": "bce9673f-87b3-45c2-b857-78505300cfaf"
      },
      "execution_count": null,
      "outputs": [
        {
          "output_type": "execute_result",
          "data": {
            "text/plain": [
              "<tf.Tensor: shape=(), dtype=int32, numpy=2>"
            ]
          },
          "metadata": {},
          "execution_count": 12
        }
      ]
    },
    {
      "cell_type": "code",
      "source": [
        "#No of element in tensor\n",
        "tf.size(zeros_tensor,out_type=tf.float32)"
      ],
      "metadata": {
        "colab": {
          "base_uri": "https://localhost:8080/"
        },
        "id": "RgijtyrP52ky",
        "outputId": "2d071972-e5ca-46ad-de8a-267e68e5c74a"
      },
      "execution_count": null,
      "outputs": [
        {
          "output_type": "execute_result",
          "data": {
            "text/plain": [
              "<tf.Tensor: shape=(), dtype=float32, numpy=6.0>"
            ]
          },
          "metadata": {},
          "execution_count": 13
        }
      ]
    },
    {
      "cell_type": "code",
      "source": [
        "#Generating random normal distribution tensor\n",
        "random_tensor = tf.random.normal(\n",
        "    [3,2],\n",
        "    mean=0.0,\n",
        "    stddev=1.0,\n",
        "    dtype=tf.dtypes.float32,\n",
        "    seed=None,\n",
        "    name=None\n",
        ")\n",
        "print(random_tensor)"
      ],
      "metadata": {
        "colab": {
          "base_uri": "https://localhost:8080/"
        },
        "id": "Cu4IMIPP6dqk",
        "outputId": "a4eb8d70-eb52-4fe5-901e-cfec5a9ad09a"
      },
      "execution_count": null,
      "outputs": [
        {
          "output_type": "stream",
          "name": "stdout",
          "text": [
            "tf.Tensor(\n",
            "[[ 0.31281167 -1.7909662 ]\n",
            " [ 2.488153    1.6784717 ]\n",
            " [ 0.7506212   0.6073117 ]], shape=(3, 2), dtype=float32)\n"
          ]
        }
      ]
    },
    {
      "cell_type": "code",
      "source": [
        "random_tensor = tf.random.normal(\n",
        "    [3,2],\n",
        "    mean=100.0,\n",
        "    stddev=1.0,\n",
        "    dtype=tf.dtypes.float32,\n",
        "    seed=None,\n",
        "    name=None\n",
        ")\n",
        "print(random_tensor)"
      ],
      "metadata": {
        "colab": {
          "base_uri": "https://localhost:8080/"
        },
        "id": "EdJ571Uh7nLH",
        "outputId": "2466131c-8394-4624-bc89-508763b712c2"
      },
      "execution_count": null,
      "outputs": [
        {
          "output_type": "stream",
          "name": "stdout",
          "text": [
            "tf.Tensor(\n",
            "[[100.09076   98.098625]\n",
            " [100.52735  100.50709 ]\n",
            " [ 99.36864   99.581436]], shape=(3, 2), dtype=float32)\n"
          ]
        }
      ]
    },
    {
      "cell_type": "code",
      "source": [
        "tf.random.uniform(\n",
        "    [5,],\n",
        "    minval=0,\n",
        "    maxval=5,\n",
        "  dtype=tf.dtypes.float32,\n",
        "    seed=None,\n",
        "    name=None\n",
        ")"
      ],
      "metadata": {
        "colab": {
          "base_uri": "https://localhost:8080/"
        },
        "id": "npVKm-ee75YS",
        "outputId": "f925d8ec-84bf-47b6-8879-a58066736005"
      },
      "execution_count": null,
      "outputs": [
        {
          "output_type": "execute_result",
          "data": {
            "text/plain": [
              "<tf.Tensor: shape=(5,), dtype=float32, numpy=\n",
              "array([1.9674993 , 0.68987906, 3.788519  , 2.0962281 , 4.1418924 ],\n",
              "      dtype=float32)>"
            ]
          },
          "metadata": {},
          "execution_count": 16
        }
      ]
    },
    {
      "cell_type": "code",
      "source": [
        "tf.random.set_seed(5)\n",
        "print(tf.random.uniform(shape=[3,], maxval=5, dtype=tf.int32, seed=10))\n",
        "print(tf.random.uniform(shape=[3,], maxval=5, dtype=tf.int32, seed=10))\n",
        "print(tf.random.uniform(shape=[3,], maxval=5, dtype=tf.int32, seed=10))\n",
        "print(tf.random.uniform(shape=[3,], maxval=5, dtype=tf.int32, seed=10))"
      ],
      "metadata": {
        "id": "-6ogBLdtDql9",
        "colab": {
          "base_uri": "https://localhost:8080/"
        },
        "outputId": "6523ecad-3d85-48e2-d0ef-af9bf7e2abd4"
      },
      "execution_count": null,
      "outputs": [
        {
          "output_type": "stream",
          "name": "stdout",
          "text": [
            "tf.Tensor([4 3 1], shape=(3,), dtype=int32)\n",
            "tf.Tensor([4 3 2], shape=(3,), dtype=int32)\n",
            "tf.Tensor([1 1 1], shape=(3,), dtype=int32)\n",
            "tf.Tensor([1 3 3], shape=(3,), dtype=int32)\n"
          ]
        }
      ]
    },
    {
      "cell_type": "code",
      "source": [
        "tf.random.set_seed(5)\n",
        "print(tf.random.uniform(shape=[3,], maxval=5, dtype=tf.int32, seed=10))\n",
        "print(tf.random.uniform(shape=[3,], maxval=5, dtype=tf.int32, seed=10))\n",
        "print(tf.random.uniform(shape=[3,], maxval=5, dtype=tf.int32, seed=10))\n",
        "print(tf.random.uniform(shape=[3,], maxval=5, dtype=tf.int32, seed=20))"
      ],
      "metadata": {
        "colab": {
          "base_uri": "https://localhost:8080/"
        },
        "id": "hYTyGTOYDHzD",
        "outputId": "d8bd3e44-acd9-45d2-a923-b72f30df036c"
      },
      "execution_count": null,
      "outputs": [
        {
          "output_type": "stream",
          "name": "stdout",
          "text": [
            "tf.Tensor([4 3 1], shape=(3,), dtype=int32)\n",
            "tf.Tensor([4 3 2], shape=(3,), dtype=int32)\n",
            "tf.Tensor([1 1 1], shape=(3,), dtype=int32)\n",
            "tf.Tensor([4 1 3], shape=(3,), dtype=int32)\n"
          ]
        }
      ]
    },
    {
      "cell_type": "code",
      "source": [
        "g = tf.random.Generator.from_non_deterministic_state()\n",
        "g.normal(shape=(2,2),mean=100,stddev=1)"
      ],
      "metadata": {
        "colab": {
          "base_uri": "https://localhost:8080/"
        },
        "id": "fPk85y9KDKd0",
        "outputId": "142c1afb-6d77-42b5-f3bd-0e4db1841d7e"
      },
      "execution_count": null,
      "outputs": [
        {
          "output_type": "execute_result",
          "data": {
            "text/plain": [
              "<tf.Tensor: shape=(2, 2), dtype=float32, numpy=\n",
              "array([[ 99.91212, 100.46829],\n",
              "       [ 99.70144, 100.68782]], dtype=float32)>"
            ]
          },
          "metadata": {},
          "execution_count": 19
        }
      ]
    },
    {
      "cell_type": "code",
      "source": [
        "g = tf.random.Generator.from_non_deterministic_state()\n",
        "g.uniform(shape=(2,2), minval = 25, maxval = 40)"
      ],
      "metadata": {
        "colab": {
          "base_uri": "https://localhost:8080/"
        },
        "id": "SP-C5Dl4Gb0Z",
        "outputId": "758418da-a9cf-432a-81f6-097e2edd78af"
      },
      "execution_count": null,
      "outputs": [
        {
          "output_type": "execute_result",
          "data": {
            "text/plain": [
              "<tf.Tensor: shape=(2, 2), dtype=float32, numpy=\n",
              "array([[39.671707, 38.430565],\n",
              "       [25.779352, 32.26012 ]], dtype=float32)>"
            ]
          },
          "metadata": {},
          "execution_count": 20
        }
      ]
    },
    {
      "cell_type": "code",
      "source": [
        "tf.random.normal(\n",
        "    (3,), mean=0.0, stddev=100.0, dtype=tf.dtypes.float32, seed=12, name=\"Random Number with Normal distribution\"\n",
        ")"
      ],
      "metadata": {
        "colab": {
          "base_uri": "https://localhost:8080/"
        },
        "id": "a3ToXJxwGtN1",
        "outputId": "d8f18ed3-5d85-41e2-e127-26f191c4387a"
      },
      "execution_count": null,
      "outputs": [
        {
          "output_type": "execute_result",
          "data": {
            "text/plain": [
              "<tf.Tensor: shape=(3,), dtype=float32, numpy=array([12.151812,  9.970952, 69.518616], dtype=float32)>"
            ]
          },
          "metadata": {},
          "execution_count": 21
        }
      ]
    },
    {
      "cell_type": "code",
      "source": [
        "tf.random.uniform(\n",
        "    (2,), minval=0, maxval=100, dtype=tf.dtypes.float32, seed=None, name=None\n",
        ")"
      ],
      "metadata": {
        "colab": {
          "base_uri": "https://localhost:8080/"
        },
        "id": "M1nqkSZ6HXB4",
        "outputId": "d81a356c-4d5e-4982-b1dc-503c4c2414ec"
      },
      "execution_count": null,
      "outputs": [
        {
          "output_type": "execute_result",
          "data": {
            "text/plain": [
              "<tf.Tensor: shape=(2,), dtype=float32, numpy=array([62.63931, 52.98432], dtype=float32)>"
            ]
          },
          "metadata": {},
          "execution_count": 22
        }
      ]
    },
    {
      "cell_type": "markdown",
      "source": [
        "# <font color='blue'>**Indexing**</font>"
      ],
      "metadata": {
        "id": "44gbb6AYHc6X"
      }
    },
    {
      "cell_type": "code",
      "source": [
        "tensor_indexed = tf.constant([3,6,2,4,6,66,7])\n",
        "print(tensor_indexed[:])\n",
        "print(tensor_indexed[0:4])\n",
        "print(tensor_indexed[3:-3])"
      ],
      "metadata": {
        "colab": {
          "base_uri": "https://localhost:8080/"
        },
        "id": "lXLqRaHfHZij",
        "outputId": "47f78aeb-f71f-4031-a0f7-eec1d0426291"
      },
      "execution_count": null,
      "outputs": [
        {
          "output_type": "stream",
          "name": "stdout",
          "text": [
            "tf.Tensor([ 3  6  2  4  6 66  7], shape=(7,), dtype=int32)\n",
            "tf.Tensor([3 6 2 4], shape=(4,), dtype=int32)\n",
            "tf.Tensor([4], shape=(1,), dtype=int32)\n"
          ]
        }
      ]
    },
    {
      "cell_type": "code",
      "source": [
        "tensor_two_d = tf.constant([[1,2,0],\n",
        "                            [3,5,-1],\n",
        "                            [1,5,6],\n",
        "                            [2,3,8]])\n",
        "print(tensor_two_d[0:3,:3])"
      ],
      "metadata": {
        "colab": {
          "base_uri": "https://localhost:8080/"
        },
        "id": "5lmxHsYViSOP",
        "outputId": "0a86a3df-142f-40e8-a6fd-facb461969ff"
      },
      "execution_count": null,
      "outputs": [
        {
          "output_type": "stream",
          "name": "stdout",
          "text": [
            "tf.Tensor(\n",
            "[[ 1  2  0]\n",
            " [ 3  5 -1]\n",
            " [ 1  5  6]], shape=(3, 3), dtype=int32)\n"
          ]
        }
      ]
    },
    {
      "cell_type": "code",
      "source": [
        "tensor_two_d = tf.constant([[1,2,0],\n",
        "                            [3,5,-1],\n",
        "                            [1,5,6],\n",
        "                            [2,3,8]])\n",
        "print(tensor_two_d[...,1])"
      ],
      "metadata": {
        "colab": {
          "base_uri": "https://localhost:8080/"
        },
        "id": "-B2-Ac9vHhcR",
        "outputId": "a1ed79fa-5721-487c-9970-c02d86158866"
      },
      "execution_count": null,
      "outputs": [
        {
          "output_type": "stream",
          "name": "stdout",
          "text": [
            "tf.Tensor([2 5 5 3], shape=(4,), dtype=int32)\n"
          ]
        }
      ]
    },
    {
      "cell_type": "code",
      "source": [
        "tensor_three_d = tf.constant([[[1,2,0],\n",
        "                              [3,5,-1]],\n",
        "\n",
        "                              [[10,2,0],\n",
        "                               [1,0,2]],\n",
        "\n",
        "                              [[5,8,0],\n",
        "                               [2,7,0]],\n",
        "\n",
        "                              [[2,1,9],\n",
        "                               [4,-3,32]]\n",
        "\n",
        "\n",
        "                              ])\n",
        "\n",
        "print(tensor_three_d[ 2 , 0 , :2])\n"
      ],
      "metadata": {
        "colab": {
          "base_uri": "https://localhost:8080/"
        },
        "id": "YEeerf_pjLxo",
        "outputId": "f6548aba-6a78-4faa-a910-dda15a573298"
      },
      "execution_count": null,
      "outputs": [
        {
          "output_type": "stream",
          "name": "stdout",
          "text": [
            "tf.Tensor([5 8], shape=(2,), dtype=int32)\n"
          ]
        }
      ]
    },
    {
      "cell_type": "code",
      "source": [
        "tensor_three_d = tf.constant([[[1,2,0],\n",
        "                              [3,5,-1]],\n",
        "\n",
        "                              [[10,2,0],\n",
        "                               [1,0,2]],\n",
        "\n",
        "                              [[5,8,0],\n",
        "                               [2,7,0]],\n",
        "\n",
        "                              [[2,1,9],\n",
        "                               [4,-3,32]]\n",
        "\n",
        "\n",
        "                              ])\n",
        "\n",
        "print(tensor_three_d[ ... , : , 2])\n"
      ],
      "metadata": {
        "colab": {
          "base_uri": "https://localhost:8080/"
        },
        "id": "iwg2vDMuJNpk",
        "outputId": "f1798a17-3dd9-479d-e334-8f83b89a3658"
      },
      "execution_count": null,
      "outputs": [
        {
          "output_type": "stream",
          "name": "stdout",
          "text": [
            "tf.Tensor(\n",
            "[[ 0 -1]\n",
            " [ 0  2]\n",
            " [ 0  0]\n",
            " [ 9 32]], shape=(4, 2), dtype=int32)\n"
          ]
        }
      ]
    },
    {
      "cell_type": "code",
      "source": [
        "print(tf.expand_dims(tensor_three_d[ ... , : , 2],-1))"
      ],
      "metadata": {
        "colab": {
          "base_uri": "https://localhost:8080/"
        },
        "id": "nOYtVY9lLZOV",
        "outputId": "01b59700-3d49-4de4-be2f-dd3c5a6e0176"
      },
      "execution_count": null,
      "outputs": [
        {
          "output_type": "stream",
          "name": "stdout",
          "text": [
            "tf.Tensor(\n",
            "[[[ 0]\n",
            "  [-1]]\n",
            "\n",
            " [[ 0]\n",
            "  [ 2]]\n",
            "\n",
            " [[ 0]\n",
            "  [ 0]]\n",
            "\n",
            " [[ 9]\n",
            "  [32]]], shape=(4, 2, 1), dtype=int32)\n"
          ]
        }
      ]
    },
    {
      "cell_type": "markdown",
      "source": [
        "# <font color='blue'>**Maths Operations**</font>"
      ],
      "metadata": {
        "id": "CIdsdZMRkWE8"
      }
    },
    {
      "cell_type": "code",
      "source": [
        "x_abs = tf.constant([-2.25, 3.25])\n",
        "tf.abs(x_abs)"
      ],
      "metadata": {
        "colab": {
          "base_uri": "https://localhost:8080/"
        },
        "id": "vo5_Sl9JN1Wz",
        "outputId": "c8417d37-697b-4de1-a33f-917e0f5a56d0"
      },
      "execution_count": null,
      "outputs": [
        {
          "output_type": "execute_result",
          "data": {
            "text/plain": [
              "<tf.Tensor: shape=(2,), dtype=float32, numpy=array([2.25, 3.25], dtype=float32)>"
            ]
          },
          "metadata": {},
          "execution_count": 33
        }
      ]
    },
    {
      "cell_type": "code",
      "source": [
        "x_abs_complex = tf.constant([-2.25 + 4.75j])\n",
        "tf.abs(x_abs_complex)\n"
      ],
      "metadata": {
        "colab": {
          "base_uri": "https://localhost:8080/"
        },
        "id": "_iXQUqoUN9ip",
        "outputId": "38d469ef-4a36-4cd9-c367-c317c91c820a"
      },
      "execution_count": null,
      "outputs": [
        {
          "output_type": "execute_result",
          "data": {
            "text/plain": [
              "<tf.Tensor: shape=(1,), dtype=float64, numpy=array([5.25594901])>"
            ]
          },
          "metadata": {},
          "execution_count": 34
        }
      ]
    },
    {
      "cell_type": "code",
      "source": [
        "tf.sqrt((-2.25)**2 + 4.75**2)"
      ],
      "metadata": {
        "id": "gKYsHfFmOCL0",
        "outputId": "1ca5175a-1bd9-4d74-e052-9749af0dce3c",
        "colab": {
          "base_uri": "https://localhost:8080/"
        }
      },
      "execution_count": null,
      "outputs": [
        {
          "output_type": "execute_result",
          "data": {
            "text/plain": [
              "<tf.Tensor: shape=(), dtype=float32, numpy=5.255949>"
            ]
          },
          "metadata": {},
          "execution_count": 35
        }
      ]
    },
    {
      "cell_type": "code",
      "source": [
        "\n",
        "x_1 = tf.constant([[5,3,6,6,4,6]], dtype = tf.float32)\n",
        "x_2 = tf.constant([[7], [5], [3]], dtype = tf.float32)\n",
        "\n",
        "print(x_1.shape)\n",
        "print(x_2.shape)\n",
        "print(tf.math.add(x_1, x_2))"
      ],
      "metadata": {
        "colab": {
          "base_uri": "https://localhost:8080/"
        },
        "id": "-Sf3sXe7lacw",
        "outputId": "fd74c959-dca6-4029-cdd3-aa11789d05cc"
      },
      "execution_count": null,
      "outputs": [
        {
          "output_type": "stream",
          "name": "stdout",
          "text": [
            "(1, 6)\n",
            "(3, 1)\n",
            "tf.Tensor(\n",
            "[[12. 10. 13. 13. 11. 13.]\n",
            " [10.  8. 11. 11.  9. 11.]\n",
            " [ 8.  6.  9.  9.  7.  9.]], shape=(3, 6), dtype=float32)\n"
          ]
        }
      ]
    },
    {
      "cell_type": "code",
      "source": [
        "x_1 = tf.constant([[5,3,6,6,4,6]], dtype = tf.float32)\n",
        "x_2 = tf.constant([[7], [5], [3]], dtype = tf.float32)\n",
        "\n",
        "print(x_1.shape)\n",
        "print(x_2.shape)\n",
        "print(tf.math.multiply(x_1, x_2))"
      ],
      "metadata": {
        "id": "NfqonV35OD2j",
        "colab": {
          "base_uri": "https://localhost:8080/"
        },
        "outputId": "b515315b-4efd-490d-867d-25f861f2465d"
      },
      "execution_count": null,
      "outputs": [
        {
          "output_type": "stream",
          "name": "stdout",
          "text": [
            "(1, 6)\n",
            "(3, 1)\n",
            "tf.Tensor(\n",
            "[[35. 21. 42. 42. 28. 42.]\n",
            " [25. 15. 30. 30. 20. 30.]\n",
            " [15.  9. 18. 18. 12. 18.]], shape=(3, 6), dtype=float32)\n"
          ]
        }
      ]
    },
    {
      "cell_type": "code",
      "source": [
        "x = tf.constant([[2, 20, 30, 3, 6],\n",
        "                        [3, 11, 16, 1, 8],\n",
        "                        [14, 45, 23, 5, 27]])\n",
        "\n",
        "print(x.shape)\n",
        "print(tf.math.argmax(x,axis=0))#column wise maximum"
      ],
      "metadata": {
        "colab": {
          "base_uri": "https://localhost:8080/"
        },
        "id": "al6rSIaukpE2",
        "outputId": "e110ab6a-d558-4af4-8ded-8a2fc0ee1a21"
      },
      "execution_count": null,
      "outputs": [
        {
          "output_type": "stream",
          "name": "stdout",
          "text": [
            "(3, 5)\n",
            "tf.Tensor([2 2 0 2 2], shape=(5,), dtype=int64)\n"
          ]
        }
      ]
    },
    {
      "cell_type": "code",
      "source": [
        "x = tf.constant([[2, 20, 30, 3, 6],\n",
        "                        [3, 11, 16, 1, 8],\n",
        "                        [14, 45, 23, 5, 27]])\n",
        "\n",
        "print(x.shape)\n",
        "print(tf.math.argmin(x,axis=1))#row-wise minimum"
      ],
      "metadata": {
        "colab": {
          "base_uri": "https://localhost:8080/"
        },
        "id": "JozI2bkSkzt4",
        "outputId": "c739aff4-eeba-4667-fa7d-9a93f4f2931e"
      },
      "execution_count": null,
      "outputs": [
        {
          "output_type": "stream",
          "name": "stdout",
          "text": [
            "(3, 5)\n",
            "tf.Tensor([0 3 3], shape=(3,), dtype=int64)\n"
          ]
        }
      ]
    },
    {
      "cell_type": "code",
      "source": [
        "x = tf.constant([[2, 2], [3, 3]])\n",
        "y = tf.constant([[3, 0], [1, 4]])\n",
        "tf.pow(x, y)"
      ],
      "metadata": {
        "colab": {
          "base_uri": "https://localhost:8080/"
        },
        "id": "-K8i6gb6lAu4",
        "outputId": "c04d504f-fc46-483c-d1c1-b9ccd5e35983"
      },
      "execution_count": null,
      "outputs": [
        {
          "output_type": "execute_result",
          "data": {
            "text/plain": [
              "<tf.Tensor: shape=(2, 2), dtype=int32, numpy=\n",
              "array([[ 8,  1],\n",
              "       [ 3, 81]], dtype=int32)>"
            ]
          },
          "metadata": {},
          "execution_count": 45
        }
      ]
    },
    {
      "cell_type": "code",
      "source": [
        "tf.pow(tf.constant(2) ,tf.constant(3))"
      ],
      "metadata": {
        "colab": {
          "base_uri": "https://localhost:8080/"
        },
        "id": "ABbnmiosnsMA",
        "outputId": "55657354-f165-496d-9cf8-4958932bd95b"
      },
      "execution_count": null,
      "outputs": [
        {
          "output_type": "execute_result",
          "data": {
            "text/plain": [
              "<tf.Tensor: shape=(), dtype=int32, numpy=8>"
            ]
          },
          "metadata": {},
          "execution_count": 46
        }
      ]
    },
    {
      "cell_type": "code",
      "source": [
        "tensor_two_d = tf.constant([[1,-2,0],\n",
        "                            [3,5,100],\n",
        "                            [1,5,6],\n",
        "                            [2,3,8]], dtype = tf.float16)\n",
        "print(tensor_two_d.shape)\n",
        "\n",
        "print(tf.math.reduce_sum(tensor_two_d, axis=0, keepdims=True, name=None))"
      ],
      "metadata": {
        "colab": {
          "base_uri": "https://localhost:8080/"
        },
        "id": "DjVBgfOVrvH9",
        "outputId": "b0b83f72-e26a-4f7b-9255-b0a2d329be33"
      },
      "execution_count": null,
      "outputs": [
        {
          "output_type": "stream",
          "name": "stdout",
          "text": [
            "(4, 3)\n",
            "tf.Tensor([[  7.  11. 114.]], shape=(1, 3), dtype=float16)\n"
          ]
        }
      ]
    },
    {
      "cell_type": "code",
      "source": [
        "tensor_two_d = tf.constant([[1,-2,0],\n",
        "                            [3,5,100],\n",
        "                            [1,5,6],\n",
        "                            [2,3,8]], dtype = tf.float16)\n",
        "print(tensor_two_d.shape)\n",
        "\n",
        "print(tf.math.reduce_max(tensor_two_d, axis=0, keepdims=True, name=None))"
      ],
      "metadata": {
        "colab": {
          "base_uri": "https://localhost:8080/"
        },
        "id": "wqF-G9jMrxkR",
        "outputId": "bb78da8f-27b4-4eeb-b647-0b6189d1a9f5"
      },
      "execution_count": null,
      "outputs": [
        {
          "output_type": "stream",
          "name": "stdout",
          "text": [
            "(4, 3)\n",
            "tf.Tensor([[  3.   5. 100.]], shape=(1, 3), dtype=float16)\n"
          ]
        }
      ]
    },
    {
      "cell_type": "code",
      "source": [
        "#Computes the standard deviation of elements across dimensions of a tensor.\n",
        "tensor_two_d = tf.constant([[1,-2,0],\n",
        "                            [3,5,100],\n",
        "                            [1,5,6],\n",
        "                            [2,3,8]], dtype = tf.float16)\n",
        "print(tensor_two_d.shape)\n",
        "\n",
        "print(tf.math.reduce_std(tensor_two_d, axis=0, keepdims=True, name=None))"
      ],
      "metadata": {
        "colab": {
          "base_uri": "https://localhost:8080/"
        },
        "id": "sY7lmVHcnxcj",
        "outputId": "fea11000-e7e7-4066-d847-cfb88b15b3c9"
      },
      "execution_count": null,
      "outputs": [
        {
          "output_type": "stream",
          "name": "stdout",
          "text": [
            "(4, 3)\n",
            "tf.Tensor([[ 0.829  2.861 41.38 ]], shape=(1, 3), dtype=float16)\n"
          ]
        }
      ]
    },
    {
      "cell_type": "code",
      "source": [
        "#Finds values and indices of the k largest entries for the last dimension.\n",
        "tf.math.top_k(tensor_two_d, k = 2)"
      ],
      "metadata": {
        "colab": {
          "base_uri": "https://localhost:8080/"
        },
        "id": "cIy0VhC2q6_E",
        "outputId": "c6712eb4-840a-4cf6-a0ae-f937ce71972a"
      },
      "execution_count": null,
      "outputs": [
        {
          "output_type": "execute_result",
          "data": {
            "text/plain": [
              "TopKV2(values=<tf.Tensor: shape=(4, 2), dtype=float16, numpy=\n",
              "array([[  1.,   0.],\n",
              "       [100.,   5.],\n",
              "       [  6.,   5.],\n",
              "       [  8.,   3.]], dtype=float16)>, indices=<tf.Tensor: shape=(4, 2), dtype=int32, numpy=\n",
              "array([[0, 2],\n",
              "       [2, 1],\n",
              "       [2, 1],\n",
              "       [2, 1]], dtype=int32)>)"
            ]
          },
          "metadata": {},
          "execution_count": 49
        }
      ]
    },
    {
      "cell_type": "markdown",
      "source": [
        "# <font color='blue'>**Linear Algebra Operations**</font>"
      ],
      "metadata": {
        "id": "L5tENXJZs99R"
      }
    },
    {
      "cell_type": "code",
      "source": [
        "x_1 = tf.constant([[1,2,0]])\n",
        "\n",
        "x_2 = tf.constant([[1,2],\n",
        "                  [3,5],\n",
        "                  [4,5]])\n",
        "\n",
        "x_3 = tf.constant([[1,2,0,2],\n",
        "                  [3,5,-1,2]])\n",
        "\n",
        "print(x_1.shape, x_2.shape, x_3.shape, tf.transpose(x_2).shape)"
      ],
      "metadata": {
        "colab": {
          "base_uri": "https://localhost:8080/"
        },
        "id": "fLn41RTbrN3r",
        "outputId": "100177f9-2ee7-49e9-ecce-e25dc565c174"
      },
      "execution_count": null,
      "outputs": [
        {
          "output_type": "stream",
          "name": "stdout",
          "text": [
            "(1, 3) (3, 2) (2, 4) (2, 3)\n"
          ]
        }
      ]
    },
    {
      "cell_type": "code",
      "source": [
        "print(tf.transpose(x_3)@tf.transpose(x_2))"
      ],
      "metadata": {
        "id": "RPbDrbG3tJ87",
        "colab": {
          "base_uri": "https://localhost:8080/"
        },
        "outputId": "a4bf724b-7e18-4763-de1b-cc62e7225e9d"
      },
      "execution_count": null,
      "outputs": [
        {
          "output_type": "stream",
          "name": "stdout",
          "text": [
            "tf.Tensor(\n",
            "[[ 7 18 19]\n",
            " [12 31 33]\n",
            " [-2 -5 -5]\n",
            " [ 6 16 18]], shape=(4, 3), dtype=int32)\n"
          ]
        }
      ]
    },
    {
      "cell_type": "code",
      "source": [
        "x11 =tf.constant([[1,2,0]])\n",
        "x22 = tf.constant([[1,2,0,3],\n",
        "                  [3,5,1,-2],\n",
        "                  [4,5,6,8]])\n",
        "\n",
        "print(x11.shape,x22.shape)\n",
        "tf.linalg.matmul(\n",
        "    x11, x22, transpose_a=False, transpose_b=False, adjoint_a=False, adjoint_b=False,\n",
        "    a_is_sparse=False, b_is_sparse=False, output_type=None, name=None\n",
        ")"
      ],
      "metadata": {
        "colab": {
          "base_uri": "https://localhost:8080/"
        },
        "id": "TOaQxscwWIS-",
        "outputId": "4cdd8664-21db-4484-d5ef-3066bca66878"
      },
      "execution_count": null,
      "outputs": [
        {
          "output_type": "stream",
          "name": "stdout",
          "text": [
            "(1, 3) (3, 4)\n"
          ]
        },
        {
          "output_type": "execute_result",
          "data": {
            "text/plain": [
              "<tf.Tensor: shape=(1, 4), dtype=int32, numpy=array([[ 7, 12,  2, -1]], dtype=int32)>"
            ]
          },
          "metadata": {},
          "execution_count": 11
        }
      ]
    },
    {
      "cell_type": "code",
      "source": [
        "x11@x22"
      ],
      "metadata": {
        "colab": {
          "base_uri": "https://localhost:8080/"
        },
        "id": "FYXnfBgvWpf6",
        "outputId": "ed916c42-7fac-4d58-93af-109095eb1c88"
      },
      "execution_count": null,
      "outputs": [
        {
          "output_type": "execute_result",
          "data": {
            "text/plain": [
              "<tf.Tensor: shape=(1, 4), dtype=int32, numpy=array([[ 7, 12,  2, -1]], dtype=int32)>"
            ]
          },
          "metadata": {},
          "execution_count": 12
        }
      ]
    },
    {
      "cell_type": "code",
      "source": [
        "tf.transpose(x22)"
      ],
      "metadata": {
        "colab": {
          "base_uri": "https://localhost:8080/"
        },
        "id": "M6yx5p0yXlUb",
        "outputId": "f3e921fb-d87c-45d1-efea-4a63cc2bb4a3"
      },
      "execution_count": null,
      "outputs": [
        {
          "output_type": "execute_result",
          "data": {
            "text/plain": [
              "<tf.Tensor: shape=(4, 3), dtype=int32, numpy=\n",
              "array([[ 1,  3,  4],\n",
              "       [ 2,  5,  5],\n",
              "       [ 0,  1,  6],\n",
              "       [ 3, -2,  8]], dtype=int32)>"
            ]
          },
          "metadata": {},
          "execution_count": 13
        }
      ]
    },
    {
      "cell_type": "code",
      "source": [
        "x_1 =  tf.constant([[[1,2],\n",
        "                    [3,5]],\n",
        "\n",
        "                    [[10,0],\n",
        "                    [1,2]],\n",
        "\n",
        "                    [[5,0],\n",
        "                    [2,0]]])\n",
        "\n",
        "x_2 = tf.constant([[[5,1,4],\n",
        "                    [34,15,1]],\n",
        "\n",
        "                    [[1,2,2],\n",
        "                    [5,3,2]],\n",
        "\n",
        "                    [[2,2,3],\n",
        "                    [1,1,1]]])\n",
        "\n",
        "print(tf.linalg.matmul(x_1, x_2))"
      ],
      "metadata": {
        "colab": {
          "base_uri": "https://localhost:8080/"
        },
        "id": "FSCSstFecRDT",
        "outputId": "0379d7ce-fab1-4546-a4a3-266d5c84624e"
      },
      "execution_count": null,
      "outputs": [
        {
          "output_type": "stream",
          "name": "stdout",
          "text": [
            "tf.Tensor(\n",
            "[[[ 73  31   6]\n",
            "  [185  78  17]]\n",
            "\n",
            " [[ 10  20  20]\n",
            "  [ 11   8   6]]\n",
            "\n",
            " [[ 10  10  15]\n",
            "  [  4   4   6]]], shape=(3, 2, 3), dtype=int32)\n"
          ]
        }
      ]
    },
    {
      "cell_type": "code",
      "source": [
        "tensor_two_d = tf.constant([[1,-2,0],\n",
        "                            [3,5,100],\n",
        "                            [1,5,6],\n",
        "                            [2,3,8]], dtype = tf.float16)\n",
        "\n",
        "tensor_out_d = tf.constant([[1,0,0],\n",
        "                            [0,5,0],\n",
        "                            [0,0,6],\n",
        "                            [0,0,0]], dtype = tf.float16)\n",
        "\n",
        "#### ( m-n <= lower) and ( n-m <= upper)\n",
        "# m -- rows, n --- columns\n",
        "tf.linalg.band_part(tensor_two_d, 0, 0)#Diagonal"
      ],
      "metadata": {
        "colab": {
          "base_uri": "https://localhost:8080/"
        },
        "id": "Pqi-TcvXYuA2",
        "outputId": "ad6ace50-4e34-4dfc-80e3-e4b204d99bcf"
      },
      "execution_count": null,
      "outputs": [
        {
          "output_type": "execute_result",
          "data": {
            "text/plain": [
              "<tf.Tensor: shape=(4, 3), dtype=float16, numpy=\n",
              "array([[1., 0., 0.],\n",
              "       [0., 5., 0.],\n",
              "       [0., 0., 6.],\n",
              "       [0., 0., 0.]], dtype=float16)>"
            ]
          },
          "metadata": {},
          "execution_count": 9
        }
      ]
    },
    {
      "cell_type": "code",
      "source": [
        "tensor_two_d = tf.constant([[1,-2,0],\n",
        "                            [3,5,100],\n",
        "                            [1,5,6],\n",
        "                            [2,3,8]], dtype = tf.float16)\n",
        "\n",
        "tensor_out_d = tf.constant([[1,0,0],\n",
        "                            [0,5,0],\n",
        "                            [0,0,6],\n",
        "                            [0,0,0]], dtype = tf.float16)\n",
        "\n",
        "#### ( m-n <= lower) and ( n-m <= upper)\n",
        "# m -- rows, n --- columns\n",
        "tf.linalg.band_part(tensor_two_d, -1, 0)#Lower Triangular"
      ],
      "metadata": {
        "colab": {
          "base_uri": "https://localhost:8080/"
        },
        "id": "CrhPoAguYvrX",
        "outputId": "01e9e27d-b520-4a0b-9053-35a88a35dba4"
      },
      "execution_count": null,
      "outputs": [
        {
          "output_type": "execute_result",
          "data": {
            "text/plain": [
              "<tf.Tensor: shape=(4, 3), dtype=float16, numpy=\n",
              "array([[1., 0., 0.],\n",
              "       [3., 5., 0.],\n",
              "       [1., 5., 6.],\n",
              "       [2., 3., 8.]], dtype=float16)>"
            ]
          },
          "metadata": {},
          "execution_count": 10
        }
      ]
    },
    {
      "cell_type": "code",
      "source": [
        "tensor_two_d = tf.constant([[1,-2,0],\n",
        "                            [3,5,100],\n",
        "                            [1,5,6],\n",
        "                            [2,3,8]], dtype = tf.float16)\n",
        "\n",
        "tensor_out_d = tf.constant([[1,0,0],\n",
        "                            [0,5,0],\n",
        "                            [0,0,6],\n",
        "                            [0,0,0]], dtype = tf.float16)\n",
        "\n",
        "#### ( m-n <= lower) and ( n-m <= upper)\n",
        "# m -- rows, n --- columns\n",
        "tf.linalg.band_part(tensor_two_d, 0, -1)"
      ],
      "metadata": {
        "colab": {
          "base_uri": "https://localhost:8080/"
        },
        "id": "7-MFUiZWivml",
        "outputId": "61b044aa-d6cd-4c95-a763-3ec9dc5d55ac"
      },
      "execution_count": null,
      "outputs": [
        {
          "output_type": "execute_result",
          "data": {
            "text/plain": [
              "<tf.Tensor: shape=(4, 3), dtype=float16, numpy=\n",
              "array([[  1.,  -2.,   0.],\n",
              "       [  0.,   5., 100.],\n",
              "       [  0.,   0.,   6.],\n",
              "       [  0.,   0.,   0.]], dtype=float16)>"
            ]
          },
          "metadata": {},
          "execution_count": 11
        }
      ]
    },
    {
      "cell_type": "code",
      "source": [
        "tensor_two_d_m_n = tf.constant([[0,-1,-2],\n",
        "                                [1,0,-1],\n",
        "                                [2,1,0],\n",
        "                                [3,2,1]], dtype = tf.float16)\n",
        "\n",
        "tensor_two_d_n_m = tf.constant([[0,1,2],\n",
        "                                [-1,0,1],\n",
        "                                [-2,-1,0],\n",
        "                                [-3,-2,-1]], dtype = tf.float16)\n",
        "\n",
        "#m = 1, n = 2"
      ],
      "metadata": {
        "id": "aIZqDymXi1UB"
      },
      "execution_count": null,
      "outputs": []
    },
    {
      "cell_type": "code",
      "source": [
        "tensor_two_d = tf.constant([[1,-2,0],\n",
        "                            [3,5,100],\n",
        "                            [1,5,6]], dtype = tf.float32)\n",
        "\n",
        "tensor_two_d_inv = tf.linalg.inv(tensor_two_d)\n",
        "print(tensor_two_d_inv)"
      ],
      "metadata": {
        "colab": {
          "base_uri": "https://localhost:8080/"
        },
        "id": "hUX-WD81Llee",
        "outputId": "6c16ab22-3cf3-401c-90da-39a45e4628b0"
      },
      "execution_count": null,
      "outputs": [
        {
          "output_type": "stream",
          "name": "stdout",
          "text": [
            "tf.Tensor(\n",
            "[[ 0.7413249  -0.01892742  0.3154574 ]\n",
            " [-0.12933755 -0.00946371  0.1577287 ]\n",
            " [-0.01577287  0.01104101 -0.01735016]], shape=(3, 3), dtype=float32)\n"
          ]
        }
      ]
    },
    {
      "cell_type": "code",
      "source": [
        "tensor_two_d1 = tf.constant([[1,-2,0],\n",
        "                            [3,5,100],\n",
        "                            [1,5,6]], dtype = tf.float32)\n",
        "s,u,v = tf.linalg.svd(tensor_two_d1)\n",
        "print(s)\n",
        "print(u)\n",
        "print(v)"
      ],
      "metadata": {
        "colab": {
          "base_uri": "https://localhost:8080/"
        },
        "id": "Da9Gio3mLrTl",
        "outputId": "998b8d11-be0a-4d42-947a-cf89c5f5c133"
      },
      "execution_count": null,
      "outputs": [
        {
          "output_type": "stream",
          "name": "stdout",
          "text": [
            "tf.Tensor([100.3663      5.1059036   1.2371687], shape=(3,), dtype=float32)\n",
            "tf.Tensor(\n",
            "[[-7.4980810e-04 -3.7569830e-01  9.2674178e-01]\n",
            " [ 9.9803799e-01 -5.8300879e-02 -2.2827482e-02]\n",
            " [ 6.2606096e-02  9.2490643e-01  3.7500489e-01]], shape=(3, 3), dtype=float32)\n",
            "tf.Tensor(\n",
            "[[ 0.03044816  0.07330841  0.99684453]\n",
            " [ 0.0528536   0.9957936  -0.07484547]\n",
            " [ 0.998138   -0.05496572 -0.02644547]], shape=(3, 3), dtype=float32)\n"
          ]
        }
      ]
    },
    {
      "cell_type": "markdown",
      "source": [
        "# <font color='blue'>Ragged Tensors</font>"
      ],
      "metadata": {
        "id": "l5qR2L__a9sd"
      }
    },
    {
      "cell_type": "code",
      "source": [
        "tensor_two = [[1,2,4,5],\n",
        "              [3],\n",
        "              [4,5,6,7,89,4],\n",
        "              [4,1,4]]\n",
        "tensor_ragged = tf.ragged.constant(tensor_two)\n",
        "print(tensor_ragged.shape)"
      ],
      "metadata": {
        "colab": {
          "base_uri": "https://localhost:8080/"
        },
        "id": "LW4v9KcBZYxm",
        "outputId": "fcf59ef8-1691-4d6d-fde6-10fa0fd001ff"
      },
      "execution_count": null,
      "outputs": [
        {
          "output_type": "stream",
          "name": "stdout",
          "text": [
            "(4, None)\n"
          ]
        }
      ]
    },
    {
      "cell_type": "code",
      "source": [
        "print(tf.RaggedTensor.from_row_lengths(values=[2,3,4,6,7,8,9],row_lengths=[4,2,0,1,0]))"
      ],
      "metadata": {
        "colab": {
          "base_uri": "https://localhost:8080/"
        },
        "id": "qwZIx3A7hrnD",
        "outputId": "b934cb35-9de3-4ccf-fef0-23decb16cc98"
      },
      "execution_count": null,
      "outputs": [
        {
          "output_type": "stream",
          "name": "stdout",
          "text": [
            "<tf.RaggedTensor [[2, 3, 4, 6], [7, 8], [], [9], []]>\n"
          ]
        }
      ]
    },
    {
      "cell_type": "code",
      "source": [
        "tensor_three_d = tf.constant([[[1,2,0],\n",
        "                             [3,5,-1]],\n",
        "\n",
        "                            [[10,2,0],\n",
        "                             [1,0,2]],\n",
        "\n",
        "                            [[5,8,0],\n",
        "                             [2,7,0]],\n",
        "\n",
        "                            [[2,1,9],\n",
        "                             [4,-3,32]]])\n",
        "print(tensor_three_d.shape)\n",
        "x_exp = tf.expand_dims(tensor_three_d, axis = 3)\n",
        "print(x_exp.shape)\n",
        "print(tf.squeeze(x_exp, axis = 3))\n",
        "print(tf.reshape(x_exp, [4,2,3]))"
      ],
      "metadata": {
        "colab": {
          "base_uri": "https://localhost:8080/"
        },
        "id": "BVJY-7nViULL",
        "outputId": "7aeb0fc2-d1a8-4ede-dbd6-b45910bcff51"
      },
      "execution_count": null,
      "outputs": [
        {
          "output_type": "stream",
          "name": "stdout",
          "text": [
            "(4, 2, 3)\n",
            "(4, 2, 3, 1)\n",
            "tf.Tensor(\n",
            "[[[ 1  2  0]\n",
            "  [ 3  5 -1]]\n",
            "\n",
            " [[10  2  0]\n",
            "  [ 1  0  2]]\n",
            "\n",
            " [[ 5  8  0]\n",
            "  [ 2  7  0]]\n",
            "\n",
            " [[ 2  1  9]\n",
            "  [ 4 -3 32]]], shape=(4, 2, 3), dtype=int32)\n",
            "tf.Tensor(\n",
            "[[[ 1  2  0]\n",
            "  [ 3  5 -1]]\n",
            "\n",
            " [[10  2  0]\n",
            "  [ 1  0  2]]\n",
            "\n",
            " [[ 5  8  0]\n",
            "  [ 2  7  0]]\n",
            "\n",
            " [[ 2  1  9]\n",
            "  [ 4 -3 32]]], shape=(4, 2, 3), dtype=int32)\n"
          ]
        }
      ]
    },
    {
      "cell_type": "code",
      "source": [
        "x = tf.constant([[[2,3,4,5]]])\n",
        "print(x.shape)\n",
        "x_expanded = tf.expand_dims(x, axis = 0)\n",
        "print(x_expanded)"
      ],
      "metadata": {
        "colab": {
          "base_uri": "https://localhost:8080/"
        },
        "id": "M8K7l7CdjUkR",
        "outputId": "878eb07d-7a4d-405e-cdbc-13dbc3c49865"
      },
      "execution_count": null,
      "outputs": [
        {
          "output_type": "stream",
          "name": "stdout",
          "text": [
            "(1, 1, 4)\n",
            "tf.Tensor([[[[2 3 4 5]]]], shape=(1, 1, 1, 4), dtype=int32)\n"
          ]
        }
      ]
    },
    {
      "cell_type": "code",
      "source": [
        "x_squeezed = tf.squeeze(x_expanded, axis = 0)\n",
        "for i in range(2):\n",
        "  x_squeezed = tf.squeeze(x_squeezed, axis = 0)\n",
        "\n",
        "print(x_squeezed)"
      ],
      "metadata": {
        "colab": {
          "base_uri": "https://localhost:8080/"
        },
        "id": "k7lxcm_0jMBb",
        "outputId": "d2bf5323-ec45-4d00-92dc-a5ff3d341045"
      },
      "execution_count": null,
      "outputs": [
        {
          "output_type": "stream",
          "name": "stdout",
          "text": [
            "tf.Tensor([2 3 4 5], shape=(4,), dtype=int32)\n"
          ]
        }
      ]
    },
    {
      "cell_type": "code",
      "source": [
        "x_reshape = tf.constant([[3,5,6,6],\n",
        "                         [4,6,-1,2]])\n",
        "\n",
        "print(tf.reshape(x_reshape, [-1]))\n",
        "print(tf.reshape(x_reshape, [8]))"
      ],
      "metadata": {
        "colab": {
          "base_uri": "https://localhost:8080/"
        },
        "id": "T5kMjbmIjSCJ",
        "outputId": "b46664ee-e801-41ae-f2b7-851ce276f0e2"
      },
      "execution_count": null,
      "outputs": [
        {
          "output_type": "stream",
          "name": "stdout",
          "text": [
            "tf.Tensor([ 3  5  6  6  4  6 -1  2], shape=(8,), dtype=int32)\n",
            "tf.Tensor([ 3  5  6  6  4  6 -1  2], shape=(8,), dtype=int32)\n"
          ]
        }
      ]
    },
    {
      "cell_type": "code",
      "source": [
        "t1 = [[1, 2, 3],\n",
        "      [4, 5, 6],\n",
        "      [5, 6, 2],\n",
        "      [1, 2, 1]]\n",
        "\n",
        "t2 = [[7, 8, 9],\n",
        "      [10, 11, 12],\n",
        "      [0, 0, 2],\n",
        "      [-1, 5, 2]]\n",
        "\n",
        "print(tf.constant(t1).shape)\n",
        "print(tf.constant(t2).shape)\n",
        "\n",
        "tf.concat([t1, t2], axis = 0)"
      ],
      "metadata": {
        "colab": {
          "base_uri": "https://localhost:8080/"
        },
        "id": "D3Ydhm6GjXWP",
        "outputId": "bac7fea5-69d9-48e7-b1f8-5be062513139"
      },
      "execution_count": null,
      "outputs": [
        {
          "output_type": "stream",
          "name": "stdout",
          "text": [
            "(4, 3)\n",
            "(4, 3)\n"
          ]
        },
        {
          "output_type": "execute_result",
          "data": {
            "text/plain": [
              "<tf.Tensor: shape=(8, 3), dtype=int32, numpy=\n",
              "array([[ 1,  2,  3],\n",
              "       [ 4,  5,  6],\n",
              "       [ 5,  6,  2],\n",
              "       [ 1,  2,  1],\n",
              "       [ 7,  8,  9],\n",
              "       [10, 11, 12],\n",
              "       [ 0,  0,  2],\n",
              "       [-1,  5,  2]], dtype=int32)>"
            ]
          },
          "metadata": {},
          "execution_count": 25
        }
      ]
    },
    {
      "cell_type": "code",
      "source": [
        "tf.stack([t1,t2], axis = 2)"
      ],
      "metadata": {
        "colab": {
          "base_uri": "https://localhost:8080/"
        },
        "id": "e06wHZ8Vjag4",
        "outputId": "bce000c3-361a-40d7-d50c-c1397a02875b"
      },
      "execution_count": null,
      "outputs": [
        {
          "output_type": "execute_result",
          "data": {
            "text/plain": [
              "<tf.Tensor: shape=(4, 3, 2), dtype=int32, numpy=\n",
              "array([[[ 1,  7],\n",
              "        [ 2,  8],\n",
              "        [ 3,  9]],\n",
              "\n",
              "       [[ 4, 10],\n",
              "        [ 5, 11],\n",
              "        [ 6, 12]],\n",
              "\n",
              "       [[ 5,  0],\n",
              "        [ 6,  0],\n",
              "        [ 2,  2]],\n",
              "\n",
              "       [[ 1, -1],\n",
              "        [ 2,  5],\n",
              "        [ 1,  2]]], dtype=int32)>"
            ]
          },
          "metadata": {},
          "execution_count": 26
        }
      ]
    },
    {
      "cell_type": "code",
      "source": [
        "tf.stack([t1,t2], axis = 0)"
      ],
      "metadata": {
        "colab": {
          "base_uri": "https://localhost:8080/"
        },
        "id": "NyLI0PksjfGI",
        "outputId": "0682e56a-95d0-4aa1-bbc7-686bc2184748"
      },
      "execution_count": null,
      "outputs": [
        {
          "output_type": "execute_result",
          "data": {
            "text/plain": [
              "<tf.Tensor: shape=(2, 4, 3), dtype=int32, numpy=\n",
              "array([[[ 1,  2,  3],\n",
              "        [ 4,  5,  6],\n",
              "        [ 5,  6,  2],\n",
              "        [ 1,  2,  1]],\n",
              "\n",
              "       [[ 7,  8,  9],\n",
              "        [10, 11, 12],\n",
              "        [ 0,  0,  2],\n",
              "        [-1,  5,  2]]], dtype=int32)>"
            ]
          },
          "metadata": {},
          "execution_count": 27
        }
      ]
    },
    {
      "cell_type": "code",
      "source": [
        "tf.concat([tf.expand_dims(t, axis = 0) for t in [t1,t2]], axis = 0)\n",
        "\n",
        "#1,4,3 - 1,4,3 --> 2,4,3"
      ],
      "metadata": {
        "colab": {
          "base_uri": "https://localhost:8080/"
        },
        "id": "bsIS-PgXjhL6",
        "outputId": "80c30280-83d5-4a1d-cd06-d77cd073aecd"
      },
      "execution_count": null,
      "outputs": [
        {
          "output_type": "execute_result",
          "data": {
            "text/plain": [
              "<tf.Tensor: shape=(2, 4, 3), dtype=int32, numpy=\n",
              "array([[[ 1,  2,  3],\n",
              "        [ 4,  5,  6],\n",
              "        [ 5,  6,  2],\n",
              "        [ 1,  2,  1]],\n",
              "\n",
              "       [[ 7,  8,  9],\n",
              "        [10, 11, 12],\n",
              "        [ 0,  0,  2],\n",
              "        [-1,  5,  2]]], dtype=int32)>"
            ]
          },
          "metadata": {},
          "execution_count": 29
        }
      ]
    },
    {
      "cell_type": "code",
      "source": [
        "t = tf.constant([[1, 2, 3],\n",
        "                 [4, 5, 6]])\n",
        "\n",
        "paddings = tf.constant([[1, 5,],\n",
        "                        [2, 3]])\n",
        "\n",
        "tf.pad(t, paddings, \"CONSTANT\", constant_values = 0)"
      ],
      "metadata": {
        "colab": {
          "base_uri": "https://localhost:8080/"
        },
        "id": "uzU6G459jjmJ",
        "outputId": "82477f27-0586-40f1-bd6b-cb9e794e3736"
      },
      "execution_count": null,
      "outputs": [
        {
          "output_type": "execute_result",
          "data": {
            "text/plain": [
              "<tf.Tensor: shape=(8, 8), dtype=int32, numpy=\n",
              "array([[0, 0, 0, 0, 0, 0, 0, 0],\n",
              "       [0, 0, 1, 2, 3, 0, 0, 0],\n",
              "       [0, 0, 4, 5, 6, 0, 0, 0],\n",
              "       [0, 0, 0, 0, 0, 0, 0, 0],\n",
              "       [0, 0, 0, 0, 0, 0, 0, 0],\n",
              "       [0, 0, 0, 0, 0, 0, 0, 0],\n",
              "       [0, 0, 0, 0, 0, 0, 0, 0],\n",
              "       [0, 0, 0, 0, 0, 0, 0, 0]], dtype=int32)>"
            ]
          },
          "metadata": {},
          "execution_count": 30
        }
      ]
    },
    {
      "cell_type": "code",
      "source": [
        "params = tf.constant(['p0', 'p1', 'p2', 'p3', 'p4', 'p5'])\n",
        "print(params.shape)\n",
        "params[1:3+1]"
      ],
      "metadata": {
        "colab": {
          "base_uri": "https://localhost:8080/"
        },
        "id": "V12noo66jpBp",
        "outputId": "8cfedb57-2076-4efa-9304-aa2450a75ea1"
      },
      "execution_count": null,
      "outputs": [
        {
          "output_type": "stream",
          "name": "stdout",
          "text": [
            "(6,)\n"
          ]
        },
        {
          "output_type": "execute_result",
          "data": {
            "text/plain": [
              "<tf.Tensor: shape=(3,), dtype=string, numpy=array([b'p1', b'p2', b'p3'], dtype=object)>"
            ]
          },
          "metadata": {},
          "execution_count": 31
        }
      ]
    },
    {
      "cell_type": "code",
      "source": [
        "tf.gather(params, [0,5,3], axis = 0)"
      ],
      "metadata": {
        "colab": {
          "base_uri": "https://localhost:8080/"
        },
        "id": "B-CNtRpijsJJ",
        "outputId": "1d66f95c-7fd8-4ed6-e0a9-b0812c798bae"
      },
      "execution_count": null,
      "outputs": [
        {
          "output_type": "execute_result",
          "data": {
            "text/plain": [
              "<tf.Tensor: shape=(3,), dtype=string, numpy=array([b'p0', b'p5', b'p3'], dtype=object)>"
            ]
          },
          "metadata": {},
          "execution_count": 32
        }
      ]
    },
    {
      "cell_type": "code",
      "source": [
        "indices = [[[0, 1],\n",
        "            [1, 0]],\n",
        "\n",
        "            [[0, 0],\n",
        "             [1, 1]]]\n",
        "\n",
        "params = [[['a0', 'b0'],\n",
        "           ['c0', 'd0']],\n",
        "\n",
        "          [['a1', 'b1'],\n",
        "           ['c1', 'd1']]]\n",
        "\n",
        "tf.gather_nd(params, indices)"
      ],
      "metadata": {
        "colab": {
          "base_uri": "https://localhost:8080/"
        },
        "id": "T61aofXtjtev",
        "outputId": "255f2992-986e-4f61-fd29-ef74c4665c57"
      },
      "execution_count": null,
      "outputs": [
        {
          "output_type": "execute_result",
          "data": {
            "text/plain": [
              "<tf.Tensor: shape=(2, 2, 2), dtype=string, numpy=\n",
              "array([[[b'c0', b'd0'],\n",
              "        [b'a1', b'b1']],\n",
              "\n",
              "       [[b'a0', b'b0'],\n",
              "        [b'c1', b'd1']]], dtype=object)>"
            ]
          },
          "metadata": {},
          "execution_count": 33
        }
      ]
    },
    {
      "cell_type": "code",
      "source": [
        "tensor_string = tf.constant([\"hello\", \"i am \", \"a string\"])\n",
        "print(tensor_string)"
      ],
      "metadata": {
        "colab": {
          "base_uri": "https://localhost:8080/"
        },
        "id": "JVdLJO5vjzix",
        "outputId": "24a91f8f-e8f6-440d-e7e1-7e030e67091b"
      },
      "execution_count": null,
      "outputs": [
        {
          "output_type": "stream",
          "name": "stdout",
          "text": [
            "tf.Tensor([b'hello' b'i am ' b'a string'], shape=(3,), dtype=string)\n"
          ]
        }
      ]
    },
    {
      "cell_type": "code",
      "source": [
        "tf.strings.join(tensor_string, separator=\"+\")"
      ],
      "metadata": {
        "colab": {
          "base_uri": "https://localhost:8080/"
        },
        "id": "5kVzmlNJj6vN",
        "outputId": "1ee7e04e-dc15-44b2-bb98-3a0a2407a33e"
      },
      "execution_count": null,
      "outputs": [
        {
          "output_type": "execute_result",
          "data": {
            "text/plain": [
              "<tf.Tensor: shape=(), dtype=string, numpy=b'hello+i am +a string'>"
            ]
          },
          "metadata": {},
          "execution_count": 35
        }
      ]
    },
    {
      "cell_type": "code",
      "source": [
        "with tf.device('CPU:0'):\n",
        "  x_1 = tf.constant([1,3,4])\n",
        "  x_2 = tf.constant([1])\n",
        "\n",
        "with tf.device('GPU:0'):\n",
        "  x_3 = x_1 + x_2\n",
        "\n",
        "print(x_1, x_1.device)\n",
        "print(x_2, x_2.device)\n",
        "print(x_3, x_3.device)"
      ],
      "metadata": {
        "colab": {
          "base_uri": "https://localhost:8080/"
        },
        "id": "g0Ufsks_j76h",
        "outputId": "71561961-9ff6-4e53-8d21-6fd3f4d00404"
      },
      "execution_count": null,
      "outputs": [
        {
          "output_type": "stream",
          "name": "stdout",
          "text": [
            "tf.Tensor([1 3 4], shape=(3,), dtype=int32) /job:localhost/replica:0/task:0/device:CPU:0\n",
            "tf.Tensor([1], shape=(1,), dtype=int32) /job:localhost/replica:0/task:0/device:CPU:0\n",
            "tf.Tensor([2 4 5], shape=(3,), dtype=int32) /job:localhost/replica:0/task:0/device:CPU:0\n"
          ]
        }
      ]
    },
    {
      "cell_type": "markdown",
      "source": [
        "# <font color='blue'>**Gradient**</font>"
      ],
      "metadata": {
        "id": "8nY889xaQ1jL"
      }
    },
    {
      "cell_type": "code",
      "source": [
        "inp_var = tf.Variable(initial_value=10.)\n",
        "with tf.GradientTape() as grad:\n",
        "  result = tf.square(inp_var)\n",
        "gradient = grad.gradient(result,inp_var)"
      ],
      "metadata": {
        "id": "VNxFbJrCj9cC"
      },
      "execution_count": 4,
      "outputs": []
    },
    {
      "cell_type": "code",
      "source": [
        "print(gradient)"
      ],
      "metadata": {
        "colab": {
          "base_uri": "https://localhost:8080/"
        },
        "id": "am5N7YhfRFnG",
        "outputId": "eb2a1d3b-996c-442c-eac0-89d5a237c741"
      },
      "execution_count": 6,
      "outputs": [
        {
          "output_type": "stream",
          "name": "stdout",
          "text": [
            "tf.Tensor(20.0, shape=(), dtype=float32)\n"
          ]
        }
      ]
    },
    {
      "cell_type": "code",
      "source": [
        "inp_const = tf.constant(10.)\n",
        "with tf.GradientTape() as tape:\n",
        "  tape.watch(inp_const)\n",
        "  result = tf.square(inp_const)\n",
        "grad = tape.gradient(result,inp_const)"
      ],
      "metadata": {
        "id": "3JEII7OtRG9Q"
      },
      "execution_count": 7,
      "outputs": []
    },
    {
      "cell_type": "code",
      "source": [
        "print(grad)"
      ],
      "metadata": {
        "colab": {
          "base_uri": "https://localhost:8080/"
        },
        "id": "_TJ0mglnSmUo",
        "outputId": "a2a3b1fa-ad88-4f86-fc48-607876a576cd"
      },
      "execution_count": 8,
      "outputs": [
        {
          "output_type": "stream",
          "name": "stdout",
          "text": [
            "tf.Tensor(20.0, shape=(), dtype=float32)\n"
          ]
        }
      ]
    },
    {
      "cell_type": "code",
      "source": [],
      "metadata": {
        "id": "v2aMd9q4SpPm"
      },
      "execution_count": null,
      "outputs": []
    }
  ]
}