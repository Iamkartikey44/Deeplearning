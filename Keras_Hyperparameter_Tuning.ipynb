{
  "nbformat": 4,
  "nbformat_minor": 0,
  "metadata": {
    "colab": {
      "provenance": []
    },
    "kernelspec": {
      "name": "python3",
      "display_name": "Python 3"
    },
    "language_info": {
      "name": "python"
    }
  },
  "cells": [
    {
      "cell_type": "code",
      "execution_count": null,
      "metadata": {
        "id": "fa_9b3VmNaRO"
      },
      "outputs": [],
      "source": [
        "import pandas as pd\n",
        "import numpy as np\n",
        "\n",
        "from sklearn.preprocessing import StandardScaler\n",
        "from sklearn.model_selection import train_test_split\n",
        "\n",
        "\n",
        "import tensorflow\n",
        "from tensorflow import keras\n",
        "from keras import Sequential\n",
        "from keras.layers import Dense,Dropout\n",
        "\n",
        "import keras_tuner as kt"
      ]
    },
    {
      "cell_type": "code",
      "source": [
        "#!pip install -U keras-tuner"
      ],
      "metadata": {
        "id": "cRFP8Xg15oJr"
      },
      "execution_count": null,
      "outputs": []
    },
    {
      "cell_type": "code",
      "source": [
        "df = pd.read_csv('/content/Diabetes.csv')\n",
        "df.head()"
      ],
      "metadata": {
        "colab": {
          "base_uri": "https://localhost:8080/",
          "height": 223
        },
        "id": "e1wyu-P7sjWt",
        "outputId": "087ab8d7-b021-47f0-8d91-2327f2cedb52"
      },
      "execution_count": null,
      "outputs": [
        {
          "output_type": "execute_result",
          "data": {
            "text/plain": [
              "   pregnancies  plasma glucose concentration  diastolic blood pressure  \\\n",
              "0            6                           148                        72   \n",
              "1            1                            85                        66   \n",
              "2            8                           183                        64   \n",
              "3            1                            89                        66   \n",
              "4            0                           137                        40   \n",
              "\n",
              "   triceps skinfold thickness  insulin  body mass index  \\\n",
              "0                          35        0             33.6   \n",
              "1                          29        0             26.6   \n",
              "2                           0        0             23.3   \n",
              "3                          23       94             28.1   \n",
              "4                          35      168             43.1   \n",
              "\n",
              "   diabetes pedigree function  age  diabetic  \n",
              "0                       0.627   50         1  \n",
              "1                       0.351   31         0  \n",
              "2                       0.672   32         1  \n",
              "3                       0.167   21         0  \n",
              "4                       2.288   33         1  "
            ],
            "text/html": [
              "\n",
              "  <div id=\"df-d0e96fbc-7dcd-458a-8653-1d584ead146d\" class=\"colab-df-container\">\n",
              "    <div>\n",
              "<style scoped>\n",
              "    .dataframe tbody tr th:only-of-type {\n",
              "        vertical-align: middle;\n",
              "    }\n",
              "\n",
              "    .dataframe tbody tr th {\n",
              "        vertical-align: top;\n",
              "    }\n",
              "\n",
              "    .dataframe thead th {\n",
              "        text-align: right;\n",
              "    }\n",
              "</style>\n",
              "<table border=\"1\" class=\"dataframe\">\n",
              "  <thead>\n",
              "    <tr style=\"text-align: right;\">\n",
              "      <th></th>\n",
              "      <th>pregnancies</th>\n",
              "      <th>plasma glucose concentration</th>\n",
              "      <th>diastolic blood pressure</th>\n",
              "      <th>triceps skinfold thickness</th>\n",
              "      <th>insulin</th>\n",
              "      <th>body mass index</th>\n",
              "      <th>diabetes pedigree function</th>\n",
              "      <th>age</th>\n",
              "      <th>diabetic</th>\n",
              "    </tr>\n",
              "  </thead>\n",
              "  <tbody>\n",
              "    <tr>\n",
              "      <th>0</th>\n",
              "      <td>6</td>\n",
              "      <td>148</td>\n",
              "      <td>72</td>\n",
              "      <td>35</td>\n",
              "      <td>0</td>\n",
              "      <td>33.6</td>\n",
              "      <td>0.627</td>\n",
              "      <td>50</td>\n",
              "      <td>1</td>\n",
              "    </tr>\n",
              "    <tr>\n",
              "      <th>1</th>\n",
              "      <td>1</td>\n",
              "      <td>85</td>\n",
              "      <td>66</td>\n",
              "      <td>29</td>\n",
              "      <td>0</td>\n",
              "      <td>26.6</td>\n",
              "      <td>0.351</td>\n",
              "      <td>31</td>\n",
              "      <td>0</td>\n",
              "    </tr>\n",
              "    <tr>\n",
              "      <th>2</th>\n",
              "      <td>8</td>\n",
              "      <td>183</td>\n",
              "      <td>64</td>\n",
              "      <td>0</td>\n",
              "      <td>0</td>\n",
              "      <td>23.3</td>\n",
              "      <td>0.672</td>\n",
              "      <td>32</td>\n",
              "      <td>1</td>\n",
              "    </tr>\n",
              "    <tr>\n",
              "      <th>3</th>\n",
              "      <td>1</td>\n",
              "      <td>89</td>\n",
              "      <td>66</td>\n",
              "      <td>23</td>\n",
              "      <td>94</td>\n",
              "      <td>28.1</td>\n",
              "      <td>0.167</td>\n",
              "      <td>21</td>\n",
              "      <td>0</td>\n",
              "    </tr>\n",
              "    <tr>\n",
              "      <th>4</th>\n",
              "      <td>0</td>\n",
              "      <td>137</td>\n",
              "      <td>40</td>\n",
              "      <td>35</td>\n",
              "      <td>168</td>\n",
              "      <td>43.1</td>\n",
              "      <td>2.288</td>\n",
              "      <td>33</td>\n",
              "      <td>1</td>\n",
              "    </tr>\n",
              "  </tbody>\n",
              "</table>\n",
              "</div>\n",
              "    <div class=\"colab-df-buttons\">\n",
              "\n",
              "  <div class=\"colab-df-container\">\n",
              "    <button class=\"colab-df-convert\" onclick=\"convertToInteractive('df-d0e96fbc-7dcd-458a-8653-1d584ead146d')\"\n",
              "            title=\"Convert this dataframe to an interactive table.\"\n",
              "            style=\"display:none;\">\n",
              "\n",
              "  <svg xmlns=\"http://www.w3.org/2000/svg\" height=\"24px\" viewBox=\"0 -960 960 960\">\n",
              "    <path d=\"M120-120v-720h720v720H120Zm60-500h600v-160H180v160Zm220 220h160v-160H400v160Zm0 220h160v-160H400v160ZM180-400h160v-160H180v160Zm440 0h160v-160H620v160ZM180-180h160v-160H180v160Zm440 0h160v-160H620v160Z\"/>\n",
              "  </svg>\n",
              "    </button>\n",
              "\n",
              "  <style>\n",
              "    .colab-df-container {\n",
              "      display:flex;\n",
              "      gap: 12px;\n",
              "    }\n",
              "\n",
              "    .colab-df-convert {\n",
              "      background-color: #E8F0FE;\n",
              "      border: none;\n",
              "      border-radius: 50%;\n",
              "      cursor: pointer;\n",
              "      display: none;\n",
              "      fill: #1967D2;\n",
              "      height: 32px;\n",
              "      padding: 0 0 0 0;\n",
              "      width: 32px;\n",
              "    }\n",
              "\n",
              "    .colab-df-convert:hover {\n",
              "      background-color: #E2EBFA;\n",
              "      box-shadow: 0px 1px 2px rgba(60, 64, 67, 0.3), 0px 1px 3px 1px rgba(60, 64, 67, 0.15);\n",
              "      fill: #174EA6;\n",
              "    }\n",
              "\n",
              "    .colab-df-buttons div {\n",
              "      margin-bottom: 4px;\n",
              "    }\n",
              "\n",
              "    [theme=dark] .colab-df-convert {\n",
              "      background-color: #3B4455;\n",
              "      fill: #D2E3FC;\n",
              "    }\n",
              "\n",
              "    [theme=dark] .colab-df-convert:hover {\n",
              "      background-color: #434B5C;\n",
              "      box-shadow: 0px 1px 3px 1px rgba(0, 0, 0, 0.15);\n",
              "      filter: drop-shadow(0px 1px 2px rgba(0, 0, 0, 0.3));\n",
              "      fill: #FFFFFF;\n",
              "    }\n",
              "  </style>\n",
              "\n",
              "    <script>\n",
              "      const buttonEl =\n",
              "        document.querySelector('#df-d0e96fbc-7dcd-458a-8653-1d584ead146d button.colab-df-convert');\n",
              "      buttonEl.style.display =\n",
              "        google.colab.kernel.accessAllowed ? 'block' : 'none';\n",
              "\n",
              "      async function convertToInteractive(key) {\n",
              "        const element = document.querySelector('#df-d0e96fbc-7dcd-458a-8653-1d584ead146d');\n",
              "        const dataTable =\n",
              "          await google.colab.kernel.invokeFunction('convertToInteractive',\n",
              "                                                    [key], {});\n",
              "        if (!dataTable) return;\n",
              "\n",
              "        const docLinkHtml = 'Like what you see? Visit the ' +\n",
              "          '<a target=\"_blank\" href=https://colab.research.google.com/notebooks/data_table.ipynb>data table notebook</a>'\n",
              "          + ' to learn more about interactive tables.';\n",
              "        element.innerHTML = '';\n",
              "        dataTable['output_type'] = 'display_data';\n",
              "        await google.colab.output.renderOutput(dataTable, element);\n",
              "        const docLink = document.createElement('div');\n",
              "        docLink.innerHTML = docLinkHtml;\n",
              "        element.appendChild(docLink);\n",
              "      }\n",
              "    </script>\n",
              "  </div>\n",
              "\n",
              "\n",
              "<div id=\"df-5fa70c2b-0798-4455-b259-b2de1427cd73\">\n",
              "  <button class=\"colab-df-quickchart\" onclick=\"quickchart('df-5fa70c2b-0798-4455-b259-b2de1427cd73')\"\n",
              "            title=\"Suggest charts\"\n",
              "            style=\"display:none;\">\n",
              "\n",
              "<svg xmlns=\"http://www.w3.org/2000/svg\" height=\"24px\"viewBox=\"0 0 24 24\"\n",
              "     width=\"24px\">\n",
              "    <g>\n",
              "        <path d=\"M19 3H5c-1.1 0-2 .9-2 2v14c0 1.1.9 2 2 2h14c1.1 0 2-.9 2-2V5c0-1.1-.9-2-2-2zM9 17H7v-7h2v7zm4 0h-2V7h2v10zm4 0h-2v-4h2v4z\"/>\n",
              "    </g>\n",
              "</svg>\n",
              "  </button>\n",
              "\n",
              "<style>\n",
              "  .colab-df-quickchart {\n",
              "      --bg-color: #E8F0FE;\n",
              "      --fill-color: #1967D2;\n",
              "      --hover-bg-color: #E2EBFA;\n",
              "      --hover-fill-color: #174EA6;\n",
              "      --disabled-fill-color: #AAA;\n",
              "      --disabled-bg-color: #DDD;\n",
              "  }\n",
              "\n",
              "  [theme=dark] .colab-df-quickchart {\n",
              "      --bg-color: #3B4455;\n",
              "      --fill-color: #D2E3FC;\n",
              "      --hover-bg-color: #434B5C;\n",
              "      --hover-fill-color: #FFFFFF;\n",
              "      --disabled-bg-color: #3B4455;\n",
              "      --disabled-fill-color: #666;\n",
              "  }\n",
              "\n",
              "  .colab-df-quickchart {\n",
              "    background-color: var(--bg-color);\n",
              "    border: none;\n",
              "    border-radius: 50%;\n",
              "    cursor: pointer;\n",
              "    display: none;\n",
              "    fill: var(--fill-color);\n",
              "    height: 32px;\n",
              "    padding: 0;\n",
              "    width: 32px;\n",
              "  }\n",
              "\n",
              "  .colab-df-quickchart:hover {\n",
              "    background-color: var(--hover-bg-color);\n",
              "    box-shadow: 0 1px 2px rgba(60, 64, 67, 0.3), 0 1px 3px 1px rgba(60, 64, 67, 0.15);\n",
              "    fill: var(--button-hover-fill-color);\n",
              "  }\n",
              "\n",
              "  .colab-df-quickchart-complete:disabled,\n",
              "  .colab-df-quickchart-complete:disabled:hover {\n",
              "    background-color: var(--disabled-bg-color);\n",
              "    fill: var(--disabled-fill-color);\n",
              "    box-shadow: none;\n",
              "  }\n",
              "\n",
              "  .colab-df-spinner {\n",
              "    border: 2px solid var(--fill-color);\n",
              "    border-color: transparent;\n",
              "    border-bottom-color: var(--fill-color);\n",
              "    animation:\n",
              "      spin 1s steps(1) infinite;\n",
              "  }\n",
              "\n",
              "  @keyframes spin {\n",
              "    0% {\n",
              "      border-color: transparent;\n",
              "      border-bottom-color: var(--fill-color);\n",
              "      border-left-color: var(--fill-color);\n",
              "    }\n",
              "    20% {\n",
              "      border-color: transparent;\n",
              "      border-left-color: var(--fill-color);\n",
              "      border-top-color: var(--fill-color);\n",
              "    }\n",
              "    30% {\n",
              "      border-color: transparent;\n",
              "      border-left-color: var(--fill-color);\n",
              "      border-top-color: var(--fill-color);\n",
              "      border-right-color: var(--fill-color);\n",
              "    }\n",
              "    40% {\n",
              "      border-color: transparent;\n",
              "      border-right-color: var(--fill-color);\n",
              "      border-top-color: var(--fill-color);\n",
              "    }\n",
              "    60% {\n",
              "      border-color: transparent;\n",
              "      border-right-color: var(--fill-color);\n",
              "    }\n",
              "    80% {\n",
              "      border-color: transparent;\n",
              "      border-right-color: var(--fill-color);\n",
              "      border-bottom-color: var(--fill-color);\n",
              "    }\n",
              "    90% {\n",
              "      border-color: transparent;\n",
              "      border-bottom-color: var(--fill-color);\n",
              "    }\n",
              "  }\n",
              "</style>\n",
              "\n",
              "  <script>\n",
              "    async function quickchart(key) {\n",
              "      const quickchartButtonEl =\n",
              "        document.querySelector('#' + key + ' button');\n",
              "      quickchartButtonEl.disabled = true;  // To prevent multiple clicks.\n",
              "      quickchartButtonEl.classList.add('colab-df-spinner');\n",
              "      try {\n",
              "        const charts = await google.colab.kernel.invokeFunction(\n",
              "            'suggestCharts', [key], {});\n",
              "      } catch (error) {\n",
              "        console.error('Error during call to suggestCharts:', error);\n",
              "      }\n",
              "      quickchartButtonEl.classList.remove('colab-df-spinner');\n",
              "      quickchartButtonEl.classList.add('colab-df-quickchart-complete');\n",
              "    }\n",
              "    (() => {\n",
              "      let quickchartButtonEl =\n",
              "        document.querySelector('#df-5fa70c2b-0798-4455-b259-b2de1427cd73 button');\n",
              "      quickchartButtonEl.style.display =\n",
              "        google.colab.kernel.accessAllowed ? 'block' : 'none';\n",
              "    })();\n",
              "  </script>\n",
              "</div>\n",
              "    </div>\n",
              "  </div>\n"
            ]
          },
          "metadata": {},
          "execution_count": 4
        }
      ]
    },
    {
      "cell_type": "code",
      "source": [
        "df.corr()['diabetic']"
      ],
      "metadata": {
        "colab": {
          "base_uri": "https://localhost:8080/"
        },
        "id": "cXTijn3nsnXD",
        "outputId": "01d537e1-117e-493d-9620-ed6470a379f9"
      },
      "execution_count": null,
      "outputs": [
        {
          "output_type": "execute_result",
          "data": {
            "text/plain": [
              "pregnancies                     0.221898\n",
              "plasma glucose concentration    0.466581\n",
              "diastolic blood pressure        0.065068\n",
              "triceps skinfold thickness      0.074752\n",
              "insulin                         0.130548\n",
              "body mass index                 0.292695\n",
              "diabetes pedigree function      0.173844\n",
              "age                             0.238356\n",
              "diabetic                        1.000000\n",
              "Name: diabetic, dtype: float64"
            ]
          },
          "metadata": {},
          "execution_count": 5
        }
      ]
    },
    {
      "cell_type": "code",
      "source": [
        "X = df.iloc[:,:-1].values\n",
        "y = df.iloc[:,-1].values"
      ],
      "metadata": {
        "id": "q7Gn0bCutZ-U"
      },
      "execution_count": null,
      "outputs": []
    },
    {
      "cell_type": "code",
      "source": [
        "scaler = StandardScaler()"
      ],
      "metadata": {
        "id": "s8TrOuLQtmpp"
      },
      "execution_count": null,
      "outputs": []
    },
    {
      "cell_type": "code",
      "source": [
        "x_scale = scaler.fit_transform(X)"
      ],
      "metadata": {
        "id": "v7Wg-r_Ktm8C"
      },
      "execution_count": null,
      "outputs": []
    },
    {
      "cell_type": "code",
      "source": [
        "x_scale.shape"
      ],
      "metadata": {
        "colab": {
          "base_uri": "https://localhost:8080/"
        },
        "id": "a2NNqA1It7kr",
        "outputId": "b57d5e62-cae1-46f8-b1ae-22b3be8d2799"
      },
      "execution_count": null,
      "outputs": [
        {
          "output_type": "execute_result",
          "data": {
            "text/plain": [
              "(768, 8)"
            ]
          },
          "metadata": {},
          "execution_count": 9
        }
      ]
    },
    {
      "cell_type": "code",
      "source": [
        "X_train,X_test,y_train,y_test = train_test_split(x_scale,y,test_size=0.2,random_state=1)"
      ],
      "metadata": {
        "id": "CCWCjXFet8sU"
      },
      "execution_count": null,
      "outputs": []
    },
    {
      "cell_type": "code",
      "source": [
        "model = Sequential()\n",
        "model.add(Dense(32,activation='relu',input_dim=8))\n",
        "model.add(Dense(1,activation='sigmoid'))\n",
        "\n",
        "model.compile(optimizer='Adam',loss='binary_crossentropy',metrics=['accuracy'])"
      ],
      "metadata": {
        "id": "ncLd2PsouUXM"
      },
      "execution_count": null,
      "outputs": []
    },
    {
      "cell_type": "code",
      "source": [
        "model.summary()"
      ],
      "metadata": {
        "colab": {
          "base_uri": "https://localhost:8080/"
        },
        "id": "Ocxy0Ytt1Q3j",
        "outputId": "4a5dea1f-7c93-4a1b-f598-e15d084682fa"
      },
      "execution_count": null,
      "outputs": [
        {
          "output_type": "stream",
          "name": "stdout",
          "text": [
            "Model: \"sequential\"\n",
            "_________________________________________________________________\n",
            " Layer (type)                Output Shape              Param #   \n",
            "=================================================================\n",
            " dense (Dense)               (None, 32)                288       \n",
            "                                                                 \n",
            " dense_1 (Dense)             (None, 1)                 33        \n",
            "                                                                 \n",
            "=================================================================\n",
            "Total params: 321 (1.25 KB)\n",
            "Trainable params: 321 (1.25 KB)\n",
            "Non-trainable params: 0 (0.00 Byte)\n",
            "_________________________________________________________________\n"
          ]
        }
      ]
    },
    {
      "cell_type": "code",
      "source": [
        "model.fit(X_train,y_train,batch_size=32,epochs=10,validation_data = (X_test,y_test))"
      ],
      "metadata": {
        "colab": {
          "base_uri": "https://localhost:8080/"
        },
        "id": "2Q_3dVmM1TcA",
        "outputId": "27abc307-499c-45c2-b857-e25a53d7fc48"
      },
      "execution_count": null,
      "outputs": [
        {
          "output_type": "stream",
          "name": "stdout",
          "text": [
            "Epoch 1/10\n",
            "20/20 [==============================] - 3s 52ms/step - loss: 0.6939 - accuracy: 0.5179 - val_loss: 0.6514 - val_accuracy: 0.6688\n",
            "Epoch 2/10\n",
            "20/20 [==============================] - 0s 14ms/step - loss: 0.6408 - accuracy: 0.6645 - val_loss: 0.6081 - val_accuracy: 0.7468\n",
            "Epoch 3/10\n",
            "20/20 [==============================] - 0s 13ms/step - loss: 0.6015 - accuracy: 0.7215 - val_loss: 0.5755 - val_accuracy: 0.7922\n",
            "Epoch 4/10\n",
            "20/20 [==============================] - 0s 24ms/step - loss: 0.5712 - accuracy: 0.7394 - val_loss: 0.5495 - val_accuracy: 0.7987\n",
            "Epoch 5/10\n",
            "20/20 [==============================] - 0s 13ms/step - loss: 0.5463 - accuracy: 0.7492 - val_loss: 0.5292 - val_accuracy: 0.7987\n",
            "Epoch 6/10\n",
            "20/20 [==============================] - 0s 13ms/step - loss: 0.5258 - accuracy: 0.7573 - val_loss: 0.5129 - val_accuracy: 0.7987\n",
            "Epoch 7/10\n",
            "20/20 [==============================] - 0s 12ms/step - loss: 0.5101 - accuracy: 0.7573 - val_loss: 0.4999 - val_accuracy: 0.7987\n",
            "Epoch 8/10\n",
            "20/20 [==============================] - 0s 10ms/step - loss: 0.4979 - accuracy: 0.7687 - val_loss: 0.4905 - val_accuracy: 0.7987\n",
            "Epoch 9/10\n",
            "20/20 [==============================] - 0s 8ms/step - loss: 0.4871 - accuracy: 0.7671 - val_loss: 0.4831 - val_accuracy: 0.7987\n",
            "Epoch 10/10\n",
            "20/20 [==============================] - 0s 14ms/step - loss: 0.4802 - accuracy: 0.7655 - val_loss: 0.4760 - val_accuracy: 0.7922\n"
          ]
        },
        {
          "output_type": "execute_result",
          "data": {
            "text/plain": [
              "<keras.src.callbacks.History at 0x7effbf7fda20>"
            ]
          },
          "metadata": {},
          "execution_count": 13
        }
      ]
    },
    {
      "cell_type": "markdown",
      "source": [
        "## How to select appropriate optimizer"
      ],
      "metadata": {
        "id": "0IXoKP425ekd"
      }
    },
    {
      "cell_type": "code",
      "source": [
        "def build_model(hp):\n",
        "  model = Sequential()\n",
        "\n",
        "  model.add(Dense(32,activation='relu',input_dim=8))\n",
        "  model.add(Dense(1,activation='sigmoid'))\n",
        "\n",
        "  model.compile(optimizer=hp.Choice(\"optimizer\",values=['adam','sgd','rmsprop','adadelta']),loss='binary_crossentropy',metrics=['accuracy'])\n",
        "\n",
        "  return model"
      ],
      "metadata": {
        "id": "GTkUqKV_29xz"
      },
      "execution_count": null,
      "outputs": []
    },
    {
      "cell_type": "code",
      "source": [
        "tuner = kt.RandomSearch(build_model,objective='val_accuracy',max_trials=5)"
      ],
      "metadata": {
        "id": "Wguc6b958Ps0"
      },
      "execution_count": null,
      "outputs": []
    },
    {
      "cell_type": "code",
      "source": [
        "tuner.search(X_train,y_train,epochs=5,validation_data=(X_test,y_test))"
      ],
      "metadata": {
        "id": "7gngT7_5vbJg",
        "colab": {
          "base_uri": "https://localhost:8080/"
        },
        "outputId": "ba7922c5-754a-4091-ccb8-15294cb392e5"
      },
      "execution_count": null,
      "outputs": [
        {
          "output_type": "stream",
          "name": "stdout",
          "text": [
            "Trial 4 Complete [00h 00m 02s]\n",
            "val_accuracy: 0.5064935088157654\n",
            "\n",
            "Best val_accuracy So Far: 0.7532467246055603\n",
            "Total elapsed time: 00h 00m 12s\n"
          ]
        }
      ]
    },
    {
      "cell_type": "code",
      "source": [
        "tuner.get_best_hyperparameters()[0].values"
      ],
      "metadata": {
        "colab": {
          "base_uri": "https://localhost:8080/"
        },
        "id": "kcJW99QnvqEY",
        "outputId": "91097b36-81bb-43bb-87aa-356f73c069ef"
      },
      "execution_count": null,
      "outputs": [
        {
          "output_type": "execute_result",
          "data": {
            "text/plain": [
              "{'optimizer': 'rmsprop'}"
            ]
          },
          "metadata": {},
          "execution_count": 17
        }
      ]
    },
    {
      "cell_type": "code",
      "source": [
        "tuner_model = tuner.get_best_models(num_models=1)[0]"
      ],
      "metadata": {
        "id": "-4fieqfjwbW9"
      },
      "execution_count": null,
      "outputs": []
    },
    {
      "cell_type": "code",
      "source": [
        "tuner_model.summary()"
      ],
      "metadata": {
        "colab": {
          "base_uri": "https://localhost:8080/"
        },
        "id": "6jUG1emyw_uX",
        "outputId": "4b0287fb-b367-4363-821b-3d8fff47381a"
      },
      "execution_count": null,
      "outputs": [
        {
          "output_type": "stream",
          "name": "stdout",
          "text": [
            "Model: \"sequential\"\n",
            "_________________________________________________________________\n",
            " Layer (type)                Output Shape              Param #   \n",
            "=================================================================\n",
            " dense (Dense)               (None, 32)                288       \n",
            "                                                                 \n",
            " dense_1 (Dense)             (None, 1)                 33        \n",
            "                                                                 \n",
            "=================================================================\n",
            "Total params: 321 (1.25 KB)\n",
            "Trainable params: 321 (1.25 KB)\n",
            "Non-trainable params: 0 (0.00 Byte)\n",
            "_________________________________________________________________\n"
          ]
        }
      ]
    },
    {
      "cell_type": "code",
      "source": [
        "tuner_model.fit(X_train,y_train,batch_size=32,epochs=100,initial_epoch=6,validation_data=(X_test,y_test))"
      ],
      "metadata": {
        "colab": {
          "base_uri": "https://localhost:8080/"
        },
        "id": "3wyo7OuuxHYm",
        "outputId": "47a649ae-bc91-4eda-a4dc-6d86473c4d13"
      },
      "execution_count": null,
      "outputs": [
        {
          "output_type": "stream",
          "name": "stdout",
          "text": [
            "Epoch 7/100\n",
            "20/20 [==============================] - 1s 16ms/step - loss: 0.5270 - accuracy: 0.7573 - val_loss: 0.5291 - val_accuracy: 0.7532\n",
            "Epoch 8/100\n",
            "20/20 [==============================] - 0s 5ms/step - loss: 0.5095 - accuracy: 0.7622 - val_loss: 0.5116 - val_accuracy: 0.7662\n",
            "Epoch 9/100\n",
            "20/20 [==============================] - 0s 5ms/step - loss: 0.4965 - accuracy: 0.7655 - val_loss: 0.4985 - val_accuracy: 0.7727\n",
            "Epoch 10/100\n",
            "20/20 [==============================] - 0s 6ms/step - loss: 0.4856 - accuracy: 0.7671 - val_loss: 0.4892 - val_accuracy: 0.7792\n",
            "Epoch 11/100\n",
            "20/20 [==============================] - 0s 5ms/step - loss: 0.4779 - accuracy: 0.7818 - val_loss: 0.4822 - val_accuracy: 0.7857\n",
            "Epoch 12/100\n",
            "20/20 [==============================] - 0s 5ms/step - loss: 0.4719 - accuracy: 0.7785 - val_loss: 0.4771 - val_accuracy: 0.7857\n",
            "Epoch 13/100\n",
            "20/20 [==============================] - 0s 5ms/step - loss: 0.4673 - accuracy: 0.7752 - val_loss: 0.4734 - val_accuracy: 0.7857\n",
            "Epoch 14/100\n",
            "20/20 [==============================] - 0s 5ms/step - loss: 0.4635 - accuracy: 0.7752 - val_loss: 0.4716 - val_accuracy: 0.7792\n",
            "Epoch 15/100\n",
            "20/20 [==============================] - 0s 6ms/step - loss: 0.4602 - accuracy: 0.7752 - val_loss: 0.4689 - val_accuracy: 0.7857\n",
            "Epoch 16/100\n",
            "20/20 [==============================] - 0s 5ms/step - loss: 0.4577 - accuracy: 0.7752 - val_loss: 0.4672 - val_accuracy: 0.7857\n",
            "Epoch 17/100\n",
            "20/20 [==============================] - 0s 6ms/step - loss: 0.4552 - accuracy: 0.7720 - val_loss: 0.4662 - val_accuracy: 0.7857\n",
            "Epoch 18/100\n",
            "20/20 [==============================] - 0s 7ms/step - loss: 0.4530 - accuracy: 0.7818 - val_loss: 0.4653 - val_accuracy: 0.7857\n",
            "Epoch 19/100\n",
            "20/20 [==============================] - 0s 6ms/step - loss: 0.4511 - accuracy: 0.7769 - val_loss: 0.4647 - val_accuracy: 0.7857\n",
            "Epoch 20/100\n",
            "20/20 [==============================] - 0s 5ms/step - loss: 0.4500 - accuracy: 0.7818 - val_loss: 0.4643 - val_accuracy: 0.7857\n",
            "Epoch 21/100\n",
            "20/20 [==============================] - 0s 7ms/step - loss: 0.4485 - accuracy: 0.7769 - val_loss: 0.4625 - val_accuracy: 0.7857\n",
            "Epoch 22/100\n",
            "20/20 [==============================] - 0s 6ms/step - loss: 0.4474 - accuracy: 0.7850 - val_loss: 0.4612 - val_accuracy: 0.7857\n",
            "Epoch 23/100\n",
            "20/20 [==============================] - 0s 8ms/step - loss: 0.4463 - accuracy: 0.7769 - val_loss: 0.4612 - val_accuracy: 0.7857\n",
            "Epoch 24/100\n",
            "20/20 [==============================] - 0s 3ms/step - loss: 0.4458 - accuracy: 0.7720 - val_loss: 0.4599 - val_accuracy: 0.7857\n",
            "Epoch 25/100\n",
            "20/20 [==============================] - 0s 3ms/step - loss: 0.4444 - accuracy: 0.7752 - val_loss: 0.4599 - val_accuracy: 0.7857\n",
            "Epoch 26/100\n",
            "20/20 [==============================] - 0s 4ms/step - loss: 0.4437 - accuracy: 0.7801 - val_loss: 0.4610 - val_accuracy: 0.7922\n",
            "Epoch 27/100\n",
            "20/20 [==============================] - 0s 4ms/step - loss: 0.4430 - accuracy: 0.7801 - val_loss: 0.4609 - val_accuracy: 0.7987\n",
            "Epoch 28/100\n",
            "20/20 [==============================] - 0s 4ms/step - loss: 0.4422 - accuracy: 0.7769 - val_loss: 0.4611 - val_accuracy: 0.8052\n",
            "Epoch 29/100\n",
            "20/20 [==============================] - 0s 4ms/step - loss: 0.4412 - accuracy: 0.7785 - val_loss: 0.4606 - val_accuracy: 0.7987\n",
            "Epoch 30/100\n",
            "20/20 [==============================] - 0s 4ms/step - loss: 0.4406 - accuracy: 0.7818 - val_loss: 0.4608 - val_accuracy: 0.7922\n",
            "Epoch 31/100\n",
            "20/20 [==============================] - 0s 4ms/step - loss: 0.4402 - accuracy: 0.7834 - val_loss: 0.4609 - val_accuracy: 0.8052\n",
            "Epoch 32/100\n",
            "20/20 [==============================] - 0s 4ms/step - loss: 0.4397 - accuracy: 0.7801 - val_loss: 0.4600 - val_accuracy: 0.7987\n",
            "Epoch 33/100\n",
            "20/20 [==============================] - 0s 4ms/step - loss: 0.4390 - accuracy: 0.7769 - val_loss: 0.4591 - val_accuracy: 0.7987\n",
            "Epoch 34/100\n",
            "20/20 [==============================] - 0s 4ms/step - loss: 0.4382 - accuracy: 0.7801 - val_loss: 0.4586 - val_accuracy: 0.7987\n",
            "Epoch 35/100\n",
            "20/20 [==============================] - 0s 3ms/step - loss: 0.4372 - accuracy: 0.7915 - val_loss: 0.4584 - val_accuracy: 0.7922\n",
            "Epoch 36/100\n",
            "20/20 [==============================] - 0s 3ms/step - loss: 0.4368 - accuracy: 0.7899 - val_loss: 0.4587 - val_accuracy: 0.7922\n",
            "Epoch 37/100\n",
            "20/20 [==============================] - 0s 3ms/step - loss: 0.4369 - accuracy: 0.7850 - val_loss: 0.4581 - val_accuracy: 0.7922\n",
            "Epoch 38/100\n",
            "20/20 [==============================] - 0s 4ms/step - loss: 0.4357 - accuracy: 0.7866 - val_loss: 0.4573 - val_accuracy: 0.7922\n",
            "Epoch 39/100\n",
            "20/20 [==============================] - 0s 4ms/step - loss: 0.4356 - accuracy: 0.7915 - val_loss: 0.4571 - val_accuracy: 0.7987\n",
            "Epoch 40/100\n",
            "20/20 [==============================] - 0s 4ms/step - loss: 0.4347 - accuracy: 0.7866 - val_loss: 0.4573 - val_accuracy: 0.7987\n",
            "Epoch 41/100\n",
            "20/20 [==============================] - 0s 5ms/step - loss: 0.4344 - accuracy: 0.7818 - val_loss: 0.4565 - val_accuracy: 0.7922\n",
            "Epoch 42/100\n",
            "20/20 [==============================] - 0s 4ms/step - loss: 0.4337 - accuracy: 0.7883 - val_loss: 0.4563 - val_accuracy: 0.7922\n",
            "Epoch 43/100\n",
            "20/20 [==============================] - 0s 4ms/step - loss: 0.4335 - accuracy: 0.7850 - val_loss: 0.4568 - val_accuracy: 0.7922\n",
            "Epoch 44/100\n",
            "20/20 [==============================] - 0s 4ms/step - loss: 0.4327 - accuracy: 0.7899 - val_loss: 0.4567 - val_accuracy: 0.7922\n",
            "Epoch 45/100\n",
            "20/20 [==============================] - 0s 4ms/step - loss: 0.4321 - accuracy: 0.7883 - val_loss: 0.4565 - val_accuracy: 0.7987\n",
            "Epoch 46/100\n",
            "20/20 [==============================] - 0s 4ms/step - loss: 0.4321 - accuracy: 0.7883 - val_loss: 0.4568 - val_accuracy: 0.7922\n",
            "Epoch 47/100\n",
            "20/20 [==============================] - 0s 4ms/step - loss: 0.4312 - accuracy: 0.7932 - val_loss: 0.4560 - val_accuracy: 0.7987\n",
            "Epoch 48/100\n",
            "20/20 [==============================] - 0s 3ms/step - loss: 0.4311 - accuracy: 0.7932 - val_loss: 0.4560 - val_accuracy: 0.7987\n",
            "Epoch 49/100\n",
            "20/20 [==============================] - 0s 4ms/step - loss: 0.4306 - accuracy: 0.7980 - val_loss: 0.4565 - val_accuracy: 0.7987\n",
            "Epoch 50/100\n",
            "20/20 [==============================] - 0s 3ms/step - loss: 0.4300 - accuracy: 0.7948 - val_loss: 0.4564 - val_accuracy: 0.7987\n",
            "Epoch 51/100\n",
            "20/20 [==============================] - 0s 4ms/step - loss: 0.4297 - accuracy: 0.7932 - val_loss: 0.4567 - val_accuracy: 0.7987\n",
            "Epoch 52/100\n",
            "20/20 [==============================] - 0s 4ms/step - loss: 0.4291 - accuracy: 0.7932 - val_loss: 0.4568 - val_accuracy: 0.7987\n",
            "Epoch 53/100\n",
            "20/20 [==============================] - 0s 4ms/step - loss: 0.4286 - accuracy: 0.7915 - val_loss: 0.4565 - val_accuracy: 0.7922\n",
            "Epoch 54/100\n",
            "20/20 [==============================] - 0s 3ms/step - loss: 0.4281 - accuracy: 0.7980 - val_loss: 0.4568 - val_accuracy: 0.7857\n",
            "Epoch 55/100\n",
            "20/20 [==============================] - 0s 4ms/step - loss: 0.4276 - accuracy: 0.7964 - val_loss: 0.4582 - val_accuracy: 0.7857\n",
            "Epoch 56/100\n",
            "20/20 [==============================] - 0s 3ms/step - loss: 0.4276 - accuracy: 0.7964 - val_loss: 0.4594 - val_accuracy: 0.7857\n",
            "Epoch 57/100\n",
            "20/20 [==============================] - 0s 3ms/step - loss: 0.4269 - accuracy: 0.7948 - val_loss: 0.4599 - val_accuracy: 0.7857\n",
            "Epoch 58/100\n",
            "20/20 [==============================] - 0s 4ms/step - loss: 0.4264 - accuracy: 0.7948 - val_loss: 0.4601 - val_accuracy: 0.7857\n",
            "Epoch 59/100\n",
            "20/20 [==============================] - 0s 4ms/step - loss: 0.4264 - accuracy: 0.7980 - val_loss: 0.4604 - val_accuracy: 0.7792\n",
            "Epoch 60/100\n",
            "20/20 [==============================] - 0s 4ms/step - loss: 0.4257 - accuracy: 0.7964 - val_loss: 0.4598 - val_accuracy: 0.7792\n",
            "Epoch 61/100\n",
            "20/20 [==============================] - 0s 4ms/step - loss: 0.4254 - accuracy: 0.7964 - val_loss: 0.4600 - val_accuracy: 0.7792\n",
            "Epoch 62/100\n",
            "20/20 [==============================] - 0s 5ms/step - loss: 0.4248 - accuracy: 0.7932 - val_loss: 0.4600 - val_accuracy: 0.7727\n",
            "Epoch 63/100\n",
            "20/20 [==============================] - 0s 3ms/step - loss: 0.4246 - accuracy: 0.7964 - val_loss: 0.4598 - val_accuracy: 0.7727\n",
            "Epoch 64/100\n",
            "20/20 [==============================] - 0s 4ms/step - loss: 0.4240 - accuracy: 0.7948 - val_loss: 0.4588 - val_accuracy: 0.7727\n",
            "Epoch 65/100\n",
            "20/20 [==============================] - 0s 4ms/step - loss: 0.4243 - accuracy: 0.7980 - val_loss: 0.4594 - val_accuracy: 0.7727\n",
            "Epoch 66/100\n",
            "20/20 [==============================] - 0s 3ms/step - loss: 0.4235 - accuracy: 0.7997 - val_loss: 0.4614 - val_accuracy: 0.7727\n",
            "Epoch 67/100\n",
            "20/20 [==============================] - 0s 3ms/step - loss: 0.4234 - accuracy: 0.7980 - val_loss: 0.4596 - val_accuracy: 0.7792\n",
            "Epoch 68/100\n",
            "20/20 [==============================] - 0s 3ms/step - loss: 0.4224 - accuracy: 0.8013 - val_loss: 0.4593 - val_accuracy: 0.7792\n",
            "Epoch 69/100\n",
            "20/20 [==============================] - 0s 3ms/step - loss: 0.4225 - accuracy: 0.7948 - val_loss: 0.4587 - val_accuracy: 0.7792\n",
            "Epoch 70/100\n",
            "20/20 [==============================] - 0s 4ms/step - loss: 0.4224 - accuracy: 0.7980 - val_loss: 0.4597 - val_accuracy: 0.7792\n",
            "Epoch 71/100\n",
            "20/20 [==============================] - 0s 3ms/step - loss: 0.4217 - accuracy: 0.7980 - val_loss: 0.4597 - val_accuracy: 0.7792\n",
            "Epoch 72/100\n",
            "20/20 [==============================] - 0s 4ms/step - loss: 0.4214 - accuracy: 0.8046 - val_loss: 0.4583 - val_accuracy: 0.7792\n",
            "Epoch 73/100\n",
            "20/20 [==============================] - 0s 4ms/step - loss: 0.4208 - accuracy: 0.8029 - val_loss: 0.4582 - val_accuracy: 0.7857\n",
            "Epoch 74/100\n",
            "20/20 [==============================] - 0s 3ms/step - loss: 0.4208 - accuracy: 0.7980 - val_loss: 0.4588 - val_accuracy: 0.7922\n",
            "Epoch 75/100\n",
            "20/20 [==============================] - 0s 4ms/step - loss: 0.4203 - accuracy: 0.8046 - val_loss: 0.4600 - val_accuracy: 0.7857\n",
            "Epoch 76/100\n",
            "20/20 [==============================] - 0s 3ms/step - loss: 0.4204 - accuracy: 0.8078 - val_loss: 0.4591 - val_accuracy: 0.7857\n",
            "Epoch 77/100\n",
            "20/20 [==============================] - 0s 4ms/step - loss: 0.4198 - accuracy: 0.8046 - val_loss: 0.4601 - val_accuracy: 0.7857\n",
            "Epoch 78/100\n",
            "20/20 [==============================] - 0s 4ms/step - loss: 0.4196 - accuracy: 0.8029 - val_loss: 0.4603 - val_accuracy: 0.7857\n",
            "Epoch 79/100\n",
            "20/20 [==============================] - 0s 3ms/step - loss: 0.4194 - accuracy: 0.8062 - val_loss: 0.4598 - val_accuracy: 0.7792\n",
            "Epoch 80/100\n",
            "20/20 [==============================] - 0s 4ms/step - loss: 0.4189 - accuracy: 0.8029 - val_loss: 0.4608 - val_accuracy: 0.7792\n",
            "Epoch 81/100\n",
            "20/20 [==============================] - 0s 4ms/step - loss: 0.4189 - accuracy: 0.8062 - val_loss: 0.4608 - val_accuracy: 0.7792\n",
            "Epoch 82/100\n",
            "20/20 [==============================] - 0s 4ms/step - loss: 0.4182 - accuracy: 0.8046 - val_loss: 0.4603 - val_accuracy: 0.7792\n",
            "Epoch 83/100\n",
            "20/20 [==============================] - 0s 3ms/step - loss: 0.4177 - accuracy: 0.8094 - val_loss: 0.4604 - val_accuracy: 0.7857\n",
            "Epoch 84/100\n",
            "20/20 [==============================] - 0s 4ms/step - loss: 0.4175 - accuracy: 0.8094 - val_loss: 0.4611 - val_accuracy: 0.7792\n",
            "Epoch 85/100\n",
            "20/20 [==============================] - 0s 4ms/step - loss: 0.4180 - accuracy: 0.8046 - val_loss: 0.4616 - val_accuracy: 0.7857\n",
            "Epoch 86/100\n",
            "20/20 [==============================] - 0s 4ms/step - loss: 0.4171 - accuracy: 0.8127 - val_loss: 0.4613 - val_accuracy: 0.7857\n",
            "Epoch 87/100\n",
            "20/20 [==============================] - 0s 4ms/step - loss: 0.4168 - accuracy: 0.8062 - val_loss: 0.4622 - val_accuracy: 0.7857\n",
            "Epoch 88/100\n",
            "20/20 [==============================] - 0s 4ms/step - loss: 0.4170 - accuracy: 0.8094 - val_loss: 0.4625 - val_accuracy: 0.7857\n",
            "Epoch 89/100\n",
            "20/20 [==============================] - 0s 4ms/step - loss: 0.4166 - accuracy: 0.8046 - val_loss: 0.4610 - val_accuracy: 0.7857\n",
            "Epoch 90/100\n",
            "20/20 [==============================] - 0s 4ms/step - loss: 0.4162 - accuracy: 0.8078 - val_loss: 0.4606 - val_accuracy: 0.7857\n",
            "Epoch 91/100\n",
            "20/20 [==============================] - 0s 3ms/step - loss: 0.4159 - accuracy: 0.8078 - val_loss: 0.4595 - val_accuracy: 0.7857\n",
            "Epoch 92/100\n",
            "20/20 [==============================] - 0s 4ms/step - loss: 0.4152 - accuracy: 0.8143 - val_loss: 0.4604 - val_accuracy: 0.7857\n",
            "Epoch 93/100\n",
            "20/20 [==============================] - 0s 4ms/step - loss: 0.4150 - accuracy: 0.8046 - val_loss: 0.4602 - val_accuracy: 0.7857\n",
            "Epoch 94/100\n",
            "20/20 [==============================] - 0s 3ms/step - loss: 0.4150 - accuracy: 0.8046 - val_loss: 0.4608 - val_accuracy: 0.7857\n",
            "Epoch 95/100\n",
            "20/20 [==============================] - 0s 4ms/step - loss: 0.4145 - accuracy: 0.8094 - val_loss: 0.4611 - val_accuracy: 0.7857\n",
            "Epoch 96/100\n",
            "20/20 [==============================] - 0s 3ms/step - loss: 0.4147 - accuracy: 0.8094 - val_loss: 0.4611 - val_accuracy: 0.7857\n",
            "Epoch 97/100\n",
            "20/20 [==============================] - 0s 4ms/step - loss: 0.4141 - accuracy: 0.8127 - val_loss: 0.4613 - val_accuracy: 0.7857\n",
            "Epoch 98/100\n",
            "20/20 [==============================] - 0s 4ms/step - loss: 0.4134 - accuracy: 0.8046 - val_loss: 0.4611 - val_accuracy: 0.7857\n",
            "Epoch 99/100\n",
            "20/20 [==============================] - 0s 4ms/step - loss: 0.4135 - accuracy: 0.8111 - val_loss: 0.4611 - val_accuracy: 0.7857\n",
            "Epoch 100/100\n",
            "20/20 [==============================] - 0s 4ms/step - loss: 0.4130 - accuracy: 0.8094 - val_loss: 0.4612 - val_accuracy: 0.7857\n"
          ]
        },
        {
          "output_type": "execute_result",
          "data": {
            "text/plain": [
              "<keras.src.callbacks.History at 0x7eff208109d0>"
            ]
          },
          "metadata": {},
          "execution_count": 20
        }
      ]
    },
    {
      "cell_type": "markdown",
      "source": [
        "## How to select Number of Units/Neurons in Layer"
      ],
      "metadata": {
        "id": "tuejJQHI9kOL"
      }
    },
    {
      "cell_type": "code",
      "source": [
        "def build_model(hp):\n",
        "  model = Sequential()\n",
        "\n",
        "  units = hp.Int('units',min_value=8,max_value=128,step=8)\n",
        "\n",
        "  model.add(Dense(units=units,activation='relu',input_dim=8))\n",
        "  model.add(Dense(1,activation='sigmoid'))\n",
        "\n",
        "  model.compile(optimizer='rmsprop',loss='binary_crossentropy',metrics=['accuracy'])\n",
        "\n",
        "  return model\n"
      ],
      "metadata": {
        "id": "MVtLW3cSzxU8"
      },
      "execution_count": null,
      "outputs": []
    },
    {
      "cell_type": "code",
      "source": [
        "tuner_neuron = kt.RandomSearch(build_model,objective='val_accuracy',max_trials=5,directory='model_tuning',project_name='neuron_tuner')"
      ],
      "metadata": {
        "id": "Kfa2ruZD-es1"
      },
      "execution_count": null,
      "outputs": []
    },
    {
      "cell_type": "code",
      "source": [
        "tuner_neuron.search(X_train,y_train,epochs=5,validation_data=(X_test,y_test))"
      ],
      "metadata": {
        "colab": {
          "base_uri": "https://localhost:8080/"
        },
        "id": "lzmfELi3_IXv",
        "outputId": "21e331cd-514c-4a54-97f9-852fb8af19b2"
      },
      "execution_count": null,
      "outputs": [
        {
          "output_type": "stream",
          "name": "stdout",
          "text": [
            "Trial 5 Complete [00h 00m 01s]\n",
            "val_accuracy: 0.7207792401313782\n",
            "\n",
            "Best val_accuracy So Far: 0.798701286315918\n",
            "Total elapsed time: 00h 00m 10s\n"
          ]
        }
      ]
    },
    {
      "cell_type": "code",
      "source": [
        "tuner_neuron.get_best_hyperparameters()[0].values"
      ],
      "metadata": {
        "colab": {
          "base_uri": "https://localhost:8080/"
        },
        "id": "oIfZxg3N_uEl",
        "outputId": "038cc3f1-f149-490f-d8a9-1aa89d8450e4"
      },
      "execution_count": null,
      "outputs": [
        {
          "output_type": "execute_result",
          "data": {
            "text/plain": [
              "{'units': 112}"
            ]
          },
          "metadata": {},
          "execution_count": 24
        }
      ]
    },
    {
      "cell_type": "code",
      "source": [
        "model_neuron = tuner_neuron.get_best_models(num_models=1)[0]"
      ],
      "metadata": {
        "id": "T57CDd8-Ap_b"
      },
      "execution_count": null,
      "outputs": []
    },
    {
      "cell_type": "code",
      "source": [
        "model_neuron.summary()"
      ],
      "metadata": {
        "colab": {
          "base_uri": "https://localhost:8080/"
        },
        "id": "vMmpOFrWFtEg",
        "outputId": "598d27d4-718a-4cf5-bbd8-763af66be668"
      },
      "execution_count": null,
      "outputs": [
        {
          "output_type": "stream",
          "name": "stdout",
          "text": [
            "Model: \"sequential\"\n",
            "_________________________________________________________________\n",
            " Layer (type)                Output Shape              Param #   \n",
            "=================================================================\n",
            " dense (Dense)               (None, 112)               1008      \n",
            "                                                                 \n",
            " dense_1 (Dense)             (None, 1)                 113       \n",
            "                                                                 \n",
            "=================================================================\n",
            "Total params: 1121 (4.38 KB)\n",
            "Trainable params: 1121 (4.38 KB)\n",
            "Non-trainable params: 0 (0.00 Byte)\n",
            "_________________________________________________________________\n"
          ]
        }
      ]
    },
    {
      "cell_type": "code",
      "source": [
        "model_neuron.fit(X_train,y_train,epochs=100,initial_epoch=6,validation_data=(X_test,y_test))"
      ],
      "metadata": {
        "colab": {
          "base_uri": "https://localhost:8080/"
        },
        "id": "yspAALcrFdT4",
        "outputId": "2d1426ee-0dda-4750-eacb-6b78c11383f5"
      },
      "execution_count": null,
      "outputs": [
        {
          "output_type": "stream",
          "name": "stdout",
          "text": [
            "Epoch 7/100\n",
            "20/20 [==============================] - 1s 12ms/step - loss: 0.5303 - accuracy: 0.7459 - val_loss: 0.4966 - val_accuracy: 0.7987\n",
            "Epoch 8/100\n",
            "20/20 [==============================] - 0s 4ms/step - loss: 0.5041 - accuracy: 0.7638 - val_loss: 0.4765 - val_accuracy: 0.7987\n",
            "Epoch 9/100\n",
            "20/20 [==============================] - 0s 4ms/step - loss: 0.4874 - accuracy: 0.7704 - val_loss: 0.4661 - val_accuracy: 0.7792\n",
            "Epoch 10/100\n",
            "20/20 [==============================] - 0s 4ms/step - loss: 0.4758 - accuracy: 0.7704 - val_loss: 0.4595 - val_accuracy: 0.8052\n",
            "Epoch 11/100\n",
            "20/20 [==============================] - 0s 4ms/step - loss: 0.4685 - accuracy: 0.7801 - val_loss: 0.4566 - val_accuracy: 0.8052\n",
            "Epoch 12/100\n",
            "20/20 [==============================] - 0s 3ms/step - loss: 0.4623 - accuracy: 0.7752 - val_loss: 0.4533 - val_accuracy: 0.8117\n",
            "Epoch 13/100\n",
            "20/20 [==============================] - 0s 3ms/step - loss: 0.4587 - accuracy: 0.7769 - val_loss: 0.4537 - val_accuracy: 0.8117\n",
            "Epoch 14/100\n",
            "20/20 [==============================] - 0s 3ms/step - loss: 0.4554 - accuracy: 0.7769 - val_loss: 0.4548 - val_accuracy: 0.8052\n",
            "Epoch 15/100\n",
            "20/20 [==============================] - 0s 3ms/step - loss: 0.4525 - accuracy: 0.7834 - val_loss: 0.4529 - val_accuracy: 0.7922\n",
            "Epoch 16/100\n",
            "20/20 [==============================] - 0s 3ms/step - loss: 0.4506 - accuracy: 0.7801 - val_loss: 0.4514 - val_accuracy: 0.7922\n",
            "Epoch 17/100\n",
            "20/20 [==============================] - 0s 4ms/step - loss: 0.4491 - accuracy: 0.7769 - val_loss: 0.4529 - val_accuracy: 0.7857\n",
            "Epoch 18/100\n",
            "20/20 [==============================] - 0s 4ms/step - loss: 0.4467 - accuracy: 0.7818 - val_loss: 0.4516 - val_accuracy: 0.7987\n",
            "Epoch 19/100\n",
            "20/20 [==============================] - 0s 4ms/step - loss: 0.4450 - accuracy: 0.7752 - val_loss: 0.4506 - val_accuracy: 0.7857\n",
            "Epoch 20/100\n",
            "20/20 [==============================] - 0s 4ms/step - loss: 0.4440 - accuracy: 0.7883 - val_loss: 0.4529 - val_accuracy: 0.7922\n",
            "Epoch 21/100\n",
            "20/20 [==============================] - 0s 4ms/step - loss: 0.4431 - accuracy: 0.7866 - val_loss: 0.4526 - val_accuracy: 0.7987\n",
            "Epoch 22/100\n",
            "20/20 [==============================] - 0s 3ms/step - loss: 0.4419 - accuracy: 0.7785 - val_loss: 0.4512 - val_accuracy: 0.7987\n",
            "Epoch 23/100\n",
            "20/20 [==============================] - 0s 4ms/step - loss: 0.4399 - accuracy: 0.7785 - val_loss: 0.4520 - val_accuracy: 0.8052\n",
            "Epoch 24/100\n",
            "20/20 [==============================] - 0s 4ms/step - loss: 0.4395 - accuracy: 0.7850 - val_loss: 0.4529 - val_accuracy: 0.8052\n",
            "Epoch 25/100\n",
            "20/20 [==============================] - 0s 4ms/step - loss: 0.4389 - accuracy: 0.7818 - val_loss: 0.4544 - val_accuracy: 0.8052\n",
            "Epoch 26/100\n",
            "20/20 [==============================] - 0s 3ms/step - loss: 0.4369 - accuracy: 0.7866 - val_loss: 0.4533 - val_accuracy: 0.7987\n",
            "Epoch 27/100\n",
            "20/20 [==============================] - 0s 4ms/step - loss: 0.4367 - accuracy: 0.7834 - val_loss: 0.4559 - val_accuracy: 0.8052\n",
            "Epoch 28/100\n",
            "20/20 [==============================] - 0s 4ms/step - loss: 0.4355 - accuracy: 0.7866 - val_loss: 0.4578 - val_accuracy: 0.8052\n",
            "Epoch 29/100\n",
            "20/20 [==============================] - 0s 4ms/step - loss: 0.4341 - accuracy: 0.7883 - val_loss: 0.4570 - val_accuracy: 0.8117\n",
            "Epoch 30/100\n",
            "20/20 [==============================] - 0s 4ms/step - loss: 0.4338 - accuracy: 0.7883 - val_loss: 0.4567 - val_accuracy: 0.8117\n",
            "Epoch 31/100\n",
            "20/20 [==============================] - 0s 4ms/step - loss: 0.4330 - accuracy: 0.7850 - val_loss: 0.4563 - val_accuracy: 0.8117\n",
            "Epoch 32/100\n",
            "20/20 [==============================] - 0s 4ms/step - loss: 0.4316 - accuracy: 0.7932 - val_loss: 0.4576 - val_accuracy: 0.8117\n",
            "Epoch 33/100\n",
            "20/20 [==============================] - 0s 4ms/step - loss: 0.4305 - accuracy: 0.7866 - val_loss: 0.4595 - val_accuracy: 0.8117\n",
            "Epoch 34/100\n",
            "20/20 [==============================] - 0s 3ms/step - loss: 0.4302 - accuracy: 0.7834 - val_loss: 0.4585 - val_accuracy: 0.8117\n",
            "Epoch 35/100\n",
            "20/20 [==============================] - 0s 3ms/step - loss: 0.4296 - accuracy: 0.7801 - val_loss: 0.4573 - val_accuracy: 0.8117\n",
            "Epoch 36/100\n",
            "20/20 [==============================] - 0s 3ms/step - loss: 0.4284 - accuracy: 0.7883 - val_loss: 0.4584 - val_accuracy: 0.8117\n",
            "Epoch 37/100\n",
            "20/20 [==============================] - 0s 5ms/step - loss: 0.4272 - accuracy: 0.7850 - val_loss: 0.4590 - val_accuracy: 0.8117\n",
            "Epoch 38/100\n",
            "20/20 [==============================] - 0s 4ms/step - loss: 0.4270 - accuracy: 0.7899 - val_loss: 0.4589 - val_accuracy: 0.8117\n",
            "Epoch 39/100\n",
            "20/20 [==============================] - 0s 3ms/step - loss: 0.4259 - accuracy: 0.7899 - val_loss: 0.4600 - val_accuracy: 0.8117\n",
            "Epoch 40/100\n",
            "20/20 [==============================] - 0s 3ms/step - loss: 0.4261 - accuracy: 0.7850 - val_loss: 0.4605 - val_accuracy: 0.8182\n",
            "Epoch 41/100\n",
            "20/20 [==============================] - 0s 4ms/step - loss: 0.4257 - accuracy: 0.7883 - val_loss: 0.4597 - val_accuracy: 0.8182\n",
            "Epoch 42/100\n",
            "20/20 [==============================] - 0s 4ms/step - loss: 0.4235 - accuracy: 0.7964 - val_loss: 0.4583 - val_accuracy: 0.8182\n",
            "Epoch 43/100\n",
            "20/20 [==============================] - 0s 3ms/step - loss: 0.4229 - accuracy: 0.7899 - val_loss: 0.4583 - val_accuracy: 0.8182\n",
            "Epoch 44/100\n",
            "20/20 [==============================] - 0s 3ms/step - loss: 0.4224 - accuracy: 0.7980 - val_loss: 0.4577 - val_accuracy: 0.8182\n",
            "Epoch 45/100\n",
            "20/20 [==============================] - 0s 4ms/step - loss: 0.4213 - accuracy: 0.7915 - val_loss: 0.4579 - val_accuracy: 0.8182\n",
            "Epoch 46/100\n",
            "20/20 [==============================] - 0s 4ms/step - loss: 0.4217 - accuracy: 0.7948 - val_loss: 0.4605 - val_accuracy: 0.8182\n",
            "Epoch 47/100\n",
            "20/20 [==============================] - 0s 3ms/step - loss: 0.4200 - accuracy: 0.7997 - val_loss: 0.4586 - val_accuracy: 0.8247\n",
            "Epoch 48/100\n",
            "20/20 [==============================] - 0s 4ms/step - loss: 0.4192 - accuracy: 0.7997 - val_loss: 0.4602 - val_accuracy: 0.8182\n",
            "Epoch 49/100\n",
            "20/20 [==============================] - 0s 4ms/step - loss: 0.4187 - accuracy: 0.8029 - val_loss: 0.4580 - val_accuracy: 0.8182\n",
            "Epoch 50/100\n",
            "20/20 [==============================] - 0s 3ms/step - loss: 0.4191 - accuracy: 0.8013 - val_loss: 0.4572 - val_accuracy: 0.8052\n",
            "Epoch 51/100\n",
            "20/20 [==============================] - 0s 3ms/step - loss: 0.4177 - accuracy: 0.7948 - val_loss: 0.4571 - val_accuracy: 0.8247\n",
            "Epoch 52/100\n",
            "20/20 [==============================] - 0s 3ms/step - loss: 0.4169 - accuracy: 0.7980 - val_loss: 0.4577 - val_accuracy: 0.8247\n",
            "Epoch 53/100\n",
            "20/20 [==============================] - 0s 4ms/step - loss: 0.4164 - accuracy: 0.8046 - val_loss: 0.4612 - val_accuracy: 0.8182\n",
            "Epoch 54/100\n",
            "20/20 [==============================] - 0s 4ms/step - loss: 0.4163 - accuracy: 0.7948 - val_loss: 0.4601 - val_accuracy: 0.8247\n",
            "Epoch 55/100\n",
            "20/20 [==============================] - 0s 4ms/step - loss: 0.4141 - accuracy: 0.8029 - val_loss: 0.4601 - val_accuracy: 0.8182\n",
            "Epoch 56/100\n",
            "20/20 [==============================] - 0s 4ms/step - loss: 0.4151 - accuracy: 0.7997 - val_loss: 0.4600 - val_accuracy: 0.8117\n",
            "Epoch 57/100\n",
            "20/20 [==============================] - 0s 4ms/step - loss: 0.4144 - accuracy: 0.8029 - val_loss: 0.4582 - val_accuracy: 0.8182\n",
            "Epoch 58/100\n",
            "20/20 [==============================] - 0s 4ms/step - loss: 0.4138 - accuracy: 0.8013 - val_loss: 0.4577 - val_accuracy: 0.8182\n",
            "Epoch 59/100\n",
            "20/20 [==============================] - 0s 4ms/step - loss: 0.4127 - accuracy: 0.7948 - val_loss: 0.4594 - val_accuracy: 0.8117\n",
            "Epoch 60/100\n",
            "20/20 [==============================] - 0s 3ms/step - loss: 0.4130 - accuracy: 0.8013 - val_loss: 0.4636 - val_accuracy: 0.8117\n",
            "Epoch 61/100\n",
            "20/20 [==============================] - 0s 4ms/step - loss: 0.4116 - accuracy: 0.8029 - val_loss: 0.4600 - val_accuracy: 0.8182\n",
            "Epoch 62/100\n",
            "20/20 [==============================] - 0s 3ms/step - loss: 0.4111 - accuracy: 0.8029 - val_loss: 0.4601 - val_accuracy: 0.8182\n",
            "Epoch 63/100\n",
            "20/20 [==============================] - 0s 4ms/step - loss: 0.4108 - accuracy: 0.7980 - val_loss: 0.4600 - val_accuracy: 0.8247\n",
            "Epoch 64/100\n",
            "20/20 [==============================] - 0s 4ms/step - loss: 0.4099 - accuracy: 0.8078 - val_loss: 0.4578 - val_accuracy: 0.8247\n",
            "Epoch 65/100\n",
            "20/20 [==============================] - 0s 4ms/step - loss: 0.4091 - accuracy: 0.8127 - val_loss: 0.4591 - val_accuracy: 0.8312\n",
            "Epoch 66/100\n",
            "20/20 [==============================] - 0s 3ms/step - loss: 0.4088 - accuracy: 0.8029 - val_loss: 0.4599 - val_accuracy: 0.8247\n",
            "Epoch 67/100\n",
            "20/20 [==============================] - 0s 5ms/step - loss: 0.4090 - accuracy: 0.8111 - val_loss: 0.4599 - val_accuracy: 0.8182\n",
            "Epoch 68/100\n",
            "20/20 [==============================] - 0s 3ms/step - loss: 0.4063 - accuracy: 0.8111 - val_loss: 0.4606 - val_accuracy: 0.8182\n",
            "Epoch 69/100\n",
            "20/20 [==============================] - 0s 4ms/step - loss: 0.4070 - accuracy: 0.8127 - val_loss: 0.4591 - val_accuracy: 0.8182\n",
            "Epoch 70/100\n",
            "20/20 [==============================] - 0s 3ms/step - loss: 0.4066 - accuracy: 0.8143 - val_loss: 0.4584 - val_accuracy: 0.8247\n",
            "Epoch 71/100\n",
            "20/20 [==============================] - 0s 3ms/step - loss: 0.4067 - accuracy: 0.8160 - val_loss: 0.4589 - val_accuracy: 0.8182\n",
            "Epoch 72/100\n",
            "20/20 [==============================] - 0s 3ms/step - loss: 0.4058 - accuracy: 0.8111 - val_loss: 0.4590 - val_accuracy: 0.8247\n",
            "Epoch 73/100\n",
            "20/20 [==============================] - 0s 4ms/step - loss: 0.4060 - accuracy: 0.8111 - val_loss: 0.4592 - val_accuracy: 0.8247\n",
            "Epoch 74/100\n",
            "20/20 [==============================] - 0s 6ms/step - loss: 0.4046 - accuracy: 0.8160 - val_loss: 0.4587 - val_accuracy: 0.8117\n",
            "Epoch 75/100\n",
            "20/20 [==============================] - 0s 5ms/step - loss: 0.4039 - accuracy: 0.8176 - val_loss: 0.4582 - val_accuracy: 0.8247\n",
            "Epoch 76/100\n",
            "20/20 [==============================] - 0s 5ms/step - loss: 0.4035 - accuracy: 0.8225 - val_loss: 0.4619 - val_accuracy: 0.8247\n",
            "Epoch 77/100\n",
            "20/20 [==============================] - 0s 6ms/step - loss: 0.4022 - accuracy: 0.8176 - val_loss: 0.4624 - val_accuracy: 0.8247\n",
            "Epoch 78/100\n",
            "20/20 [==============================] - 0s 6ms/step - loss: 0.4020 - accuracy: 0.8176 - val_loss: 0.4608 - val_accuracy: 0.8182\n",
            "Epoch 79/100\n",
            "20/20 [==============================] - 0s 6ms/step - loss: 0.4015 - accuracy: 0.8257 - val_loss: 0.4603 - val_accuracy: 0.8247\n",
            "Epoch 80/100\n",
            "20/20 [==============================] - 0s 5ms/step - loss: 0.4024 - accuracy: 0.8078 - val_loss: 0.4610 - val_accuracy: 0.8247\n",
            "Epoch 81/100\n",
            "20/20 [==============================] - 0s 5ms/step - loss: 0.4007 - accuracy: 0.8160 - val_loss: 0.4612 - val_accuracy: 0.8182\n",
            "Epoch 82/100\n",
            "20/20 [==============================] - 0s 6ms/step - loss: 0.4005 - accuracy: 0.8176 - val_loss: 0.4628 - val_accuracy: 0.8247\n",
            "Epoch 83/100\n",
            "20/20 [==============================] - 0s 5ms/step - loss: 0.3993 - accuracy: 0.8225 - val_loss: 0.4649 - val_accuracy: 0.8182\n",
            "Epoch 84/100\n",
            "20/20 [==============================] - 0s 5ms/step - loss: 0.3990 - accuracy: 0.8192 - val_loss: 0.4608 - val_accuracy: 0.8052\n",
            "Epoch 85/100\n",
            "20/20 [==============================] - 0s 5ms/step - loss: 0.3991 - accuracy: 0.8241 - val_loss: 0.4603 - val_accuracy: 0.8182\n",
            "Epoch 86/100\n",
            "20/20 [==============================] - 0s 5ms/step - loss: 0.3981 - accuracy: 0.8225 - val_loss: 0.4613 - val_accuracy: 0.8182\n",
            "Epoch 87/100\n",
            "20/20 [==============================] - 0s 6ms/step - loss: 0.3981 - accuracy: 0.8192 - val_loss: 0.4627 - val_accuracy: 0.8182\n",
            "Epoch 88/100\n",
            "20/20 [==============================] - 0s 5ms/step - loss: 0.3984 - accuracy: 0.8241 - val_loss: 0.4649 - val_accuracy: 0.8182\n",
            "Epoch 89/100\n",
            "20/20 [==============================] - 0s 5ms/step - loss: 0.3964 - accuracy: 0.8257 - val_loss: 0.4646 - val_accuracy: 0.8182\n",
            "Epoch 90/100\n",
            "20/20 [==============================] - 0s 5ms/step - loss: 0.3969 - accuracy: 0.8306 - val_loss: 0.4640 - val_accuracy: 0.8182\n",
            "Epoch 91/100\n",
            "20/20 [==============================] - 0s 4ms/step - loss: 0.3958 - accuracy: 0.8208 - val_loss: 0.4652 - val_accuracy: 0.8182\n",
            "Epoch 92/100\n",
            "20/20 [==============================] - 0s 4ms/step - loss: 0.3957 - accuracy: 0.8339 - val_loss: 0.4652 - val_accuracy: 0.8182\n",
            "Epoch 93/100\n",
            "20/20 [==============================] - 0s 6ms/step - loss: 0.3947 - accuracy: 0.8225 - val_loss: 0.4634 - val_accuracy: 0.8182\n",
            "Epoch 94/100\n",
            "20/20 [==============================] - 0s 5ms/step - loss: 0.3953 - accuracy: 0.8208 - val_loss: 0.4657 - val_accuracy: 0.8052\n",
            "Epoch 95/100\n",
            "20/20 [==============================] - 0s 5ms/step - loss: 0.3947 - accuracy: 0.8225 - val_loss: 0.4642 - val_accuracy: 0.8182\n",
            "Epoch 96/100\n",
            "20/20 [==============================] - 0s 5ms/step - loss: 0.3939 - accuracy: 0.8290 - val_loss: 0.4613 - val_accuracy: 0.8182\n",
            "Epoch 97/100\n",
            "20/20 [==============================] - 0s 5ms/step - loss: 0.3930 - accuracy: 0.8290 - val_loss: 0.4646 - val_accuracy: 0.8117\n",
            "Epoch 98/100\n",
            "20/20 [==============================] - 0s 6ms/step - loss: 0.3929 - accuracy: 0.8241 - val_loss: 0.4639 - val_accuracy: 0.8182\n",
            "Epoch 99/100\n",
            "20/20 [==============================] - 0s 6ms/step - loss: 0.3926 - accuracy: 0.8208 - val_loss: 0.4663 - val_accuracy: 0.8182\n",
            "Epoch 100/100\n",
            "20/20 [==============================] - 0s 5ms/step - loss: 0.3913 - accuracy: 0.8192 - val_loss: 0.4645 - val_accuracy: 0.8182\n"
          ]
        },
        {
          "output_type": "execute_result",
          "data": {
            "text/plain": [
              "<keras.src.callbacks.History at 0x7eff20664be0>"
            ]
          },
          "metadata": {},
          "execution_count": 27
        }
      ]
    },
    {
      "cell_type": "markdown",
      "source": [
        "## How To Select Number of Layers"
      ],
      "metadata": {
        "id": "y0SOk2G1JoMG"
      }
    },
    {
      "cell_type": "code",
      "source": [
        "def build_model(hp):\n",
        "  model= Sequential()\n",
        "  model.add(Dense(104,activation='relu',input_dim=8))\n",
        "\n",
        "  for i in range(hp.Int(\"num_layers\",min_value=1,max_value=10)):\n",
        "    model.add(Dense(104,activation='relu'))\n",
        "  model.add(Dense(1,activation='sigmoid'))\n",
        "\n",
        "  model.compile(optimizer='rmsprop',loss='binary_crossentropy',metrics=['accuracy'])\n",
        "\n",
        "  return model"
      ],
      "metadata": {
        "id": "Sx3Zj8pjFwVO"
      },
      "execution_count": null,
      "outputs": []
    },
    {
      "cell_type": "code",
      "source": [
        "tuner_layer = kt.RandomSearch(build_model,objective='val_accuracy',max_trials=3,directory='model_tuning',project_name='num_layers')"
      ],
      "metadata": {
        "id": "mHt_88EkSWRq",
        "colab": {
          "base_uri": "https://localhost:8080/"
        },
        "outputId": "5fb29d8d-ca8b-4be2-fb7e-b50772bbc34a"
      },
      "execution_count": null,
      "outputs": [
        {
          "output_type": "stream",
          "name": "stdout",
          "text": [
            "Reloading Tuner from model_tuning/num_layers/tuner0.json\n"
          ]
        }
      ]
    },
    {
      "cell_type": "code",
      "source": [
        "tuner_layer.search(X_train,y_train,epochs=5,validation_data=(X_test,y_test))"
      ],
      "metadata": {
        "id": "TkA_j6OATIWz"
      },
      "execution_count": null,
      "outputs": []
    },
    {
      "cell_type": "code",
      "source": [
        "tuner_layer.get_best_hyperparameters()[0].values"
      ],
      "metadata": {
        "colab": {
          "base_uri": "https://localhost:8080/"
        },
        "id": "MXt0ciKbTZq8",
        "outputId": "fae2c973-7ba0-4c14-d200-54568d3b189d"
      },
      "execution_count": null,
      "outputs": [
        {
          "output_type": "execute_result",
          "data": {
            "text/plain": [
              "{'num_layers': 5}"
            ]
          },
          "metadata": {},
          "execution_count": 39
        }
      ]
    },
    {
      "cell_type": "code",
      "source": [
        "model_layer = tuner_layer.get_best_models(num_models=1)[0]"
      ],
      "metadata": {
        "id": "z_l5oCx-Tp2Z"
      },
      "execution_count": null,
      "outputs": []
    },
    {
      "cell_type": "code",
      "source": [
        "model_layer.fit(X_train,y_train,epochs=100,initial_epoch=6,validation_data=(X_test,y_test))"
      ],
      "metadata": {
        "colab": {
          "base_uri": "https://localhost:8080/"
        },
        "id": "jCK4l9XuT1GC",
        "outputId": "73546a60-2934-4992-f792-993984022b94"
      },
      "execution_count": null,
      "outputs": [
        {
          "output_type": "stream",
          "name": "stdout",
          "text": [
            "Epoch 7/100\n",
            "20/20 [==============================] - 2s 14ms/step - loss: 0.4621 - accuracy: 0.7785 - val_loss: 0.4850 - val_accuracy: 0.7597\n",
            "Epoch 8/100\n",
            "20/20 [==============================] - 0s 5ms/step - loss: 0.4415 - accuracy: 0.7932 - val_loss: 0.4743 - val_accuracy: 0.7792\n",
            "Epoch 9/100\n",
            "20/20 [==============================] - 0s 5ms/step - loss: 0.4389 - accuracy: 0.7899 - val_loss: 0.4886 - val_accuracy: 0.7792\n",
            "Epoch 10/100\n",
            "20/20 [==============================] - 0s 5ms/step - loss: 0.4316 - accuracy: 0.7883 - val_loss: 0.5100 - val_accuracy: 0.7792\n",
            "Epoch 11/100\n",
            "20/20 [==============================] - 0s 5ms/step - loss: 0.4223 - accuracy: 0.7948 - val_loss: 0.4965 - val_accuracy: 0.7662\n",
            "Epoch 12/100\n",
            "20/20 [==============================] - 0s 5ms/step - loss: 0.4084 - accuracy: 0.7997 - val_loss: 0.4675 - val_accuracy: 0.7922\n",
            "Epoch 13/100\n",
            "20/20 [==============================] - 0s 5ms/step - loss: 0.4036 - accuracy: 0.8143 - val_loss: 0.4683 - val_accuracy: 0.7987\n",
            "Epoch 14/100\n",
            "20/20 [==============================] - 0s 5ms/step - loss: 0.3963 - accuracy: 0.8143 - val_loss: 0.4605 - val_accuracy: 0.7987\n",
            "Epoch 15/100\n",
            "20/20 [==============================] - 0s 4ms/step - loss: 0.3803 - accuracy: 0.8388 - val_loss: 0.5011 - val_accuracy: 0.7662\n",
            "Epoch 16/100\n",
            "20/20 [==============================] - 0s 5ms/step - loss: 0.3774 - accuracy: 0.8176 - val_loss: 0.4875 - val_accuracy: 0.7857\n",
            "Epoch 17/100\n",
            "20/20 [==============================] - 0s 5ms/step - loss: 0.3525 - accuracy: 0.8339 - val_loss: 0.5055 - val_accuracy: 0.7857\n",
            "Epoch 18/100\n",
            "20/20 [==============================] - 0s 5ms/step - loss: 0.3457 - accuracy: 0.8420 - val_loss: 0.5269 - val_accuracy: 0.7987\n",
            "Epoch 19/100\n",
            "20/20 [==============================] - 0s 5ms/step - loss: 0.3363 - accuracy: 0.8502 - val_loss: 0.5903 - val_accuracy: 0.7857\n",
            "Epoch 20/100\n",
            "20/20 [==============================] - 0s 4ms/step - loss: 0.3176 - accuracy: 0.8632 - val_loss: 0.5028 - val_accuracy: 0.7597\n",
            "Epoch 21/100\n",
            "20/20 [==============================] - 0s 5ms/step - loss: 0.2981 - accuracy: 0.8795 - val_loss: 0.6226 - val_accuracy: 0.7597\n",
            "Epoch 22/100\n",
            "20/20 [==============================] - 0s 4ms/step - loss: 0.3033 - accuracy: 0.8713 - val_loss: 0.5769 - val_accuracy: 0.7727\n",
            "Epoch 23/100\n",
            "20/20 [==============================] - 0s 5ms/step - loss: 0.2652 - accuracy: 0.8909 - val_loss: 0.6613 - val_accuracy: 0.7403\n",
            "Epoch 24/100\n",
            "20/20 [==============================] - 0s 5ms/step - loss: 0.2741 - accuracy: 0.8990 - val_loss: 0.5900 - val_accuracy: 0.7403\n",
            "Epoch 25/100\n",
            "20/20 [==============================] - 0s 4ms/step - loss: 0.2597 - accuracy: 0.9023 - val_loss: 0.7018 - val_accuracy: 0.7273\n",
            "Epoch 26/100\n",
            "20/20 [==============================] - 0s 5ms/step - loss: 0.2372 - accuracy: 0.9023 - val_loss: 0.6939 - val_accuracy: 0.7922\n",
            "Epoch 27/100\n",
            "20/20 [==============================] - 0s 4ms/step - loss: 0.2428 - accuracy: 0.8909 - val_loss: 0.7741 - val_accuracy: 0.7013\n",
            "Epoch 28/100\n",
            "20/20 [==============================] - 0s 5ms/step - loss: 0.2278 - accuracy: 0.8958 - val_loss: 0.6934 - val_accuracy: 0.7727\n",
            "Epoch 29/100\n",
            "20/20 [==============================] - 0s 5ms/step - loss: 0.2014 - accuracy: 0.9169 - val_loss: 0.8484 - val_accuracy: 0.7273\n",
            "Epoch 30/100\n",
            "20/20 [==============================] - 0s 4ms/step - loss: 0.1644 - accuracy: 0.9332 - val_loss: 0.8395 - val_accuracy: 0.7403\n",
            "Epoch 31/100\n",
            "20/20 [==============================] - 0s 5ms/step - loss: 0.1964 - accuracy: 0.9251 - val_loss: 0.8323 - val_accuracy: 0.7468\n",
            "Epoch 32/100\n",
            "20/20 [==============================] - 0s 5ms/step - loss: 0.1719 - accuracy: 0.9365 - val_loss: 0.8431 - val_accuracy: 0.7468\n",
            "Epoch 33/100\n",
            "20/20 [==============================] - 0s 6ms/step - loss: 0.1517 - accuracy: 0.9446 - val_loss: 0.9465 - val_accuracy: 0.7597\n",
            "Epoch 34/100\n",
            "20/20 [==============================] - 0s 4ms/step - loss: 0.2168 - accuracy: 0.9218 - val_loss: 0.8835 - val_accuracy: 0.7597\n",
            "Epoch 35/100\n",
            "20/20 [==============================] - 0s 4ms/step - loss: 0.0969 - accuracy: 0.9674 - val_loss: 1.1863 - val_accuracy: 0.7078\n",
            "Epoch 36/100\n",
            "20/20 [==============================] - 0s 4ms/step - loss: 0.1430 - accuracy: 0.9479 - val_loss: 1.1676 - val_accuracy: 0.7208\n",
            "Epoch 37/100\n",
            "20/20 [==============================] - 0s 5ms/step - loss: 0.1582 - accuracy: 0.9463 - val_loss: 1.1019 - val_accuracy: 0.7208\n",
            "Epoch 38/100\n",
            "20/20 [==============================] - 0s 5ms/step - loss: 0.1010 - accuracy: 0.9642 - val_loss: 1.0931 - val_accuracy: 0.7403\n",
            "Epoch 39/100\n",
            "20/20 [==============================] - 0s 5ms/step - loss: 0.0802 - accuracy: 0.9739 - val_loss: 1.2030 - val_accuracy: 0.7532\n",
            "Epoch 40/100\n",
            "20/20 [==============================] - 0s 4ms/step - loss: 0.1260 - accuracy: 0.9560 - val_loss: 1.2386 - val_accuracy: 0.7403\n",
            "Epoch 41/100\n",
            "20/20 [==============================] - 0s 5ms/step - loss: 0.1151 - accuracy: 0.9609 - val_loss: 1.1223 - val_accuracy: 0.7078\n",
            "Epoch 42/100\n",
            "20/20 [==============================] - 0s 5ms/step - loss: 0.1010 - accuracy: 0.9674 - val_loss: 1.1356 - val_accuracy: 0.7208\n",
            "Epoch 43/100\n",
            "20/20 [==============================] - 0s 5ms/step - loss: 0.0705 - accuracy: 0.9788 - val_loss: 1.2475 - val_accuracy: 0.7273\n",
            "Epoch 44/100\n",
            "20/20 [==============================] - 0s 5ms/step - loss: 0.0892 - accuracy: 0.9691 - val_loss: 1.2752 - val_accuracy: 0.7338\n",
            "Epoch 45/100\n",
            "20/20 [==============================] - 0s 5ms/step - loss: 0.1040 - accuracy: 0.9625 - val_loss: 1.5084 - val_accuracy: 0.7273\n",
            "Epoch 46/100\n",
            "20/20 [==============================] - 0s 4ms/step - loss: 0.0567 - accuracy: 0.9788 - val_loss: 1.6325 - val_accuracy: 0.7078\n",
            "Epoch 47/100\n",
            "20/20 [==============================] - 0s 5ms/step - loss: 0.0574 - accuracy: 0.9821 - val_loss: 1.4899 - val_accuracy: 0.7208\n",
            "Epoch 48/100\n",
            "20/20 [==============================] - 0s 5ms/step - loss: 0.1498 - accuracy: 0.9511 - val_loss: 1.2947 - val_accuracy: 0.7338\n",
            "Epoch 49/100\n",
            "20/20 [==============================] - 0s 5ms/step - loss: 0.0391 - accuracy: 0.9870 - val_loss: 2.0388 - val_accuracy: 0.6948\n",
            "Epoch 50/100\n",
            "20/20 [==============================] - 0s 5ms/step - loss: 0.1030 - accuracy: 0.9691 - val_loss: 1.4669 - val_accuracy: 0.7273\n",
            "Epoch 51/100\n",
            "20/20 [==============================] - 0s 4ms/step - loss: 0.0452 - accuracy: 0.9853 - val_loss: 1.6156 - val_accuracy: 0.7403\n",
            "Epoch 52/100\n",
            "20/20 [==============================] - 0s 5ms/step - loss: 0.0544 - accuracy: 0.9886 - val_loss: 1.5545 - val_accuracy: 0.7532\n",
            "Epoch 53/100\n",
            "20/20 [==============================] - 0s 5ms/step - loss: 0.0783 - accuracy: 0.9691 - val_loss: 1.5877 - val_accuracy: 0.7273\n",
            "Epoch 54/100\n",
            "20/20 [==============================] - 0s 6ms/step - loss: 0.0181 - accuracy: 0.9935 - val_loss: 1.5530 - val_accuracy: 0.7532\n",
            "Epoch 55/100\n",
            "20/20 [==============================] - 0s 4ms/step - loss: 0.0547 - accuracy: 0.9886 - val_loss: 1.9091 - val_accuracy: 0.7208\n",
            "Epoch 56/100\n",
            "20/20 [==============================] - 0s 4ms/step - loss: 0.0679 - accuracy: 0.9772 - val_loss: 1.5875 - val_accuracy: 0.7403\n",
            "Epoch 57/100\n",
            "20/20 [==============================] - 0s 4ms/step - loss: 0.0530 - accuracy: 0.9821 - val_loss: 1.7903 - val_accuracy: 0.7597\n",
            "Epoch 58/100\n",
            "20/20 [==============================] - 0s 5ms/step - loss: 0.0493 - accuracy: 0.9837 - val_loss: 1.7558 - val_accuracy: 0.7338\n",
            "Epoch 59/100\n",
            "20/20 [==============================] - 0s 6ms/step - loss: 0.0822 - accuracy: 0.9739 - val_loss: 1.7475 - val_accuracy: 0.7078\n",
            "Epoch 60/100\n",
            "20/20 [==============================] - 0s 5ms/step - loss: 0.0122 - accuracy: 0.9951 - val_loss: 2.0990 - val_accuracy: 0.7338\n",
            "Epoch 61/100\n",
            "20/20 [==============================] - 0s 4ms/step - loss: 0.0236 - accuracy: 0.9886 - val_loss: 2.0836 - val_accuracy: 0.7208\n",
            "Epoch 62/100\n",
            "20/20 [==============================] - 0s 5ms/step - loss: 0.0221 - accuracy: 0.9902 - val_loss: 2.1978 - val_accuracy: 0.7078\n",
            "Epoch 63/100\n",
            "20/20 [==============================] - 0s 4ms/step - loss: 0.1026 - accuracy: 0.9691 - val_loss: 1.7986 - val_accuracy: 0.7532\n",
            "Epoch 64/100\n",
            "20/20 [==============================] - 0s 4ms/step - loss: 0.0263 - accuracy: 0.9886 - val_loss: 1.8640 - val_accuracy: 0.7468\n",
            "Epoch 65/100\n",
            "20/20 [==============================] - 0s 5ms/step - loss: 0.0098 - accuracy: 0.9967 - val_loss: 2.2103 - val_accuracy: 0.7727\n",
            "Epoch 66/100\n",
            "20/20 [==============================] - 0s 5ms/step - loss: 0.0637 - accuracy: 0.9837 - val_loss: 1.8877 - val_accuracy: 0.7273\n",
            "Epoch 67/100\n",
            "20/20 [==============================] - 0s 5ms/step - loss: 0.0266 - accuracy: 0.9919 - val_loss: 2.0394 - val_accuracy: 0.7208\n",
            "Epoch 68/100\n",
            "20/20 [==============================] - 0s 4ms/step - loss: 0.0120 - accuracy: 0.9984 - val_loss: 2.3144 - val_accuracy: 0.7143\n",
            "Epoch 69/100\n",
            "20/20 [==============================] - 0s 5ms/step - loss: 0.0491 - accuracy: 0.9821 - val_loss: 2.0564 - val_accuracy: 0.7208\n",
            "Epoch 70/100\n",
            "20/20 [==============================] - 0s 4ms/step - loss: 0.0219 - accuracy: 0.9919 - val_loss: 2.0615 - val_accuracy: 0.7143\n",
            "Epoch 71/100\n",
            "20/20 [==============================] - 0s 5ms/step - loss: 0.0102 - accuracy: 0.9984 - val_loss: 2.1274 - val_accuracy: 0.7273\n",
            "Epoch 72/100\n",
            "20/20 [==============================] - 0s 4ms/step - loss: 0.1143 - accuracy: 0.9772 - val_loss: 2.0848 - val_accuracy: 0.7338\n",
            "Epoch 73/100\n",
            "20/20 [==============================] - 0s 5ms/step - loss: 0.0164 - accuracy: 0.9951 - val_loss: 2.1798 - val_accuracy: 0.7468\n",
            "Epoch 74/100\n",
            "20/20 [==============================] - 0s 4ms/step - loss: 0.0329 - accuracy: 0.9886 - val_loss: 2.2432 - val_accuracy: 0.7078\n",
            "Epoch 75/100\n",
            "20/20 [==============================] - 0s 4ms/step - loss: 0.0194 - accuracy: 0.9935 - val_loss: 2.4058 - val_accuracy: 0.7273\n",
            "Epoch 76/100\n",
            "20/20 [==============================] - 0s 5ms/step - loss: 0.1407 - accuracy: 0.9691 - val_loss: 2.0176 - val_accuracy: 0.7338\n",
            "Epoch 77/100\n",
            "20/20 [==============================] - 0s 5ms/step - loss: 0.0147 - accuracy: 0.9935 - val_loss: 2.0775 - val_accuracy: 0.7143\n",
            "Epoch 78/100\n",
            "20/20 [==============================] - 0s 5ms/step - loss: 0.0471 - accuracy: 0.9870 - val_loss: 2.0669 - val_accuracy: 0.7403\n",
            "Epoch 79/100\n",
            "20/20 [==============================] - 0s 5ms/step - loss: 0.0181 - accuracy: 0.9951 - val_loss: 2.0661 - val_accuracy: 0.7338\n",
            "Epoch 80/100\n",
            "20/20 [==============================] - 0s 5ms/step - loss: 0.0465 - accuracy: 0.9821 - val_loss: 1.9960 - val_accuracy: 0.7338\n",
            "Epoch 81/100\n",
            "20/20 [==============================] - 0s 5ms/step - loss: 0.0070 - accuracy: 0.9984 - val_loss: 2.3941 - val_accuracy: 0.7403\n",
            "Epoch 82/100\n",
            "20/20 [==============================] - 0s 5ms/step - loss: 0.0444 - accuracy: 0.9902 - val_loss: 2.1936 - val_accuracy: 0.7468\n",
            "Epoch 83/100\n",
            "20/20 [==============================] - 0s 5ms/step - loss: 0.0371 - accuracy: 0.9853 - val_loss: 2.0010 - val_accuracy: 0.7143\n",
            "Epoch 84/100\n",
            "20/20 [==============================] - 0s 4ms/step - loss: 0.0042 - accuracy: 0.9984 - val_loss: 2.2918 - val_accuracy: 0.7532\n",
            "Epoch 85/100\n",
            "20/20 [==============================] - 0s 4ms/step - loss: 0.0085 - accuracy: 0.9967 - val_loss: 2.2580 - val_accuracy: 0.7273\n",
            "Epoch 86/100\n",
            "20/20 [==============================] - 0s 4ms/step - loss: 0.0014 - accuracy: 1.0000 - val_loss: 2.7080 - val_accuracy: 0.7468\n",
            "Epoch 87/100\n",
            "20/20 [==============================] - 0s 5ms/step - loss: 0.0650 - accuracy: 0.9853 - val_loss: 2.3640 - val_accuracy: 0.7078\n",
            "Epoch 88/100\n",
            "20/20 [==============================] - 0s 5ms/step - loss: 0.0034 - accuracy: 1.0000 - val_loss: 2.5389 - val_accuracy: 0.7078\n",
            "Epoch 89/100\n",
            "20/20 [==============================] - 0s 6ms/step - loss: 0.0032 - accuracy: 0.9984 - val_loss: 2.5377 - val_accuracy: 0.7013\n",
            "Epoch 90/100\n",
            "20/20 [==============================] - 0s 4ms/step - loss: 0.0600 - accuracy: 0.9821 - val_loss: 2.4599 - val_accuracy: 0.7338\n",
            "Epoch 91/100\n",
            "20/20 [==============================] - 0s 5ms/step - loss: 0.0301 - accuracy: 0.9902 - val_loss: 2.3834 - val_accuracy: 0.7208\n",
            "Epoch 92/100\n",
            "20/20 [==============================] - 0s 5ms/step - loss: 0.0230 - accuracy: 0.9919 - val_loss: 2.5077 - val_accuracy: 0.7078\n",
            "Epoch 93/100\n",
            "20/20 [==============================] - 0s 5ms/step - loss: 0.0027 - accuracy: 0.9984 - val_loss: 2.5627 - val_accuracy: 0.7338\n",
            "Epoch 94/100\n",
            "20/20 [==============================] - 0s 5ms/step - loss: 0.0038 - accuracy: 0.9984 - val_loss: 2.6816 - val_accuracy: 0.7273\n",
            "Epoch 95/100\n",
            "20/20 [==============================] - 0s 5ms/step - loss: 0.0070 - accuracy: 0.9967 - val_loss: 2.7798 - val_accuracy: 0.7208\n",
            "Epoch 96/100\n",
            "20/20 [==============================] - 0s 4ms/step - loss: 0.0025 - accuracy: 0.9984 - val_loss: 2.9092 - val_accuracy: 0.7273\n",
            "Epoch 97/100\n",
            "20/20 [==============================] - 0s 5ms/step - loss: 0.0826 - accuracy: 0.9723 - val_loss: 2.6463 - val_accuracy: 0.6883\n",
            "Epoch 98/100\n",
            "20/20 [==============================] - 0s 5ms/step - loss: 0.0446 - accuracy: 0.9853 - val_loss: 2.4673 - val_accuracy: 0.7273\n",
            "Epoch 99/100\n",
            "20/20 [==============================] - 0s 5ms/step - loss: 0.0283 - accuracy: 0.9951 - val_loss: 2.4568 - val_accuracy: 0.7403\n",
            "Epoch 100/100\n",
            "20/20 [==============================] - 0s 4ms/step - loss: 0.0240 - accuracy: 0.9919 - val_loss: 2.2566 - val_accuracy: 0.7273\n"
          ]
        },
        {
          "output_type": "execute_result",
          "data": {
            "text/plain": [
              "<keras.src.callbacks.History at 0x7eff13915330>"
            ]
          },
          "metadata": {},
          "execution_count": 41
        }
      ]
    },
    {
      "cell_type": "markdown",
      "source": [
        "## All in one Hyperparameter Tuning"
      ],
      "metadata": {
        "id": "rJRKtWQpe5es"
      }
    },
    {
      "cell_type": "code",
      "source": [
        "def build_model(hp):\n",
        "  model = Sequential()\n",
        "  counter = 0\n",
        "\n",
        "  for i in range(hp.Int('num_layers',min_value=1,max_value=10)):\n",
        "\n",
        "    if counter==0:\n",
        "\n",
        "      model.add(Dense(hp.Int('units'+str(i),min_value=8,max_value=128,step=8),\n",
        "                      activation=hp.Choice('activation'+str(i),values=['relu','tanh','sigmoid']),input_dim=8))\n",
        "      model.add(Dropout(hp.Choice('dropout'+str(i),values=[0.1,0.2,0.3,0.4,0.5,0.6,0.7])))\n",
        "    else:\n",
        "      model.add(Dense(hp.Int('units'+str(i),min_value=8,max_value=128,step=8),\n",
        "                      activation=hp.Choice('activation'+str(i),values=['relu','tanh','sigmoid'])))\n",
        "      model.add(Dropout(hp.Choice('dropout'+str(i),values=[0.1,0.2,0.3,0.4,0.5,0.6,0.7])))\n",
        "    counter+=1\n",
        "\n",
        "  model.add(Dense(1,activation='sigmoid'))\n",
        "\n",
        "  model.compile(optimizer=hp.Choice('optimizer',values=['rmsprop','adam','sgd','nadam','adadelta']),loss='binary_crossentropy',metrics=['accuracy'])\n",
        "\n",
        "  return model\n"
      ],
      "metadata": {
        "id": "4jTpMbD8UHHF"
      },
      "execution_count": null,
      "outputs": []
    },
    {
      "cell_type": "code",
      "source": [
        "tuner = kt.RandomSearch(build_model,objective='val_accuracy',max_trials=3,directory='model_tunning',project_name='all_in_ones')"
      ],
      "metadata": {
        "id": "zHTvH3Xkhctp"
      },
      "execution_count": null,
      "outputs": []
    },
    {
      "cell_type": "code",
      "source": [
        "tuner.search(X_train,y_train,epochs=5,validation_data=(X_test,y_test))"
      ],
      "metadata": {
        "colab": {
          "base_uri": "https://localhost:8080/"
        },
        "id": "JiGZuGOAhzQj",
        "outputId": "cfd11796-f906-4706-948a-bccdf2d809a7"
      },
      "execution_count": null,
      "outputs": [
        {
          "output_type": "stream",
          "name": "stdout",
          "text": [
            "Trial 3 Complete [00h 00m 04s]\n",
            "val_accuracy: 0.7922077775001526\n",
            "\n",
            "Best val_accuracy So Far: 0.7922077775001526\n",
            "Total elapsed time: 00h 00m 08s\n"
          ]
        }
      ]
    },
    {
      "cell_type": "code",
      "source": [
        "tuner.get_best_hyperparameters()[0].values"
      ],
      "metadata": {
        "colab": {
          "base_uri": "https://localhost:8080/"
        },
        "id": "lNj8A8QpiHCd",
        "outputId": "280e360b-7d61-4acf-a9c4-dc70b048e98d"
      },
      "execution_count": null,
      "outputs": [
        {
          "output_type": "execute_result",
          "data": {
            "text/plain": [
              "{'num_layers': 3,\n",
              " 'units0': 104,\n",
              " 'activation0': 'relu',\n",
              " 'dropout0': 0.6,\n",
              " 'optimizer': 'nadam',\n",
              " 'units1': 96,\n",
              " 'activation1': 'relu',\n",
              " 'dropout1': 0.2,\n",
              " 'units2': 96,\n",
              " 'activation2': 'relu',\n",
              " 'dropout2': 0.1,\n",
              " 'units3': 112,\n",
              " 'activation3': 'relu',\n",
              " 'dropout3': 0.1,\n",
              " 'units4': 24,\n",
              " 'activation4': 'sigmoid',\n",
              " 'dropout4': 0.2}"
            ]
          },
          "metadata": {},
          "execution_count": 68
        }
      ]
    },
    {
      "cell_type": "code",
      "source": [
        "model = tuner.get_best_models(num_models=1)[0]"
      ],
      "metadata": {
        "id": "kne8hHDEiUIG"
      },
      "execution_count": null,
      "outputs": []
    },
    {
      "cell_type": "code",
      "source": [
        "model.summary()"
      ],
      "metadata": {
        "colab": {
          "base_uri": "https://localhost:8080/"
        },
        "id": "uHpDknwRinJM",
        "outputId": "0b13d7aa-bab6-415c-f00c-031dbe120232"
      },
      "execution_count": null,
      "outputs": [
        {
          "output_type": "stream",
          "name": "stdout",
          "text": [
            "Model: \"sequential\"\n",
            "_________________________________________________________________\n",
            " Layer (type)                Output Shape              Param #   \n",
            "=================================================================\n",
            " dense (Dense)               (None, 104)               936       \n",
            "                                                                 \n",
            " dropout (Dropout)           (None, 104)               0         \n",
            "                                                                 \n",
            " dense_1 (Dense)             (None, 96)                10080     \n",
            "                                                                 \n",
            " dropout_1 (Dropout)         (None, 96)                0         \n",
            "                                                                 \n",
            " dense_2 (Dense)             (None, 96)                9312      \n",
            "                                                                 \n",
            " dropout_2 (Dropout)         (None, 96)                0         \n",
            "                                                                 \n",
            " dense_3 (Dense)             (None, 1)                 97        \n",
            "                                                                 \n",
            "=================================================================\n",
            "Total params: 20425 (79.79 KB)\n",
            "Trainable params: 20425 (79.79 KB)\n",
            "Non-trainable params: 0 (0.00 Byte)\n",
            "_________________________________________________________________\n"
          ]
        }
      ]
    },
    {
      "cell_type": "code",
      "source": [
        "model.fit(X_train,y_train,epochs=200,initial_epoch=5,validation_data=(X_test,y_test))"
      ],
      "metadata": {
        "colab": {
          "base_uri": "https://localhost:8080/"
        },
        "id": "EPUaOIwRiot9",
        "outputId": "deb20348-ffcf-4e53-be63-5714a7ac40b1"
      },
      "execution_count": null,
      "outputs": [
        {
          "output_type": "stream",
          "name": "stdout",
          "text": [
            "Epoch 6/200\n",
            "20/20 [==============================] - 2s 13ms/step - loss: 0.5302 - accuracy: 0.7410 - val_loss: 0.5010 - val_accuracy: 0.7792\n",
            "Epoch 7/200\n",
            "20/20 [==============================] - 0s 5ms/step - loss: 0.5153 - accuracy: 0.7492 - val_loss: 0.4984 - val_accuracy: 0.7857\n",
            "Epoch 8/200\n",
            "20/20 [==============================] - 0s 5ms/step - loss: 0.5044 - accuracy: 0.7541 - val_loss: 0.4960 - val_accuracy: 0.7792\n",
            "Epoch 9/200\n",
            "20/20 [==============================] - 0s 5ms/step - loss: 0.5115 - accuracy: 0.7459 - val_loss: 0.4948 - val_accuracy: 0.7857\n",
            "Epoch 10/200\n",
            "20/20 [==============================] - 0s 5ms/step - loss: 0.4977 - accuracy: 0.7573 - val_loss: 0.4905 - val_accuracy: 0.7922\n",
            "Epoch 11/200\n",
            "20/20 [==============================] - 0s 5ms/step - loss: 0.4837 - accuracy: 0.7557 - val_loss: 0.4939 - val_accuracy: 0.7727\n",
            "Epoch 12/200\n",
            "20/20 [==============================] - 0s 5ms/step - loss: 0.4949 - accuracy: 0.7508 - val_loss: 0.4921 - val_accuracy: 0.7662\n",
            "Epoch 13/200\n",
            "20/20 [==============================] - 0s 5ms/step - loss: 0.4906 - accuracy: 0.7573 - val_loss: 0.4877 - val_accuracy: 0.7468\n",
            "Epoch 14/200\n",
            "20/20 [==============================] - 0s 6ms/step - loss: 0.4750 - accuracy: 0.7590 - val_loss: 0.4830 - val_accuracy: 0.7922\n",
            "Epoch 15/200\n",
            "20/20 [==============================] - 0s 6ms/step - loss: 0.4804 - accuracy: 0.7687 - val_loss: 0.4801 - val_accuracy: 0.7857\n",
            "Epoch 16/200\n",
            "20/20 [==============================] - 0s 5ms/step - loss: 0.4773 - accuracy: 0.7638 - val_loss: 0.4793 - val_accuracy: 0.7922\n",
            "Epoch 17/200\n",
            "20/20 [==============================] - 0s 5ms/step - loss: 0.4807 - accuracy: 0.7541 - val_loss: 0.4782 - val_accuracy: 0.7792\n",
            "Epoch 18/200\n",
            "20/20 [==============================] - 0s 5ms/step - loss: 0.4874 - accuracy: 0.7638 - val_loss: 0.4811 - val_accuracy: 0.7987\n",
            "Epoch 19/200\n",
            "20/20 [==============================] - 0s 4ms/step - loss: 0.4762 - accuracy: 0.7687 - val_loss: 0.4768 - val_accuracy: 0.7987\n",
            "Epoch 20/200\n",
            "20/20 [==============================] - 0s 5ms/step - loss: 0.4847 - accuracy: 0.7671 - val_loss: 0.4720 - val_accuracy: 0.8117\n",
            "Epoch 21/200\n",
            "20/20 [==============================] - 0s 6ms/step - loss: 0.4718 - accuracy: 0.7866 - val_loss: 0.4682 - val_accuracy: 0.8182\n",
            "Epoch 22/200\n",
            "20/20 [==============================] - 0s 5ms/step - loss: 0.4621 - accuracy: 0.7964 - val_loss: 0.4697 - val_accuracy: 0.8052\n",
            "Epoch 23/200\n",
            "20/20 [==============================] - 0s 5ms/step - loss: 0.4613 - accuracy: 0.7704 - val_loss: 0.4736 - val_accuracy: 0.7987\n",
            "Epoch 24/200\n",
            "20/20 [==============================] - 0s 5ms/step - loss: 0.4666 - accuracy: 0.7622 - val_loss: 0.4785 - val_accuracy: 0.7922\n",
            "Epoch 25/200\n",
            "20/20 [==============================] - 0s 5ms/step - loss: 0.4709 - accuracy: 0.7720 - val_loss: 0.4757 - val_accuracy: 0.7922\n",
            "Epoch 26/200\n",
            "20/20 [==============================] - 0s 5ms/step - loss: 0.4570 - accuracy: 0.7736 - val_loss: 0.4782 - val_accuracy: 0.7922\n",
            "Epoch 27/200\n",
            "20/20 [==============================] - 0s 5ms/step - loss: 0.4632 - accuracy: 0.7834 - val_loss: 0.4727 - val_accuracy: 0.7987\n",
            "Epoch 28/200\n",
            "20/20 [==============================] - 0s 5ms/step - loss: 0.4369 - accuracy: 0.7883 - val_loss: 0.4705 - val_accuracy: 0.7922\n",
            "Epoch 29/200\n",
            "20/20 [==============================] - 0s 4ms/step - loss: 0.4559 - accuracy: 0.7801 - val_loss: 0.4700 - val_accuracy: 0.7922\n",
            "Epoch 30/200\n",
            "20/20 [==============================] - 0s 5ms/step - loss: 0.4636 - accuracy: 0.7801 - val_loss: 0.4678 - val_accuracy: 0.8052\n",
            "Epoch 31/200\n",
            "20/20 [==============================] - 0s 5ms/step - loss: 0.4536 - accuracy: 0.7590 - val_loss: 0.4723 - val_accuracy: 0.7922\n",
            "Epoch 32/200\n",
            "20/20 [==============================] - 0s 5ms/step - loss: 0.4549 - accuracy: 0.8013 - val_loss: 0.4669 - val_accuracy: 0.8052\n",
            "Epoch 33/200\n",
            "20/20 [==============================] - 0s 5ms/step - loss: 0.4686 - accuracy: 0.7622 - val_loss: 0.4647 - val_accuracy: 0.7922\n",
            "Epoch 34/200\n",
            "20/20 [==============================] - 0s 5ms/step - loss: 0.4583 - accuracy: 0.7638 - val_loss: 0.4640 - val_accuracy: 0.7922\n",
            "Epoch 35/200\n",
            "20/20 [==============================] - 0s 5ms/step - loss: 0.4635 - accuracy: 0.7801 - val_loss: 0.4637 - val_accuracy: 0.7922\n",
            "Epoch 36/200\n",
            "20/20 [==============================] - 0s 4ms/step - loss: 0.4628 - accuracy: 0.7590 - val_loss: 0.4675 - val_accuracy: 0.7987\n",
            "Epoch 37/200\n",
            "20/20 [==============================] - 0s 5ms/step - loss: 0.4546 - accuracy: 0.7899 - val_loss: 0.4707 - val_accuracy: 0.8052\n",
            "Epoch 38/200\n",
            "20/20 [==============================] - 0s 4ms/step - loss: 0.4623 - accuracy: 0.7720 - val_loss: 0.4689 - val_accuracy: 0.8182\n",
            "Epoch 39/200\n",
            "20/20 [==============================] - 0s 4ms/step - loss: 0.4581 - accuracy: 0.7769 - val_loss: 0.4717 - val_accuracy: 0.7987\n",
            "Epoch 40/200\n",
            "20/20 [==============================] - 0s 5ms/step - loss: 0.4573 - accuracy: 0.7671 - val_loss: 0.4699 - val_accuracy: 0.7987\n",
            "Epoch 41/200\n",
            "20/20 [==============================] - 0s 4ms/step - loss: 0.4569 - accuracy: 0.7769 - val_loss: 0.4681 - val_accuracy: 0.7922\n",
            "Epoch 42/200\n",
            "20/20 [==============================] - 0s 5ms/step - loss: 0.4402 - accuracy: 0.7964 - val_loss: 0.4717 - val_accuracy: 0.8052\n",
            "Epoch 43/200\n",
            "20/20 [==============================] - 0s 5ms/step - loss: 0.4582 - accuracy: 0.7736 - val_loss: 0.4719 - val_accuracy: 0.7922\n",
            "Epoch 44/200\n",
            "20/20 [==============================] - 0s 5ms/step - loss: 0.4453 - accuracy: 0.7752 - val_loss: 0.4708 - val_accuracy: 0.8182\n",
            "Epoch 45/200\n",
            "20/20 [==============================] - 0s 4ms/step - loss: 0.4616 - accuracy: 0.7785 - val_loss: 0.4706 - val_accuracy: 0.7922\n",
            "Epoch 46/200\n",
            "20/20 [==============================] - 0s 5ms/step - loss: 0.4596 - accuracy: 0.7834 - val_loss: 0.4685 - val_accuracy: 0.8052\n",
            "Epoch 47/200\n",
            "20/20 [==============================] - 0s 4ms/step - loss: 0.4526 - accuracy: 0.7850 - val_loss: 0.4671 - val_accuracy: 0.8117\n",
            "Epoch 48/200\n",
            "20/20 [==============================] - 0s 5ms/step - loss: 0.4524 - accuracy: 0.7850 - val_loss: 0.4679 - val_accuracy: 0.7987\n",
            "Epoch 49/200\n",
            "20/20 [==============================] - 0s 5ms/step - loss: 0.4435 - accuracy: 0.7866 - val_loss: 0.4703 - val_accuracy: 0.7922\n",
            "Epoch 50/200\n",
            "20/20 [==============================] - 0s 6ms/step - loss: 0.4456 - accuracy: 0.7866 - val_loss: 0.4724 - val_accuracy: 0.7792\n",
            "Epoch 51/200\n",
            "20/20 [==============================] - 0s 5ms/step - loss: 0.4477 - accuracy: 0.7801 - val_loss: 0.4716 - val_accuracy: 0.7857\n",
            "Epoch 52/200\n",
            "20/20 [==============================] - 0s 5ms/step - loss: 0.4654 - accuracy: 0.7785 - val_loss: 0.4718 - val_accuracy: 0.7922\n",
            "Epoch 53/200\n",
            "20/20 [==============================] - 0s 5ms/step - loss: 0.4454 - accuracy: 0.7850 - val_loss: 0.4722 - val_accuracy: 0.7922\n",
            "Epoch 54/200\n",
            "20/20 [==============================] - 0s 5ms/step - loss: 0.4426 - accuracy: 0.7818 - val_loss: 0.4718 - val_accuracy: 0.7987\n",
            "Epoch 55/200\n",
            "20/20 [==============================] - 0s 5ms/step - loss: 0.4467 - accuracy: 0.7752 - val_loss: 0.4741 - val_accuracy: 0.7922\n",
            "Epoch 56/200\n",
            "20/20 [==============================] - 0s 5ms/step - loss: 0.4387 - accuracy: 0.7899 - val_loss: 0.4723 - val_accuracy: 0.7922\n",
            "Epoch 57/200\n",
            "20/20 [==============================] - 0s 5ms/step - loss: 0.4533 - accuracy: 0.7818 - val_loss: 0.4711 - val_accuracy: 0.7857\n",
            "Epoch 58/200\n",
            "20/20 [==============================] - 0s 5ms/step - loss: 0.4332 - accuracy: 0.7932 - val_loss: 0.4718 - val_accuracy: 0.7857\n",
            "Epoch 59/200\n",
            "20/20 [==============================] - 0s 6ms/step - loss: 0.4377 - accuracy: 0.7850 - val_loss: 0.4701 - val_accuracy: 0.7922\n",
            "Epoch 60/200\n",
            "20/20 [==============================] - 0s 5ms/step - loss: 0.4491 - accuracy: 0.7785 - val_loss: 0.4735 - val_accuracy: 0.7662\n",
            "Epoch 61/200\n",
            "20/20 [==============================] - 0s 6ms/step - loss: 0.4440 - accuracy: 0.7801 - val_loss: 0.4699 - val_accuracy: 0.7922\n",
            "Epoch 62/200\n",
            "20/20 [==============================] - 0s 4ms/step - loss: 0.4423 - accuracy: 0.7932 - val_loss: 0.4667 - val_accuracy: 0.8052\n",
            "Epoch 63/200\n",
            "20/20 [==============================] - 0s 5ms/step - loss: 0.4470 - accuracy: 0.7687 - val_loss: 0.4689 - val_accuracy: 0.8182\n",
            "Epoch 64/200\n",
            "20/20 [==============================] - 0s 4ms/step - loss: 0.4343 - accuracy: 0.7932 - val_loss: 0.4735 - val_accuracy: 0.7922\n",
            "Epoch 65/200\n",
            "20/20 [==============================] - 0s 5ms/step - loss: 0.4471 - accuracy: 0.7866 - val_loss: 0.4749 - val_accuracy: 0.7727\n",
            "Epoch 66/200\n",
            "20/20 [==============================] - 0s 7ms/step - loss: 0.4472 - accuracy: 0.7866 - val_loss: 0.4765 - val_accuracy: 0.7922\n",
            "Epoch 67/200\n",
            "20/20 [==============================] - 0s 7ms/step - loss: 0.4307 - accuracy: 0.7948 - val_loss: 0.4725 - val_accuracy: 0.7922\n",
            "Epoch 68/200\n",
            "20/20 [==============================] - 0s 7ms/step - loss: 0.4484 - accuracy: 0.7915 - val_loss: 0.4731 - val_accuracy: 0.7662\n",
            "Epoch 69/200\n",
            "20/20 [==============================] - 0s 7ms/step - loss: 0.4277 - accuracy: 0.7964 - val_loss: 0.4741 - val_accuracy: 0.7857\n",
            "Epoch 70/200\n",
            "20/20 [==============================] - 0s 7ms/step - loss: 0.4470 - accuracy: 0.7850 - val_loss: 0.4747 - val_accuracy: 0.7792\n",
            "Epoch 71/200\n",
            "20/20 [==============================] - 0s 7ms/step - loss: 0.4190 - accuracy: 0.7834 - val_loss: 0.4720 - val_accuracy: 0.7792\n",
            "Epoch 72/200\n",
            "20/20 [==============================] - 0s 7ms/step - loss: 0.4323 - accuracy: 0.7785 - val_loss: 0.4706 - val_accuracy: 0.7922\n",
            "Epoch 73/200\n",
            "20/20 [==============================] - 0s 7ms/step - loss: 0.4423 - accuracy: 0.7964 - val_loss: 0.4707 - val_accuracy: 0.7987\n",
            "Epoch 74/200\n",
            "20/20 [==============================] - 0s 7ms/step - loss: 0.4495 - accuracy: 0.7850 - val_loss: 0.4730 - val_accuracy: 0.7922\n",
            "Epoch 75/200\n",
            "20/20 [==============================] - 0s 7ms/step - loss: 0.4204 - accuracy: 0.7834 - val_loss: 0.4706 - val_accuracy: 0.7987\n",
            "Epoch 76/200\n",
            "20/20 [==============================] - 0s 8ms/step - loss: 0.4254 - accuracy: 0.7932 - val_loss: 0.4706 - val_accuracy: 0.7987\n",
            "Epoch 77/200\n",
            "20/20 [==============================] - 0s 7ms/step - loss: 0.4293 - accuracy: 0.7866 - val_loss: 0.4702 - val_accuracy: 0.7857\n",
            "Epoch 78/200\n",
            "20/20 [==============================] - 0s 9ms/step - loss: 0.4226 - accuracy: 0.7932 - val_loss: 0.4673 - val_accuracy: 0.7857\n",
            "Epoch 79/200\n",
            "20/20 [==============================] - 0s 8ms/step - loss: 0.4372 - accuracy: 0.7915 - val_loss: 0.4711 - val_accuracy: 0.7922\n",
            "Epoch 80/200\n",
            "20/20 [==============================] - 0s 7ms/step - loss: 0.4311 - accuracy: 0.7834 - val_loss: 0.4674 - val_accuracy: 0.7727\n",
            "Epoch 81/200\n",
            "20/20 [==============================] - 0s 7ms/step - loss: 0.4275 - accuracy: 0.7850 - val_loss: 0.4686 - val_accuracy: 0.7792\n",
            "Epoch 82/200\n",
            "20/20 [==============================] - 0s 7ms/step - loss: 0.4222 - accuracy: 0.7834 - val_loss: 0.4651 - val_accuracy: 0.7922\n",
            "Epoch 83/200\n",
            "20/20 [==============================] - 0s 9ms/step - loss: 0.4274 - accuracy: 0.7915 - val_loss: 0.4657 - val_accuracy: 0.7792\n",
            "Epoch 84/200\n",
            "20/20 [==============================] - 0s 8ms/step - loss: 0.4490 - accuracy: 0.7883 - val_loss: 0.4672 - val_accuracy: 0.7922\n",
            "Epoch 85/200\n",
            "20/20 [==============================] - 0s 8ms/step - loss: 0.4362 - accuracy: 0.7964 - val_loss: 0.4693 - val_accuracy: 0.7922\n",
            "Epoch 86/200\n",
            "20/20 [==============================] - 0s 7ms/step - loss: 0.4126 - accuracy: 0.8143 - val_loss: 0.4710 - val_accuracy: 0.7987\n",
            "Epoch 87/200\n",
            "20/20 [==============================] - 0s 7ms/step - loss: 0.4394 - accuracy: 0.7964 - val_loss: 0.4701 - val_accuracy: 0.7792\n",
            "Epoch 88/200\n",
            "20/20 [==============================] - 0s 7ms/step - loss: 0.4419 - accuracy: 0.7964 - val_loss: 0.4704 - val_accuracy: 0.7727\n",
            "Epoch 89/200\n",
            "20/20 [==============================] - 0s 7ms/step - loss: 0.4251 - accuracy: 0.8094 - val_loss: 0.4692 - val_accuracy: 0.7792\n",
            "Epoch 90/200\n",
            "20/20 [==============================] - 0s 8ms/step - loss: 0.4263 - accuracy: 0.7980 - val_loss: 0.4679 - val_accuracy: 0.7727\n",
            "Epoch 91/200\n",
            "20/20 [==============================] - 0s 8ms/step - loss: 0.4277 - accuracy: 0.7883 - val_loss: 0.4680 - val_accuracy: 0.7792\n",
            "Epoch 92/200\n",
            "20/20 [==============================] - 0s 7ms/step - loss: 0.4160 - accuracy: 0.7948 - val_loss: 0.4698 - val_accuracy: 0.7857\n",
            "Epoch 93/200\n",
            "20/20 [==============================] - 0s 7ms/step - loss: 0.4433 - accuracy: 0.7980 - val_loss: 0.4724 - val_accuracy: 0.7792\n",
            "Epoch 94/200\n",
            "20/20 [==============================] - 0s 7ms/step - loss: 0.4210 - accuracy: 0.7866 - val_loss: 0.4692 - val_accuracy: 0.7792\n",
            "Epoch 95/200\n",
            "20/20 [==============================] - 0s 7ms/step - loss: 0.4114 - accuracy: 0.8046 - val_loss: 0.4760 - val_accuracy: 0.7792\n",
            "Epoch 96/200\n",
            "20/20 [==============================] - 0s 6ms/step - loss: 0.4206 - accuracy: 0.8029 - val_loss: 0.4758 - val_accuracy: 0.7792\n",
            "Epoch 97/200\n",
            "20/20 [==============================] - 0s 5ms/step - loss: 0.4393 - accuracy: 0.7752 - val_loss: 0.4701 - val_accuracy: 0.7792\n",
            "Epoch 98/200\n",
            "20/20 [==============================] - 0s 4ms/step - loss: 0.4337 - accuracy: 0.7704 - val_loss: 0.4724 - val_accuracy: 0.7727\n",
            "Epoch 99/200\n",
            "20/20 [==============================] - 0s 4ms/step - loss: 0.4134 - accuracy: 0.7866 - val_loss: 0.4737 - val_accuracy: 0.7792\n",
            "Epoch 100/200\n",
            "20/20 [==============================] - 0s 5ms/step - loss: 0.4319 - accuracy: 0.7932 - val_loss: 0.4718 - val_accuracy: 0.7857\n",
            "Epoch 101/200\n",
            "20/20 [==============================] - 0s 5ms/step - loss: 0.4239 - accuracy: 0.8062 - val_loss: 0.4749 - val_accuracy: 0.7857\n",
            "Epoch 102/200\n",
            "20/20 [==============================] - 0s 5ms/step - loss: 0.4169 - accuracy: 0.8094 - val_loss: 0.4741 - val_accuracy: 0.7662\n",
            "Epoch 103/200\n",
            "20/20 [==============================] - 0s 6ms/step - loss: 0.4336 - accuracy: 0.7997 - val_loss: 0.4675 - val_accuracy: 0.7792\n",
            "Epoch 104/200\n",
            "20/20 [==============================] - 0s 5ms/step - loss: 0.4149 - accuracy: 0.8029 - val_loss: 0.4665 - val_accuracy: 0.7727\n",
            "Epoch 105/200\n",
            "20/20 [==============================] - 0s 5ms/step - loss: 0.4072 - accuracy: 0.8046 - val_loss: 0.4667 - val_accuracy: 0.7597\n",
            "Epoch 106/200\n",
            "20/20 [==============================] - 0s 5ms/step - loss: 0.4297 - accuracy: 0.7915 - val_loss: 0.4689 - val_accuracy: 0.7727\n",
            "Epoch 107/200\n",
            "20/20 [==============================] - 0s 5ms/step - loss: 0.4269 - accuracy: 0.7964 - val_loss: 0.4694 - val_accuracy: 0.7792\n",
            "Epoch 108/200\n",
            "20/20 [==============================] - 0s 5ms/step - loss: 0.4131 - accuracy: 0.8013 - val_loss: 0.4681 - val_accuracy: 0.7727\n",
            "Epoch 109/200\n",
            "20/20 [==============================] - 0s 4ms/step - loss: 0.4213 - accuracy: 0.7818 - val_loss: 0.4688 - val_accuracy: 0.7727\n",
            "Epoch 110/200\n",
            "20/20 [==============================] - 0s 5ms/step - loss: 0.4029 - accuracy: 0.8078 - val_loss: 0.4690 - val_accuracy: 0.7597\n",
            "Epoch 111/200\n",
            "20/20 [==============================] - 0s 5ms/step - loss: 0.4157 - accuracy: 0.7964 - val_loss: 0.4673 - val_accuracy: 0.7597\n",
            "Epoch 112/200\n",
            "20/20 [==============================] - 0s 5ms/step - loss: 0.4429 - accuracy: 0.7834 - val_loss: 0.4738 - val_accuracy: 0.7662\n",
            "Epoch 113/200\n",
            "20/20 [==============================] - 0s 5ms/step - loss: 0.4224 - accuracy: 0.7883 - val_loss: 0.4736 - val_accuracy: 0.7597\n",
            "Epoch 114/200\n",
            "20/20 [==============================] - 0s 5ms/step - loss: 0.4121 - accuracy: 0.8046 - val_loss: 0.4773 - val_accuracy: 0.7727\n",
            "Epoch 115/200\n",
            "20/20 [==============================] - 0s 5ms/step - loss: 0.4165 - accuracy: 0.7980 - val_loss: 0.4730 - val_accuracy: 0.7662\n",
            "Epoch 116/200\n",
            "20/20 [==============================] - 0s 6ms/step - loss: 0.4144 - accuracy: 0.8029 - val_loss: 0.4699 - val_accuracy: 0.7727\n",
            "Epoch 117/200\n",
            "20/20 [==============================] - 0s 5ms/step - loss: 0.4124 - accuracy: 0.7801 - val_loss: 0.4715 - val_accuracy: 0.7792\n",
            "Epoch 118/200\n",
            "20/20 [==============================] - 0s 5ms/step - loss: 0.3940 - accuracy: 0.8127 - val_loss: 0.4713 - val_accuracy: 0.7857\n",
            "Epoch 119/200\n",
            "20/20 [==============================] - 0s 5ms/step - loss: 0.4436 - accuracy: 0.7866 - val_loss: 0.4705 - val_accuracy: 0.7792\n",
            "Epoch 120/200\n",
            "20/20 [==============================] - 0s 5ms/step - loss: 0.4085 - accuracy: 0.8111 - val_loss: 0.4694 - val_accuracy: 0.7727\n",
            "Epoch 121/200\n",
            "20/20 [==============================] - 0s 4ms/step - loss: 0.4088 - accuracy: 0.7866 - val_loss: 0.4787 - val_accuracy: 0.7727\n",
            "Epoch 122/200\n",
            "20/20 [==============================] - 0s 5ms/step - loss: 0.4047 - accuracy: 0.8111 - val_loss: 0.4740 - val_accuracy: 0.7792\n",
            "Epoch 123/200\n",
            "20/20 [==============================] - 0s 5ms/step - loss: 0.4039 - accuracy: 0.8208 - val_loss: 0.4717 - val_accuracy: 0.7727\n",
            "Epoch 124/200\n",
            "20/20 [==============================] - 0s 5ms/step - loss: 0.3975 - accuracy: 0.8078 - val_loss: 0.4745 - val_accuracy: 0.7857\n",
            "Epoch 125/200\n",
            "20/20 [==============================] - 0s 5ms/step - loss: 0.4319 - accuracy: 0.7883 - val_loss: 0.4738 - val_accuracy: 0.7857\n",
            "Epoch 126/200\n",
            "20/20 [==============================] - 0s 5ms/step - loss: 0.4068 - accuracy: 0.8062 - val_loss: 0.4757 - val_accuracy: 0.7792\n",
            "Epoch 127/200\n",
            "20/20 [==============================] - 0s 5ms/step - loss: 0.4091 - accuracy: 0.7997 - val_loss: 0.4724 - val_accuracy: 0.7792\n",
            "Epoch 128/200\n",
            "20/20 [==============================] - 0s 5ms/step - loss: 0.4030 - accuracy: 0.8241 - val_loss: 0.4732 - val_accuracy: 0.7857\n",
            "Epoch 129/200\n",
            "20/20 [==============================] - 0s 4ms/step - loss: 0.4110 - accuracy: 0.7964 - val_loss: 0.4724 - val_accuracy: 0.7792\n",
            "Epoch 130/200\n",
            "20/20 [==============================] - 0s 5ms/step - loss: 0.4317 - accuracy: 0.7785 - val_loss: 0.4734 - val_accuracy: 0.7792\n",
            "Epoch 131/200\n",
            "20/20 [==============================] - 0s 5ms/step - loss: 0.4187 - accuracy: 0.7980 - val_loss: 0.4719 - val_accuracy: 0.7987\n",
            "Epoch 132/200\n",
            "20/20 [==============================] - 0s 5ms/step - loss: 0.4051 - accuracy: 0.8046 - val_loss: 0.4729 - val_accuracy: 0.7922\n",
            "Epoch 133/200\n",
            "20/20 [==============================] - 0s 5ms/step - loss: 0.4185 - accuracy: 0.8013 - val_loss: 0.4718 - val_accuracy: 0.7922\n",
            "Epoch 134/200\n",
            "20/20 [==============================] - 0s 6ms/step - loss: 0.4103 - accuracy: 0.7915 - val_loss: 0.4690 - val_accuracy: 0.7857\n",
            "Epoch 135/200\n",
            "20/20 [==============================] - 0s 6ms/step - loss: 0.4073 - accuracy: 0.7964 - val_loss: 0.4690 - val_accuracy: 0.7987\n",
            "Epoch 136/200\n",
            "20/20 [==============================] - 0s 5ms/step - loss: 0.3884 - accuracy: 0.8111 - val_loss: 0.4646 - val_accuracy: 0.8052\n",
            "Epoch 137/200\n",
            "20/20 [==============================] - 0s 4ms/step - loss: 0.4082 - accuracy: 0.8078 - val_loss: 0.4727 - val_accuracy: 0.7987\n",
            "Epoch 138/200\n",
            "20/20 [==============================] - 0s 4ms/step - loss: 0.4154 - accuracy: 0.8111 - val_loss: 0.4667 - val_accuracy: 0.7987\n",
            "Epoch 139/200\n",
            "20/20 [==============================] - 0s 5ms/step - loss: 0.3897 - accuracy: 0.8111 - val_loss: 0.4609 - val_accuracy: 0.7922\n",
            "Epoch 140/200\n",
            "20/20 [==============================] - 0s 5ms/step - loss: 0.3868 - accuracy: 0.8176 - val_loss: 0.4649 - val_accuracy: 0.7922\n",
            "Epoch 141/200\n",
            "20/20 [==============================] - 0s 5ms/step - loss: 0.4053 - accuracy: 0.8225 - val_loss: 0.4641 - val_accuracy: 0.7857\n",
            "Epoch 142/200\n",
            "20/20 [==============================] - 0s 4ms/step - loss: 0.4046 - accuracy: 0.8127 - val_loss: 0.4653 - val_accuracy: 0.7857\n",
            "Epoch 143/200\n",
            "20/20 [==============================] - 0s 5ms/step - loss: 0.3871 - accuracy: 0.8436 - val_loss: 0.4711 - val_accuracy: 0.7922\n",
            "Epoch 144/200\n",
            "20/20 [==============================] - 0s 5ms/step - loss: 0.3945 - accuracy: 0.8127 - val_loss: 0.4708 - val_accuracy: 0.7987\n",
            "Epoch 145/200\n",
            "20/20 [==============================] - 0s 5ms/step - loss: 0.3922 - accuracy: 0.7997 - val_loss: 0.4721 - val_accuracy: 0.7857\n",
            "Epoch 146/200\n",
            "20/20 [==============================] - 0s 5ms/step - loss: 0.4141 - accuracy: 0.8062 - val_loss: 0.4773 - val_accuracy: 0.7922\n",
            "Epoch 147/200\n",
            "20/20 [==============================] - 0s 5ms/step - loss: 0.4156 - accuracy: 0.7915 - val_loss: 0.4733 - val_accuracy: 0.7922\n",
            "Epoch 148/200\n",
            "20/20 [==============================] - 0s 5ms/step - loss: 0.3887 - accuracy: 0.8160 - val_loss: 0.4735 - val_accuracy: 0.7792\n",
            "Epoch 149/200\n",
            "20/20 [==============================] - 0s 5ms/step - loss: 0.4078 - accuracy: 0.8078 - val_loss: 0.4717 - val_accuracy: 0.7922\n",
            "Epoch 150/200\n",
            "20/20 [==============================] - 0s 5ms/step - loss: 0.4048 - accuracy: 0.8111 - val_loss: 0.4696 - val_accuracy: 0.7922\n",
            "Epoch 151/200\n",
            "20/20 [==============================] - 0s 5ms/step - loss: 0.3942 - accuracy: 0.8094 - val_loss: 0.4674 - val_accuracy: 0.7857\n",
            "Epoch 152/200\n",
            "20/20 [==============================] - 0s 5ms/step - loss: 0.3879 - accuracy: 0.8160 - val_loss: 0.4685 - val_accuracy: 0.7727\n",
            "Epoch 153/200\n",
            "20/20 [==============================] - 0s 5ms/step - loss: 0.4128 - accuracy: 0.8143 - val_loss: 0.4687 - val_accuracy: 0.7792\n",
            "Epoch 154/200\n",
            "20/20 [==============================] - 0s 6ms/step - loss: 0.3842 - accuracy: 0.8225 - val_loss: 0.4732 - val_accuracy: 0.7857\n",
            "Epoch 155/200\n",
            "20/20 [==============================] - 0s 6ms/step - loss: 0.4011 - accuracy: 0.7964 - val_loss: 0.4789 - val_accuracy: 0.7857\n",
            "Epoch 156/200\n",
            "20/20 [==============================] - 0s 5ms/step - loss: 0.3810 - accuracy: 0.8094 - val_loss: 0.4789 - val_accuracy: 0.7792\n",
            "Epoch 157/200\n",
            "20/20 [==============================] - 0s 5ms/step - loss: 0.3871 - accuracy: 0.8225 - val_loss: 0.4822 - val_accuracy: 0.7922\n",
            "Epoch 158/200\n",
            "20/20 [==============================] - 0s 5ms/step - loss: 0.3896 - accuracy: 0.8160 - val_loss: 0.4791 - val_accuracy: 0.7922\n",
            "Epoch 159/200\n",
            "20/20 [==============================] - 0s 5ms/step - loss: 0.4087 - accuracy: 0.8013 - val_loss: 0.4688 - val_accuracy: 0.7922\n",
            "Epoch 160/200\n",
            "20/20 [==============================] - 0s 4ms/step - loss: 0.3761 - accuracy: 0.8208 - val_loss: 0.4658 - val_accuracy: 0.7922\n",
            "Epoch 161/200\n",
            "20/20 [==============================] - 0s 5ms/step - loss: 0.3881 - accuracy: 0.7997 - val_loss: 0.4636 - val_accuracy: 0.7922\n",
            "Epoch 162/200\n",
            "20/20 [==============================] - 0s 5ms/step - loss: 0.3902 - accuracy: 0.8160 - val_loss: 0.4608 - val_accuracy: 0.7922\n",
            "Epoch 163/200\n",
            "20/20 [==============================] - 0s 5ms/step - loss: 0.3830 - accuracy: 0.8225 - val_loss: 0.4618 - val_accuracy: 0.7727\n",
            "Epoch 164/200\n",
            "20/20 [==============================] - 0s 4ms/step - loss: 0.3965 - accuracy: 0.8208 - val_loss: 0.4671 - val_accuracy: 0.7857\n",
            "Epoch 165/200\n",
            "20/20 [==============================] - 0s 4ms/step - loss: 0.3876 - accuracy: 0.8094 - val_loss: 0.4626 - val_accuracy: 0.7987\n",
            "Epoch 166/200\n",
            "20/20 [==============================] - 0s 5ms/step - loss: 0.4114 - accuracy: 0.8371 - val_loss: 0.4565 - val_accuracy: 0.7922\n",
            "Epoch 167/200\n",
            "20/20 [==============================] - 0s 5ms/step - loss: 0.4017 - accuracy: 0.8029 - val_loss: 0.4655 - val_accuracy: 0.7922\n",
            "Epoch 168/200\n",
            "20/20 [==============================] - 0s 5ms/step - loss: 0.3984 - accuracy: 0.8111 - val_loss: 0.4687 - val_accuracy: 0.7987\n",
            "Epoch 169/200\n",
            "20/20 [==============================] - 0s 5ms/step - loss: 0.3986 - accuracy: 0.8062 - val_loss: 0.4719 - val_accuracy: 0.7922\n",
            "Epoch 170/200\n",
            "20/20 [==============================] - 0s 5ms/step - loss: 0.3890 - accuracy: 0.8094 - val_loss: 0.4734 - val_accuracy: 0.7792\n",
            "Epoch 171/200\n",
            "20/20 [==============================] - 0s 6ms/step - loss: 0.3966 - accuracy: 0.8143 - val_loss: 0.4721 - val_accuracy: 0.7792\n",
            "Epoch 172/200\n",
            "20/20 [==============================] - 0s 6ms/step - loss: 0.3889 - accuracy: 0.8160 - val_loss: 0.4733 - val_accuracy: 0.7727\n",
            "Epoch 173/200\n",
            "20/20 [==============================] - 0s 5ms/step - loss: 0.3856 - accuracy: 0.8404 - val_loss: 0.4725 - val_accuracy: 0.7662\n",
            "Epoch 174/200\n",
            "20/20 [==============================] - 0s 5ms/step - loss: 0.3854 - accuracy: 0.8062 - val_loss: 0.4697 - val_accuracy: 0.7727\n",
            "Epoch 175/200\n",
            "20/20 [==============================] - 0s 4ms/step - loss: 0.4046 - accuracy: 0.8046 - val_loss: 0.4699 - val_accuracy: 0.7792\n",
            "Epoch 176/200\n",
            "20/20 [==============================] - 0s 5ms/step - loss: 0.3984 - accuracy: 0.8143 - val_loss: 0.4698 - val_accuracy: 0.7792\n",
            "Epoch 177/200\n",
            "20/20 [==============================] - 0s 5ms/step - loss: 0.3793 - accuracy: 0.8290 - val_loss: 0.4695 - val_accuracy: 0.7792\n",
            "Epoch 178/200\n",
            "20/20 [==============================] - 0s 4ms/step - loss: 0.3922 - accuracy: 0.8241 - val_loss: 0.4665 - val_accuracy: 0.7792\n",
            "Epoch 179/200\n",
            "20/20 [==============================] - 0s 5ms/step - loss: 0.3704 - accuracy: 0.8290 - val_loss: 0.4666 - val_accuracy: 0.7857\n",
            "Epoch 180/200\n",
            "20/20 [==============================] - 0s 5ms/step - loss: 0.3770 - accuracy: 0.8322 - val_loss: 0.4671 - val_accuracy: 0.7792\n",
            "Epoch 181/200\n",
            "20/20 [==============================] - 0s 5ms/step - loss: 0.3825 - accuracy: 0.8371 - val_loss: 0.4637 - val_accuracy: 0.7792\n",
            "Epoch 182/200\n",
            "20/20 [==============================] - 0s 6ms/step - loss: 0.3841 - accuracy: 0.8160 - val_loss: 0.4686 - val_accuracy: 0.7857\n",
            "Epoch 183/200\n",
            "20/20 [==============================] - 0s 6ms/step - loss: 0.3794 - accuracy: 0.8371 - val_loss: 0.4720 - val_accuracy: 0.7857\n",
            "Epoch 184/200\n",
            "20/20 [==============================] - 0s 5ms/step - loss: 0.3563 - accuracy: 0.8388 - val_loss: 0.4709 - val_accuracy: 0.7727\n",
            "Epoch 185/200\n",
            "20/20 [==============================] - 0s 5ms/step - loss: 0.3793 - accuracy: 0.8225 - val_loss: 0.4694 - val_accuracy: 0.7857\n",
            "Epoch 186/200\n",
            "20/20 [==============================] - 0s 5ms/step - loss: 0.3600 - accuracy: 0.8306 - val_loss: 0.4760 - val_accuracy: 0.7792\n",
            "Epoch 187/200\n",
            "20/20 [==============================] - 0s 5ms/step - loss: 0.3650 - accuracy: 0.8322 - val_loss: 0.4767 - val_accuracy: 0.7857\n",
            "Epoch 188/200\n",
            "20/20 [==============================] - 0s 8ms/step - loss: 0.3801 - accuracy: 0.8078 - val_loss: 0.4758 - val_accuracy: 0.7662\n",
            "Epoch 189/200\n",
            "20/20 [==============================] - 0s 7ms/step - loss: 0.3699 - accuracy: 0.8241 - val_loss: 0.4735 - val_accuracy: 0.7792\n",
            "Epoch 190/200\n",
            "20/20 [==============================] - 0s 7ms/step - loss: 0.3907 - accuracy: 0.8094 - val_loss: 0.4726 - val_accuracy: 0.7727\n",
            "Epoch 191/200\n",
            "20/20 [==============================] - 0s 6ms/step - loss: 0.3680 - accuracy: 0.8192 - val_loss: 0.4734 - val_accuracy: 0.7857\n",
            "Epoch 192/200\n",
            "20/20 [==============================] - 0s 6ms/step - loss: 0.3763 - accuracy: 0.8257 - val_loss: 0.4744 - val_accuracy: 0.7922\n",
            "Epoch 193/200\n",
            "20/20 [==============================] - 0s 7ms/step - loss: 0.3707 - accuracy: 0.8274 - val_loss: 0.4716 - val_accuracy: 0.7922\n",
            "Epoch 194/200\n",
            "20/20 [==============================] - 0s 6ms/step - loss: 0.3764 - accuracy: 0.8306 - val_loss: 0.4729 - val_accuracy: 0.7792\n",
            "Epoch 195/200\n",
            "20/20 [==============================] - 0s 7ms/step - loss: 0.3804 - accuracy: 0.8257 - val_loss: 0.4715 - val_accuracy: 0.7922\n",
            "Epoch 196/200\n",
            "20/20 [==============================] - 0s 7ms/step - loss: 0.3960 - accuracy: 0.8143 - val_loss: 0.4648 - val_accuracy: 0.7792\n",
            "Epoch 197/200\n",
            "20/20 [==============================] - 0s 7ms/step - loss: 0.3709 - accuracy: 0.8176 - val_loss: 0.4586 - val_accuracy: 0.7857\n",
            "Epoch 198/200\n",
            "20/20 [==============================] - 0s 7ms/step - loss: 0.3565 - accuracy: 0.8322 - val_loss: 0.4675 - val_accuracy: 0.7662\n",
            "Epoch 199/200\n",
            "20/20 [==============================] - 0s 6ms/step - loss: 0.3407 - accuracy: 0.8388 - val_loss: 0.4735 - val_accuracy: 0.7857\n",
            "Epoch 200/200\n",
            "20/20 [==============================] - 0s 7ms/step - loss: 0.3583 - accuracy: 0.8208 - val_loss: 0.4764 - val_accuracy: 0.7922\n"
          ]
        },
        {
          "output_type": "execute_result",
          "data": {
            "text/plain": [
              "<keras.src.callbacks.History at 0x7eff131e4df0>"
            ]
          },
          "metadata": {},
          "execution_count": 71
        }
      ]
    },
    {
      "cell_type": "code",
      "source": [
        "model.save('diabestes_model.h5')"
      ],
      "metadata": {
        "colab": {
          "base_uri": "https://localhost:8080/"
        },
        "id": "7UaA3NT0izda",
        "outputId": "40630d30-c12c-45b4-a652-690fc7f97a4d"
      },
      "execution_count": null,
      "outputs": [
        {
          "output_type": "stream",
          "name": "stderr",
          "text": [
            "/usr/local/lib/python3.10/dist-packages/keras/src/engine/training.py:3079: UserWarning: You are saving your model as an HDF5 file via `model.save()`. This file format is considered legacy. We recommend using instead the native Keras format, e.g. `model.save('my_model.keras')`.\n",
            "  saving_api.save_model(\n"
          ]
        }
      ]
    },
    {
      "cell_type": "code",
      "source": [],
      "metadata": {
        "id": "aoRZsmLXlMQz"
      },
      "execution_count": null,
      "outputs": []
    }
  ]
}